{
  "nbformat": 4,
  "nbformat_minor": 0,
  "metadata": {
    "colab": {
      "name": "FIKRI IRFAN ADRISTI_CASE 2_RESTAURANT RECOMMENDATION.ipynb",
      "provenance": [],
      "collapsed_sections": []
    },
    "kernelspec": {
      "display_name": "Python 3",
      "language": "python",
      "name": "python3"
    },
    "language_info": {
      "codemirror_mode": {
        "name": "ipython",
        "version": 3
      },
      "file_extension": ".py",
      "mimetype": "text/x-python",
      "name": "python",
      "nbconvert_exporter": "python",
      "pygments_lexer": "ipython3",
      "version": "3.7.7"
    }
  },
  "cells": [
    {
      "cell_type": "markdown",
      "metadata": {
        "id": "cWDijqRGKn8I"
      },
      "source": [
        "# CAPSTONE PROJECT"
      ]
    },
    {
      "cell_type": "markdown",
      "source": [
        "## CASE 2: RESTAURANT RECOMMENDATION"
      ],
      "metadata": {
        "id": "dufZgwXtBUTs"
      }
    },
    {
      "cell_type": "markdown",
      "source": [
        "## **Judul Capstone Project: Simulasi Analisis Deskriptif Big Data dan Rekomendasinya Pada Perusahaan Restoran (Sebuah Studi Kasus dari Aspek Segmentasi Pasar, Mode Pembayaran, dan Strategi *Procurement*)**"
      ],
      "metadata": {
        "id": "oO2JRKIUK388"
      }
    },
    {
      "cell_type": "markdown",
      "source": [
        "###Nama Penyusun: Fikri Irfan Adristi"
      ],
      "metadata": {
        "id": "hr-tzYAvLGpD"
      }
    },
    {
      "cell_type": "markdown",
      "metadata": {
        "id": "UEnIzR1tlWhB"
      },
      "source": [
        "## Connect Colab to GDrive"
      ]
    },
    {
      "cell_type": "code",
      "metadata": {
        "id": "4Q2pgfwMlbRY",
        "colab": {
          "base_uri": "https://localhost:8080/"
        },
        "outputId": "93e10c23-5578-4e2e-ff8c-a1e382a01bfe"
      },
      "source": [
        "from google.colab import drive\n",
        "drive.mount('/content/gdrive')"
      ],
      "execution_count": 1,
      "outputs": [
        {
          "output_type": "stream",
          "name": "stdout",
          "text": [
            "Mounted at /content/gdrive\n"
          ]
        }
      ]
    },
    {
      "cell_type": "markdown",
      "metadata": {
        "id": "M6YWX-NtKn8K"
      },
      "source": [
        "## IMPORT PACKAGES"
      ]
    },
    {
      "cell_type": "code",
      "metadata": {
        "id": "MHUsnon5l5yo"
      },
      "source": [
        "# Import packages os, pandas, dan numpy untuk manajemen serta analisis data\n",
        "import os\n",
        "import pandas as pd\n",
        "import numpy as np\n",
        "\n",
        "\n",
        "# Library untuk visualisasi\n",
        "import matplotlib.pyplot as plt\n",
        "\n",
        "#import SQLite library\n",
        "import sqlite3"
      ],
      "execution_count": 2,
      "outputs": []
    },
    {
      "cell_type": "markdown",
      "metadata": {
        "id": "TmfuYV3clcWk"
      },
      "source": [
        "## Connect SQLite to Python"
      ]
    },
    {
      "cell_type": "code",
      "metadata": {
        "id": "v31KzqKnling"
      },
      "source": [
        "# Mendefinisikan path dan data sesuai folder GDrive dimana file dataset penyusun project disimpan\n",
        "path = '/content/gdrive/MyDrive/Narasio/Meet 12 - Capstone Project/Dataset Capstone Project '\n",
        "dataset = '/content/gdrive/MyDrive/Narasio/Meet 12 - Capstone Project/Dataset Capstone Project /Restaurant_Dataset.db'"
      ],
      "execution_count": 3,
      "outputs": []
    },
    {
      "cell_type": "markdown",
      "metadata": {
        "id": "031LDaaFlk2t"
      },
      "source": [
        "## Data Preparation Using SQL"
      ]
    },
    {
      "cell_type": "code",
      "metadata": {
        "id": "RjnGaIillubA",
        "colab": {
          "base_uri": "https://localhost:8080/"
        },
        "outputId": "aeef4f14-7461-4f31-ee3c-922f45d2316a"
      },
      "source": [
        "# Cek isi direktori file\n",
        "os.listdir(path)"
      ],
      "execution_count": 4,
      "outputs": [
        {
          "output_type": "execute_result",
          "data": {
            "text/plain": [
              "['Restaurant_Dataset.db']"
            ]
          },
          "metadata": {},
          "execution_count": 4
        }
      ]
    },
    {
      "cell_type": "code",
      "source": [
        "# Kemudian membuat connection ke database yang ada\n",
        "conn = sqlite3.connect(dataset)\n",
        "\n",
        "# Membuat cursor object untuk memanggil SQL statement\n",
        "cur = conn.cursor()"
      ],
      "metadata": {
        "id": "Vf0Fiz5VTQAD"
      },
      "execution_count": 5,
      "outputs": []
    },
    {
      "cell_type": "code",
      "source": [
        "# Lalu penyusun project melakukan execute SQL statement. Pada tahapan ini penyusun akan mengecek tabel apa saja yang terdapat di Restaurant_Dataset.db\n",
        "cur.execute(\"\"\"\n",
        "              SELECT \n",
        "                  name \n",
        "              FROM sqlite_master \n",
        "              WHERE type='table'\n",
        "            \"\"\")\n",
        "\n",
        "print(cur.fetchall())"
      ],
      "metadata": {
        "colab": {
          "base_uri": "https://localhost:8080/"
        },
        "id": "hGwZ_qgSTgPM",
        "outputId": "d83dc848-8acd-4219-ca64-6b6997c5c76f"
      },
      "execution_count": 6,
      "outputs": [
        {
          "output_type": "stream",
          "name": "stdout",
          "text": [
            "[('Orders',), ('Customers',), ('Vendors',), ('Locations',)]\n"
          ]
        }
      ]
    },
    {
      "cell_type": "code",
      "source": [
        "# Mendapatkan data Orders\n",
        "pd.read_sql_query(\"\"\"\n",
        "                    SELECT \n",
        "                        *\n",
        "                    FROM Orders\n",
        "                  \"\"\", conn)"
      ],
      "metadata": {
        "colab": {
          "base_uri": "https://localhost:8080/",
          "height": 617
        },
        "id": "HYRXkuFKmnz9",
        "outputId": "54e42f5b-4aee-4ba2-fa5e-df16fb673aeb"
      },
      "execution_count": 7,
      "outputs": [
        {
          "output_type": "execute_result",
          "data": {
            "text/html": [
              "<div>\n",
              "<style scoped>\n",
              "    .dataframe tbody tr th:only-of-type {\n",
              "        vertical-align: middle;\n",
              "    }\n",
              "\n",
              "    .dataframe tbody tr th {\n",
              "        vertical-align: top;\n",
              "    }\n",
              "\n",
              "    .dataframe thead th {\n",
              "        text-align: right;\n",
              "    }\n",
              "</style>\n",
              "<table border=\"1\" class=\"dataframe\">\n",
              "  <thead>\n",
              "    <tr style=\"text-align: right;\">\n",
              "      <th></th>\n",
              "      <th>order_id</th>\n",
              "      <th>customer_id</th>\n",
              "      <th>item_count</th>\n",
              "      <th>grand_total</th>\n",
              "      <th>payment_mode</th>\n",
              "      <th>is_favorite</th>\n",
              "      <th>is_rated</th>\n",
              "      <th>driver_rating</th>\n",
              "      <th>deliverydistance</th>\n",
              "      <th>vendor_id</th>\n",
              "      <th>created_at</th>\n",
              "      <th>LOCATION_NUMBER</th>\n",
              "    </tr>\n",
              "  </thead>\n",
              "  <tbody>\n",
              "    <tr>\n",
              "      <th>0</th>\n",
              "      <td>163241.0</td>\n",
              "      <td>9ZTJB1L</td>\n",
              "      <td>2.0</td>\n",
              "      <td>14.4</td>\n",
              "      <td>1</td>\n",
              "      <td>Yes</td>\n",
              "      <td>No</td>\n",
              "      <td>0.0</td>\n",
              "      <td>0.00</td>\n",
              "      <td>83</td>\n",
              "      <td>2019-08-01 05:31:33</td>\n",
              "      <td>0</td>\n",
              "    </tr>\n",
              "    <tr>\n",
              "      <th>1</th>\n",
              "      <td>163246.0</td>\n",
              "      <td>6C7D1O2</td>\n",
              "      <td>3.0</td>\n",
              "      <td>18.2</td>\n",
              "      <td>2</td>\n",
              "      <td>Yes</td>\n",
              "      <td>No</td>\n",
              "      <td>0.0</td>\n",
              "      <td>0.00</td>\n",
              "      <td>83</td>\n",
              "      <td>2019-08-01 05:37:05</td>\n",
              "      <td>0</td>\n",
              "    </tr>\n",
              "    <tr>\n",
              "      <th>2</th>\n",
              "      <td>163265.0</td>\n",
              "      <td>VCBBSUB</td>\n",
              "      <td>1.0</td>\n",
              "      <td>4.6</td>\n",
              "      <td>1</td>\n",
              "      <td>Yes</td>\n",
              "      <td>No</td>\n",
              "      <td>0.0</td>\n",
              "      <td>0.00</td>\n",
              "      <td>78</td>\n",
              "      <td>2019-08-01 06:03:59</td>\n",
              "      <td>0</td>\n",
              "    </tr>\n",
              "    <tr>\n",
              "      <th>3</th>\n",
              "      <td>163274.0</td>\n",
              "      <td>ZBNP36W</td>\n",
              "      <td>1.0</td>\n",
              "      <td>5.7</td>\n",
              "      <td>1</td>\n",
              "      <td>Yes</td>\n",
              "      <td>No</td>\n",
              "      <td>0.0</td>\n",
              "      <td>0.00</td>\n",
              "      <td>195</td>\n",
              "      <td>2019-08-01 06:34:38</td>\n",
              "      <td>0</td>\n",
              "    </tr>\n",
              "    <tr>\n",
              "      <th>4</th>\n",
              "      <td>163321.0</td>\n",
              "      <td>BJ1GYQY</td>\n",
              "      <td>2.0</td>\n",
              "      <td>15.8</td>\n",
              "      <td>1</td>\n",
              "      <td>Yes</td>\n",
              "      <td>No</td>\n",
              "      <td>0.0</td>\n",
              "      <td>0.00</td>\n",
              "      <td>75</td>\n",
              "      <td>2019-08-01 17:06:17</td>\n",
              "      <td>0</td>\n",
              "    </tr>\n",
              "    <tr>\n",
              "      <th>...</th>\n",
              "      <td>...</td>\n",
              "      <td>...</td>\n",
              "      <td>...</td>\n",
              "      <td>...</td>\n",
              "      <td>...</td>\n",
              "      <td>...</td>\n",
              "      <td>...</td>\n",
              "      <td>...</td>\n",
              "      <td>...</td>\n",
              "      <td>...</td>\n",
              "      <td>...</td>\n",
              "      <td>...</td>\n",
              "    </tr>\n",
              "    <tr>\n",
              "      <th>9763</th>\n",
              "      <td>415158.0</td>\n",
              "      <td>68KNG50</td>\n",
              "      <td>2.0</td>\n",
              "      <td>28.1</td>\n",
              "      <td>1</td>\n",
              "      <td>No</td>\n",
              "      <td>No</td>\n",
              "      <td>0.0</td>\n",
              "      <td>12.03</td>\n",
              "      <td>356</td>\n",
              "      <td>2020-02-29 22:17:02</td>\n",
              "      <td>0</td>\n",
              "    </tr>\n",
              "    <tr>\n",
              "      <th>9764</th>\n",
              "      <td>415165.0</td>\n",
              "      <td>E4G7O87</td>\n",
              "      <td>1.0</td>\n",
              "      <td>5.4</td>\n",
              "      <td>2</td>\n",
              "      <td>No</td>\n",
              "      <td>No</td>\n",
              "      <td>0.0</td>\n",
              "      <td>6.88</td>\n",
              "      <td>401</td>\n",
              "      <td>2020-02-29 22:17:22</td>\n",
              "      <td>0</td>\n",
              "    </tr>\n",
              "    <tr>\n",
              "      <th>9765</th>\n",
              "      <td>415198.0</td>\n",
              "      <td>BAOSFJQ</td>\n",
              "      <td>1.0</td>\n",
              "      <td>5.4</td>\n",
              "      <td>4</td>\n",
              "      <td>No</td>\n",
              "      <td>No</td>\n",
              "      <td>0.0</td>\n",
              "      <td>8.89</td>\n",
              "      <td>160</td>\n",
              "      <td>2020-02-29 22:23:59</td>\n",
              "      <td>0</td>\n",
              "    </tr>\n",
              "    <tr>\n",
              "      <th>9766</th>\n",
              "      <td>415310.0</td>\n",
              "      <td>89BFAER</td>\n",
              "      <td>4.0</td>\n",
              "      <td>16.9</td>\n",
              "      <td>2</td>\n",
              "      <td>No</td>\n",
              "      <td>No</td>\n",
              "      <td>0.0</td>\n",
              "      <td>4.82</td>\n",
              "      <td>79</td>\n",
              "      <td>2020-02-29 22:45:28</td>\n",
              "      <td>2</td>\n",
              "    </tr>\n",
              "    <tr>\n",
              "      <th>9767</th>\n",
              "      <td>415515.0</td>\n",
              "      <td>2WEB9E7</td>\n",
              "      <td>1.0</td>\n",
              "      <td>6.8</td>\n",
              "      <td>2</td>\n",
              "      <td>No</td>\n",
              "      <td>No</td>\n",
              "      <td>0.0</td>\n",
              "      <td>3.92</td>\n",
              "      <td>79</td>\n",
              "      <td>2020-02-29 23:52:14</td>\n",
              "      <td>4</td>\n",
              "    </tr>\n",
              "  </tbody>\n",
              "</table>\n",
              "<p>9768 rows × 12 columns</p>\n",
              "</div>"
            ],
            "text/plain": [
              "      order_id customer_id  ...           created_at  LOCATION_NUMBER\n",
              "0     163241.0     9ZTJB1L  ...  2019-08-01 05:31:33                0\n",
              "1     163246.0     6C7D1O2  ...  2019-08-01 05:37:05                0\n",
              "2     163265.0     VCBBSUB  ...  2019-08-01 06:03:59                0\n",
              "3     163274.0     ZBNP36W  ...  2019-08-01 06:34:38                0\n",
              "4     163321.0     BJ1GYQY  ...  2019-08-01 17:06:17                0\n",
              "...        ...         ...  ...                  ...              ...\n",
              "9763  415158.0     68KNG50  ...  2020-02-29 22:17:02                0\n",
              "9764  415165.0     E4G7O87  ...  2020-02-29 22:17:22                0\n",
              "9765  415198.0     BAOSFJQ  ...  2020-02-29 22:23:59                0\n",
              "9766  415310.0     89BFAER  ...  2020-02-29 22:45:28                2\n",
              "9767  415515.0     2WEB9E7  ...  2020-02-29 23:52:14                4\n",
              "\n",
              "[9768 rows x 12 columns]"
            ]
          },
          "metadata": {},
          "execution_count": 7
        }
      ]
    },
    {
      "cell_type": "code",
      "source": [
        "# Mendapatkan data Customers\n",
        "pd.read_sql_query(\"\"\"\n",
        "                    SELECT \n",
        "                        *\n",
        "                    FROM Customers\n",
        "                  \"\"\", conn)"
      ],
      "metadata": {
        "colab": {
          "base_uri": "https://localhost:8080/",
          "height": 424
        },
        "id": "U_8DKRTsqoWF",
        "outputId": "18efa4f8-834b-45ac-a917-c120ab9c12bb"
      },
      "execution_count": 8,
      "outputs": [
        {
          "output_type": "execute_result",
          "data": {
            "text/html": [
              "<div>\n",
              "<style scoped>\n",
              "    .dataframe tbody tr th:only-of-type {\n",
              "        vertical-align: middle;\n",
              "    }\n",
              "\n",
              "    .dataframe tbody tr th {\n",
              "        vertical-align: top;\n",
              "    }\n",
              "\n",
              "    .dataframe thead th {\n",
              "        text-align: right;\n",
              "    }\n",
              "</style>\n",
              "<table border=\"1\" class=\"dataframe\">\n",
              "  <thead>\n",
              "    <tr style=\"text-align: right;\">\n",
              "      <th></th>\n",
              "      <th>customer_id</th>\n",
              "      <th>gender</th>\n",
              "      <th>dob</th>\n",
              "      <th>status</th>\n",
              "      <th>verified</th>\n",
              "      <th>created_at</th>\n",
              "      <th>updated_at</th>\n",
              "    </tr>\n",
              "  </thead>\n",
              "  <tbody>\n",
              "    <tr>\n",
              "      <th>0</th>\n",
              "      <td>ICE2DJP</td>\n",
              "      <td>male</td>\n",
              "      <td>2006</td>\n",
              "      <td>1</td>\n",
              "      <td>1</td>\n",
              "      <td>2018-02-07 16:45:36</td>\n",
              "      <td>2018-02-07 16:45:36</td>\n",
              "    </tr>\n",
              "    <tr>\n",
              "      <th>1</th>\n",
              "      <td>FWNUI71</td>\n",
              "      <td>male</td>\n",
              "      <td>2007</td>\n",
              "      <td>1</td>\n",
              "      <td>1</td>\n",
              "      <td>2018-03-22 20:11:47</td>\n",
              "      <td>2018-03-22 20:11:47</td>\n",
              "    </tr>\n",
              "    <tr>\n",
              "      <th>2</th>\n",
              "      <td>LRX7BCH</td>\n",
              "      <td>male</td>\n",
              "      <td>1992</td>\n",
              "      <td>1</td>\n",
              "      <td>1</td>\n",
              "      <td>2018-04-17 20:01:15</td>\n",
              "      <td>2018-04-17 20:01:15</td>\n",
              "    </tr>\n",
              "    <tr>\n",
              "      <th>3</th>\n",
              "      <td>D96DHMD</td>\n",
              "      <td>male</td>\n",
              "      <td>1999</td>\n",
              "      <td>1</td>\n",
              "      <td>1</td>\n",
              "      <td>2018-04-29 22:35:52</td>\n",
              "      <td>2018-04-29 22:35:52</td>\n",
              "    </tr>\n",
              "    <tr>\n",
              "      <th>4</th>\n",
              "      <td>88Q8Y5V</td>\n",
              "      <td>male</td>\n",
              "      <td>1997</td>\n",
              "      <td>1</td>\n",
              "      <td>1</td>\n",
              "      <td>2018-05-05 12:38:09</td>\n",
              "      <td>2018-05-05 12:38:09</td>\n",
              "    </tr>\n",
              "    <tr>\n",
              "      <th>...</th>\n",
              "      <td>...</td>\n",
              "      <td>...</td>\n",
              "      <td>...</td>\n",
              "      <td>...</td>\n",
              "      <td>...</td>\n",
              "      <td>...</td>\n",
              "      <td>...</td>\n",
              "    </tr>\n",
              "    <tr>\n",
              "      <th>9763</th>\n",
              "      <td>369I4YD</td>\n",
              "      <td>female</td>\n",
              "      <td>2002</td>\n",
              "      <td>1</td>\n",
              "      <td>1</td>\n",
              "      <td>2020-03-03 12:03:03</td>\n",
              "      <td>2020-03-03 12:03:16</td>\n",
              "    </tr>\n",
              "    <tr>\n",
              "      <th>9764</th>\n",
              "      <td>VUOXW5K</td>\n",
              "      <td>female</td>\n",
              "      <td>1991</td>\n",
              "      <td>1</td>\n",
              "      <td>1</td>\n",
              "      <td>2020-03-03 12:17:09</td>\n",
              "      <td>2020-03-03 14:04:41</td>\n",
              "    </tr>\n",
              "    <tr>\n",
              "      <th>9765</th>\n",
              "      <td>H1S2T2Y</td>\n",
              "      <td>female</td>\n",
              "      <td>2001</td>\n",
              "      <td>1</td>\n",
              "      <td>1</td>\n",
              "      <td>2020-03-03 12:23:20</td>\n",
              "      <td>2020-03-03 12:24:20</td>\n",
              "    </tr>\n",
              "    <tr>\n",
              "      <th>9766</th>\n",
              "      <td>QGPCD5S</td>\n",
              "      <td>female</td>\n",
              "      <td>1996</td>\n",
              "      <td>1</td>\n",
              "      <td>1</td>\n",
              "      <td>2020-03-03 13:18:23</td>\n",
              "      <td>2020-03-03 13:18:39</td>\n",
              "    </tr>\n",
              "    <tr>\n",
              "      <th>9767</th>\n",
              "      <td>RMPE9Z1</td>\n",
              "      <td>female</td>\n",
              "      <td>2004</td>\n",
              "      <td>1</td>\n",
              "      <td>1</td>\n",
              "      <td>2020-03-03 13:40:30</td>\n",
              "      <td>2020-03-03 13:40:40</td>\n",
              "    </tr>\n",
              "  </tbody>\n",
              "</table>\n",
              "<p>9768 rows × 7 columns</p>\n",
              "</div>"
            ],
            "text/plain": [
              "     customer_id  gender  ...           created_at           updated_at\n",
              "0        ICE2DJP    male  ...  2018-02-07 16:45:36  2018-02-07 16:45:36\n",
              "1        FWNUI71    male  ...  2018-03-22 20:11:47  2018-03-22 20:11:47\n",
              "2        LRX7BCH    male  ...  2018-04-17 20:01:15  2018-04-17 20:01:15\n",
              "3        D96DHMD    male  ...  2018-04-29 22:35:52  2018-04-29 22:35:52\n",
              "4        88Q8Y5V    male  ...  2018-05-05 12:38:09  2018-05-05 12:38:09\n",
              "...          ...     ...  ...                  ...                  ...\n",
              "9763     369I4YD  female  ...  2020-03-03 12:03:03  2020-03-03 12:03:16\n",
              "9764     VUOXW5K  female  ...  2020-03-03 12:17:09  2020-03-03 14:04:41\n",
              "9765     H1S2T2Y  female  ...  2020-03-03 12:23:20  2020-03-03 12:24:20\n",
              "9766     QGPCD5S  female  ...  2020-03-03 13:18:23  2020-03-03 13:18:39\n",
              "9767     RMPE9Z1  female  ...  2020-03-03 13:40:30  2020-03-03 13:40:40\n",
              "\n",
              "[9768 rows x 7 columns]"
            ]
          },
          "metadata": {},
          "execution_count": 8
        }
      ]
    },
    {
      "cell_type": "code",
      "source": [
        "# Mendapatkan data Vendors\n",
        "pd.read_sql_query(\"\"\"\n",
        "                    SELECT \n",
        "                        *\n",
        "                    FROM Vendors\n",
        "                  \"\"\", conn)"
      ],
      "metadata": {
        "colab": {
          "base_uri": "https://localhost:8080/",
          "height": 617
        },
        "id": "K0UF0VTZqrmt",
        "outputId": "24ab59e5-ca2b-470f-e165-cb2dd1492d2f"
      },
      "execution_count": 9,
      "outputs": [
        {
          "output_type": "execute_result",
          "data": {
            "text/html": [
              "<div>\n",
              "<style scoped>\n",
              "    .dataframe tbody tr th:only-of-type {\n",
              "        vertical-align: middle;\n",
              "    }\n",
              "\n",
              "    .dataframe tbody tr th {\n",
              "        vertical-align: top;\n",
              "    }\n",
              "\n",
              "    .dataframe thead th {\n",
              "        text-align: right;\n",
              "    }\n",
              "</style>\n",
              "<table border=\"1\" class=\"dataframe\">\n",
              "  <thead>\n",
              "    <tr style=\"text-align: right;\">\n",
              "      <th></th>\n",
              "      <th>vendor_id</th>\n",
              "      <th>authentication_id</th>\n",
              "      <th>latitude</th>\n",
              "      <th>longitude</th>\n",
              "      <th>vendor_category_en</th>\n",
              "      <th>delivery_charge</th>\n",
              "      <th>serving_distance</th>\n",
              "      <th>is_open</th>\n",
              "      <th>OpeningTime</th>\n",
              "      <th>prepration_time</th>\n",
              "      <th>discount_percentage</th>\n",
              "      <th>status</th>\n",
              "      <th>verified</th>\n",
              "      <th>rank</th>\n",
              "      <th>vendor_rating</th>\n",
              "      <th>vendor_tag</th>\n",
              "      <th>vendor_tag_name</th>\n",
              "      <th>created_at</th>\n",
              "      <th>updated_at</th>\n",
              "      <th>device_type</th>\n",
              "    </tr>\n",
              "  </thead>\n",
              "  <tbody>\n",
              "    <tr>\n",
              "      <th>0</th>\n",
              "      <td>4</td>\n",
              "      <td>118597.0</td>\n",
              "      <td>-0.588596</td>\n",
              "      <td>0.754434</td>\n",
              "      <td>Restaurants</td>\n",
              "      <td>0.0</td>\n",
              "      <td>6.0</td>\n",
              "      <td>1.0</td>\n",
              "      <td>11:00AM-11:30PM</td>\n",
              "      <td>15</td>\n",
              "      <td>0.0</td>\n",
              "      <td>1.0</td>\n",
              "      <td>1</td>\n",
              "      <td>11</td>\n",
              "      <td>4.4</td>\n",
              "      <td>2,4,5,8,91,22,12,24,16,23</td>\n",
              "      <td>Arabic,Breakfast,Burgers,Desserts,Free Deliver...</td>\n",
              "      <td>2018-01-30 14:42:04</td>\n",
              "      <td>2020-04-07 15:12:43</td>\n",
              "      <td>3</td>\n",
              "    </tr>\n",
              "    <tr>\n",
              "      <th>1</th>\n",
              "      <td>13</td>\n",
              "      <td>118608.0</td>\n",
              "      <td>-0.471654</td>\n",
              "      <td>0.744470</td>\n",
              "      <td>Restaurants</td>\n",
              "      <td>0.7</td>\n",
              "      <td>5.0</td>\n",
              "      <td>1.0</td>\n",
              "      <td>08:30AM-10:30PM</td>\n",
              "      <td>14</td>\n",
              "      <td>0.0</td>\n",
              "      <td>1.0</td>\n",
              "      <td>1</td>\n",
              "      <td>11</td>\n",
              "      <td>4.7</td>\n",
              "      <td>4,41,51,34,27,15,24,16,28</td>\n",
              "      <td>Breakfast,Cakes,Crepes,Italian,Pasta,Pizzas,Sa...</td>\n",
              "      <td>2018-05-03 12:32:06</td>\n",
              "      <td>2020-04-05 20:46:03</td>\n",
              "      <td>3</td>\n",
              "    </tr>\n",
              "    <tr>\n",
              "      <th>2</th>\n",
              "      <td>20</td>\n",
              "      <td>118616.0</td>\n",
              "      <td>-0.407527</td>\n",
              "      <td>0.643681</td>\n",
              "      <td>Restaurants</td>\n",
              "      <td>0.0</td>\n",
              "      <td>8.0</td>\n",
              "      <td>1.0</td>\n",
              "      <td>08:00AM-10:45PM</td>\n",
              "      <td>19</td>\n",
              "      <td>0.0</td>\n",
              "      <td>1.0</td>\n",
              "      <td>1</td>\n",
              "      <td>1</td>\n",
              "      <td>4.5</td>\n",
              "      <td>4,8,91,10</td>\n",
              "      <td>Breakfast,Desserts,Free Delivery,Indian</td>\n",
              "      <td>2018-05-04 22:28:22</td>\n",
              "      <td>2020-04-07 16:35:55</td>\n",
              "      <td>3</td>\n",
              "    </tr>\n",
              "    <tr>\n",
              "      <th>3</th>\n",
              "      <td>23</td>\n",
              "      <td>118619.0</td>\n",
              "      <td>-0.585385</td>\n",
              "      <td>0.753811</td>\n",
              "      <td>Restaurants</td>\n",
              "      <td>0.0</td>\n",
              "      <td>5.0</td>\n",
              "      <td>1.0</td>\n",
              "      <td>10:59AM-10:30PM</td>\n",
              "      <td>16</td>\n",
              "      <td>0.0</td>\n",
              "      <td>1.0</td>\n",
              "      <td>1</td>\n",
              "      <td>11</td>\n",
              "      <td>4.5</td>\n",
              "      <td>5,8,30,24</td>\n",
              "      <td>Burgers,Desserts,Fries,Salads</td>\n",
              "      <td>2018-05-06 19:20:48</td>\n",
              "      <td>2020-04-02 00:56:17</td>\n",
              "      <td>3</td>\n",
              "    </tr>\n",
              "    <tr>\n",
              "      <th>4</th>\n",
              "      <td>28</td>\n",
              "      <td>118624.0</td>\n",
              "      <td>0.480602</td>\n",
              "      <td>0.552850</td>\n",
              "      <td>Restaurants</td>\n",
              "      <td>0.7</td>\n",
              "      <td>15.0</td>\n",
              "      <td>1.0</td>\n",
              "      <td>11:00AM-11:45PM</td>\n",
              "      <td>10</td>\n",
              "      <td>0.0</td>\n",
              "      <td>1.0</td>\n",
              "      <td>1</td>\n",
              "      <td>11</td>\n",
              "      <td>4.4</td>\n",
              "      <td>5</td>\n",
              "      <td>Burgers</td>\n",
              "      <td>2018-05-17 22:12:38</td>\n",
              "      <td>2020-04-05 15:57:41</td>\n",
              "      <td>3</td>\n",
              "    </tr>\n",
              "    <tr>\n",
              "      <th>...</th>\n",
              "      <td>...</td>\n",
              "      <td>...</td>\n",
              "      <td>...</td>\n",
              "      <td>...</td>\n",
              "      <td>...</td>\n",
              "      <td>...</td>\n",
              "      <td>...</td>\n",
              "      <td>...</td>\n",
              "      <td>...</td>\n",
              "      <td>...</td>\n",
              "      <td>...</td>\n",
              "      <td>...</td>\n",
              "      <td>...</td>\n",
              "      <td>...</td>\n",
              "      <td>...</td>\n",
              "      <td>...</td>\n",
              "      <td>...</td>\n",
              "      <td>...</td>\n",
              "      <td>...</td>\n",
              "      <td>...</td>\n",
              "    </tr>\n",
              "    <tr>\n",
              "      <th>95</th>\n",
              "      <td>849</td>\n",
              "      <td>130455.0</td>\n",
              "      <td>-1.588060</td>\n",
              "      <td>-0.066441</td>\n",
              "      <td>Restaurants</td>\n",
              "      <td>0.0</td>\n",
              "      <td>10.0</td>\n",
              "      <td>1.0</td>\n",
              "      <td>None</td>\n",
              "      <td>10</td>\n",
              "      <td>0.0</td>\n",
              "      <td>1.0</td>\n",
              "      <td>1</td>\n",
              "      <td>1</td>\n",
              "      <td>4.1</td>\n",
              "      <td>1,4,5,6,8,91,30,43,48,24</td>\n",
              "      <td>American,Breakfast,Burgers,Cafe,Desserts,Free ...</td>\n",
              "      <td>2019-12-21 12:47:39</td>\n",
              "      <td>2020-04-07 20:01:33</td>\n",
              "      <td>3</td>\n",
              "    </tr>\n",
              "    <tr>\n",
              "      <th>96</th>\n",
              "      <td>855</td>\n",
              "      <td>130463.0</td>\n",
              "      <td>2.145206</td>\n",
              "      <td>0.745025</td>\n",
              "      <td>Restaurants</td>\n",
              "      <td>0.0</td>\n",
              "      <td>8.0</td>\n",
              "      <td>1.0</td>\n",
              "      <td>None</td>\n",
              "      <td>10</td>\n",
              "      <td>0.0</td>\n",
              "      <td>1.0</td>\n",
              "      <td>1</td>\n",
              "      <td>1</td>\n",
              "      <td>4.2</td>\n",
              "      <td>1,5,8,91,30,48,24</td>\n",
              "      <td>American,Burgers,Desserts,Free Delivery,Fries,...</td>\n",
              "      <td>2019-12-21 13:02:32</td>\n",
              "      <td>2020-04-07 01:50:41</td>\n",
              "      <td>3</td>\n",
              "    </tr>\n",
              "    <tr>\n",
              "      <th>97</th>\n",
              "      <td>856</td>\n",
              "      <td>130464.0</td>\n",
              "      <td>0.251469</td>\n",
              "      <td>0.483632</td>\n",
              "      <td>Restaurants</td>\n",
              "      <td>0.0</td>\n",
              "      <td>7.0</td>\n",
              "      <td>1.0</td>\n",
              "      <td>None</td>\n",
              "      <td>10</td>\n",
              "      <td>0.0</td>\n",
              "      <td>1.0</td>\n",
              "      <td>1</td>\n",
              "      <td>11</td>\n",
              "      <td>4.3</td>\n",
              "      <td>1,4,5,6,8,91,30,43,48,24</td>\n",
              "      <td>American,Breakfast,Burgers,Cafe,Desserts,Free ...</td>\n",
              "      <td>2019-12-21 13:04:34</td>\n",
              "      <td>2020-04-06 23:53:16</td>\n",
              "      <td>3</td>\n",
              "    </tr>\n",
              "    <tr>\n",
              "      <th>98</th>\n",
              "      <td>858</td>\n",
              "      <td>130468.0</td>\n",
              "      <td>0.019817</td>\n",
              "      <td>0.587087</td>\n",
              "      <td>Restaurants</td>\n",
              "      <td>0.0</td>\n",
              "      <td>3.0</td>\n",
              "      <td>1.0</td>\n",
              "      <td>None</td>\n",
              "      <td>10</td>\n",
              "      <td>0.0</td>\n",
              "      <td>1.0</td>\n",
              "      <td>1</td>\n",
              "      <td>11</td>\n",
              "      <td>4.2</td>\n",
              "      <td>1,4,5,6,8,91,30,43,48,24</td>\n",
              "      <td>American,Breakfast,Burgers,Cafe,Desserts,Free ...</td>\n",
              "      <td>2019-12-21 13:12:09</td>\n",
              "      <td>2020-04-07 14:26:08</td>\n",
              "      <td>3</td>\n",
              "    </tr>\n",
              "    <tr>\n",
              "      <th>99</th>\n",
              "      <td>907</td>\n",
              "      <td>132953.0</td>\n",
              "      <td>13.335131</td>\n",
              "      <td>-1.449556</td>\n",
              "      <td>Restaurants</td>\n",
              "      <td>0.7</td>\n",
              "      <td>12.0</td>\n",
              "      <td>1.0</td>\n",
              "      <td>None</td>\n",
              "      <td>20</td>\n",
              "      <td>0.0</td>\n",
              "      <td>1.0</td>\n",
              "      <td>1</td>\n",
              "      <td>11</td>\n",
              "      <td>4.3</td>\n",
              "      <td>46,52,16</td>\n",
              "      <td>Fatayers,Mojitos ,Sandwiches</td>\n",
              "      <td>2020-01-05 18:56:58</td>\n",
              "      <td>2020-04-06 23:49:52</td>\n",
              "      <td>3</td>\n",
              "    </tr>\n",
              "  </tbody>\n",
              "</table>\n",
              "<p>100 rows × 20 columns</p>\n",
              "</div>"
            ],
            "text/plain": [
              "    vendor_id  authentication_id  ...           updated_at  device_type\n",
              "0           4           118597.0  ...  2020-04-07 15:12:43            3\n",
              "1          13           118608.0  ...  2020-04-05 20:46:03            3\n",
              "2          20           118616.0  ...  2020-04-07 16:35:55            3\n",
              "3          23           118619.0  ...  2020-04-02 00:56:17            3\n",
              "4          28           118624.0  ...  2020-04-05 15:57:41            3\n",
              "..        ...                ...  ...                  ...          ...\n",
              "95        849           130455.0  ...  2020-04-07 20:01:33            3\n",
              "96        855           130463.0  ...  2020-04-07 01:50:41            3\n",
              "97        856           130464.0  ...  2020-04-06 23:53:16            3\n",
              "98        858           130468.0  ...  2020-04-07 14:26:08            3\n",
              "99        907           132953.0  ...  2020-04-06 23:49:52            3\n",
              "\n",
              "[100 rows x 20 columns]"
            ]
          },
          "metadata": {},
          "execution_count": 9
        }
      ]
    },
    {
      "cell_type": "code",
      "source": [
        "# Mendapatkan data Locations\n",
        "pd.read_sql_query(\"\"\"\n",
        "                    SELECT \n",
        "                        *\n",
        "                    FROM Locations\n",
        "                  \"\"\", conn)"
      ],
      "metadata": {
        "colab": {
          "base_uri": "https://localhost:8080/",
          "height": 424
        },
        "id": "7ylLgZyfqu-j",
        "outputId": "d84fb9ca-98c8-4380-fd1a-e400b94c1f01"
      },
      "execution_count": 11,
      "outputs": [
        {
          "output_type": "execute_result",
          "data": {
            "text/html": [
              "<div>\n",
              "<style scoped>\n",
              "    .dataframe tbody tr th:only-of-type {\n",
              "        vertical-align: middle;\n",
              "    }\n",
              "\n",
              "    .dataframe tbody tr th {\n",
              "        vertical-align: top;\n",
              "    }\n",
              "\n",
              "    .dataframe thead th {\n",
              "        text-align: right;\n",
              "    }\n",
              "</style>\n",
              "<table border=\"1\" class=\"dataframe\">\n",
              "  <thead>\n",
              "    <tr style=\"text-align: right;\">\n",
              "      <th></th>\n",
              "      <th>customer_id</th>\n",
              "      <th>location_number</th>\n",
              "      <th>latitude</th>\n",
              "      <th>longitude</th>\n",
              "    </tr>\n",
              "  </thead>\n",
              "  <tbody>\n",
              "    <tr>\n",
              "      <th>0</th>\n",
              "      <td>QINKB6H</td>\n",
              "      <td>0</td>\n",
              "      <td>126.032278</td>\n",
              "      <td>-9.106019</td>\n",
              "    </tr>\n",
              "    <tr>\n",
              "      <th>1</th>\n",
              "      <td>EQ4S6SE</td>\n",
              "      <td>0</td>\n",
              "      <td>0.278709</td>\n",
              "      <td>-78.623847</td>\n",
              "    </tr>\n",
              "    <tr>\n",
              "      <th>2</th>\n",
              "      <td>4673534</td>\n",
              "      <td>1</td>\n",
              "      <td>0.124485</td>\n",
              "      <td>-78.605621</td>\n",
              "    </tr>\n",
              "    <tr>\n",
              "      <th>3</th>\n",
              "      <td>OQA6IMF</td>\n",
              "      <td>2</td>\n",
              "      <td>-0.113891</td>\n",
              "      <td>-78.577449</td>\n",
              "    </tr>\n",
              "    <tr>\n",
              "      <th>4</th>\n",
              "      <td>9NQE2MO</td>\n",
              "      <td>3</td>\n",
              "      <td>-0.848796</td>\n",
              "      <td>0.136726</td>\n",
              "    </tr>\n",
              "    <tr>\n",
              "      <th>...</th>\n",
              "      <td>...</td>\n",
              "      <td>...</td>\n",
              "      <td>...</td>\n",
              "      <td>...</td>\n",
              "    </tr>\n",
              "    <tr>\n",
              "      <th>16715</th>\n",
              "      <td>X6XDZT9</td>\n",
              "      <td>4</td>\n",
              "      <td>-0.197722</td>\n",
              "      <td>0.609199</td>\n",
              "    </tr>\n",
              "    <tr>\n",
              "      <th>16716</th>\n",
              "      <td>QAPWL29</td>\n",
              "      <td>5</td>\n",
              "      <td>-0.343042</td>\n",
              "      <td>0.626064</td>\n",
              "    </tr>\n",
              "    <tr>\n",
              "      <th>16717</th>\n",
              "      <td>PTQBI4B</td>\n",
              "      <td>0</td>\n",
              "      <td>-0.974907</td>\n",
              "      <td>-0.177863</td>\n",
              "    </tr>\n",
              "    <tr>\n",
              "      <th>16718</th>\n",
              "      <td>F3678MD</td>\n",
              "      <td>0</td>\n",
              "      <td>1.058539</td>\n",
              "      <td>0.001628</td>\n",
              "    </tr>\n",
              "    <tr>\n",
              "      <th>16719</th>\n",
              "      <td>78LKHTQ</td>\n",
              "      <td>0</td>\n",
              "      <td>-0.188562</td>\n",
              "      <td>0.827181</td>\n",
              "    </tr>\n",
              "  </tbody>\n",
              "</table>\n",
              "<p>16720 rows × 4 columns</p>\n",
              "</div>"
            ],
            "text/plain": [
              "      customer_id  location_number    latitude  longitude\n",
              "0         QINKB6H                0  126.032278  -9.106019\n",
              "1         EQ4S6SE                0    0.278709 -78.623847\n",
              "2         4673534                1    0.124485 -78.605621\n",
              "3         OQA6IMF                2   -0.113891 -78.577449\n",
              "4         9NQE2MO                3   -0.848796   0.136726\n",
              "...           ...              ...         ...        ...\n",
              "16715     X6XDZT9                4   -0.197722   0.609199\n",
              "16716     QAPWL29                5   -0.343042   0.626064\n",
              "16717     PTQBI4B                0   -0.974907  -0.177863\n",
              "16718     F3678MD                0    1.058539   0.001628\n",
              "16719     78LKHTQ                0   -0.188562   0.827181\n",
              "\n",
              "[16720 rows x 4 columns]"
            ]
          },
          "metadata": {},
          "execution_count": 11
        }
      ]
    },
    {
      "cell_type": "markdown",
      "metadata": {
        "id": "1DH2ISL0Kn8L"
      },
      "source": [
        "## PROBLEM STATEMENT"
      ]
    },
    {
      "cell_type": "markdown",
      "source": [
        "#### 1.Bagaimana Analisis Deskriptif Segmentasi Pasar Demogafis dari Responden di Restoran ini?\n",
        "\n",
        "#### 2.Bagaimana Analisis Deskriptif Mode Pembayaran pada Restoran ini?\n",
        "\n",
        "#### 3.Strategi *Procurement* Apa yang Dapat Diimplementasikan pada Restoran ini?"
      ],
      "metadata": {
        "id": "Wt8-LP0QvE1r"
      }
    },
    {
      "cell_type": "markdown",
      "source": [
        "## LITERATURE REVIEW"
      ],
      "metadata": {
        "id": "ikYUMjL4XNbo"
      }
    },
    {
      "cell_type": "markdown",
      "source": [
        "#### 1. Segmentasi Demografis"
      ],
      "metadata": {
        "id": "5-W2mPTE2tfa"
      }
    },
    {
      "cell_type": "markdown",
      "source": [
        "Menurut Kotler dan Keller (2016) salah satu alasan variabel demografis seperti usia, ukuran keluarga, siklus hidup keluarga, jenis kelamin, pendapatan, pekerjaan, pendidikan, agama, ras, generasi, kebangsaan, dan kelas sosial begitu populer di kalangan *marketers* adalah karena mereka sering dikaitkan dengan kebutuhan konsumen dan ingin. Alasan lainnya adalah bahwa variabel demografis juga mudah diukur. Bahkan ketika *marketers* menggambarkan pasar sasaran dalam istilah nondemografis (misalnya, menurut tipe kepribadian), *marketers* mungkin memerlukan *link* kembali ke karakteristik demografis untuk memperkirakan ukuran pasar dan media yang harus kita gunakan untuk menjangkaunya secara efisien.\n",
        "\n",
        "Menurut Wijaya dan Chandra (2006) memberikan definisi operasional variabel segmentasi demografis untuk posisi pasar pada restoran *steak* dan *grill* di surabaya sebagai segmentasi yang membagi pasar menjadi berbagai kelompok berdasarkan variabel seperti usia, jenis kelamin, jumlah anggota keluarga, pendapatan per bulan, pekerjaan, dan pendidikan terakhir."
      ],
      "metadata": {
        "id": "lElUVESM3Yo_"
      }
    },
    {
      "cell_type": "markdown",
      "source": [
        "#### 2. Metode Pembayaran\n",
        "Menurut Kotler dan Keller (2012) pada tahap evaluasi produk/jasa, konsumen membentuk preferensi di antara merek-merek dalam kumpulan pilihan dan mungkin juga membentuk niat untuk membeli merek yang paling disukai. Dalam melaksanakan niat pembelian, konsumen dapat membuat hingga lima subkeputusan misalnya seperti: merek (merek A), dealer (dealer 2), kuantitas (satu komputer), waktu (akhir pekan), dan metode pembayaran (kartu kredit)."
      ],
      "metadata": {
        "id": "PfI0KQQX24R-"
      }
    },
    {
      "cell_type": "markdown",
      "source": [
        "![Fig. 6.1 Model of Consumer Behavior.png](data:image/png;base64,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)\n",
        "\n",
        "Sumber: Kotler dan Keller (2012)"
      ],
      "metadata": {
        "id": "rAbBqAmNWR4U"
      }
    },
    {
      "cell_type": "markdown",
      "source": [
        "#### 3. *Kraljic’s Procurement Portfolio Approach*"
      ],
      "metadata": {
        "id": "WJZH2aFP2-6f"
      }
    },
    {
      "cell_type": "markdown",
      "source": [
        "Model Pembelian Portofolio Kraljic dibuat oleh Peter Kraljic dan pertama kali muncul di Harvard Business Review pada tahun 1983. Terlepas dari usianya, model ini populer dan berguna yang digunakan di perusahaan-perusahaan di seluruh dunia.  Tujuannya adalah untuk membantu pembeli memaksimalkan keamanan stok persediaan dan mengurangi biaya, dengan memaksimalkan daya beli mereka. Dengan demikian, pengadaan bergerak dari aktivitas transaksional menjadi aktivitas strategis – karena, seperti yang dikatakan Kraljic, “pembelian harus menjadi manajemen pasokan” (Mind Tools Content Team, tanpa tanggal)\n",
        "\n",
        "Kraljic’s Matrix membedakan strategi kedalam empat kuadran yang didasari dengan dua dimensi yang berbeda. Kedua dimensi tersebut merupakan pengaruh terhadap profit (profit impact) dan resiko pasok (supply risk). Keempat kuadran tersebut membagi karakteristik barang menjadi barang non critical, barang leverage, barang bottleneck, dan barang strategic (Adi dan Pujotomo, 2017)."
      ],
      "metadata": {
        "id": "Nass7Daw3Z6F"
      }
    },
    {
      "cell_type": "markdown",
      "source": [
        "### **Gambar Kraljic’s Portfolio Purchasing Model**\n",
        "![Kraliji_portfolio_purch_model.png](data:image/png;base64,iVBORw0KGgoAAAANSUhEUgAAA3UAAAG5CAIAAACm2YqRAAAAAXNSR0IArs4c6QAAAARnQU1BAACxjwv8YQUAAAAJcEhZcwAADsIAAA7CARUoSoAAAEwXSURBVHhe7d29buXKeubxvhTfhQFFO5hrmNiRYsfe2dzACJ06OanCAxgdGMZ0J5M0ZGcKDuRgJ+5ghxtoDAzDOEOyivX5VvHlR60i1/r/UNjYoshisch61qsltfTprwAAAMBxqC8BAABwJOpLAAAAHIn6EgAAAEeivgQAAMCRqC8BAABwJOpLAAAAHIn6EgAAAEeivgQAAMCRqC8BAABwpJvWlz/++Iv9PwAAANyp29WX//of//QP//y3//Lv/2g/PrG/+7u/s/8HALdF/gDo5cD8uVF9aYpL005eYv7yyy+fAAAAHs9QBdl6aJ9b1JdhcXmJEnOYX/t/AHBb5A+AXg7Mn+ZBFhaX/+v//A/3/2cuMcl3AL2QPwB6uUx9GRaXf/q3v/9///XH8F+35bQlJvkOoBfyB0Av16gvk+Lyv/77P4eNw3/PX2KS7wB6IX8A9HKB+lIsLo3zl5jkO4BeyB8AvZy9vqwUl8bJS0zyHUAv5A+AXk5dXy4Wl8aZS0zyHUAv5A+AXs5bXyqLS+O0JSb5DqAX8gdALyetL1cVl8Y5S0zyHUAv5A+AXs5YX24oLo0TlpjkO4BeyB8AvZyuvtxcXBpnKzHJd9ylny9P3z59Gtr3l4/SFnRH/jy4u1yVhM9VnKu+3FlcGqcqMcn3Fb48m4z49vTy026C5QL0JFOUB/rvz/PYnr+YLeiO/NngbGttj0NWJeGDbU5UXx5SXBrnKTHJ9xWoL2Vf3s20JK3rLOURn29Bd+TPSotrze3w/Lvdsl+LPq3dq5LwwXZnqS8PLC6Nk5SY5PsK1JcS8UvzcePJIh4nRP6solhrF6svdyJ8sMcp6svDi0vjDCUm+b4C9aXAvfY8/XamLCXiL4H8WUOz1h6qviR8sEv/+rJRcWl0LzHJ9xU09aXbJ9vTfan9Hv0EzsdvT2Z7EJHlTgZzeA1Znx378fLdHWWa8OM+LpTjFp6lOoDYcsS7tA0vPI/g4LriARQvX7Nb3n8W+ptnexAfy8vJWuTPGgtrzb+ZF7YpAWqPcTU0Kn1ay1lRCxzlqiysLMJnPrA4RajpXF82LS6NviUm+b6CW89Cho7kLJ4TwUVMlM4u3Oc+650M5n6evtvEsZ/1/SctHG0SZ2FTDyDmgm9sYsa5gSkj/l0YwBTok5W7LUT85tkOPhW1+IsHLCB/1lhYa5VasPQYi8/w2OppMCfYclYsBY60KqPLdE1aWYRP1AiftXrWlzcoLo2OJSb5vkK1vhQSxO1v4ti/T1BMouVO5GRxLxVBsgtf8rot8wDmIdVyMBtAKn8JiefH9amL+KnZc/nXj827rdqin+1hV/veib/YcQsRvwr5s87SWvOPZRAyg9JjPG2vh8Zgoc/y8tkSOH6ompVF+JhdCZ9NutWXNysujV4lJvm+glv/aaYPsiQdJRt9Es1B4LaY1NB0EoVOPVDcnvNucyrN+eU7L70ejMSNsfxbbMHYsmGM8nj11+WHJ8z52t3Kgb5ztvOIx2rkz2rVteYfy3i1lh/jlNtzqU/N8lkMnMqqDAvcKsIHW/WpL29cXBpdSkzyfYVafekiWGw2K9N4csloO1zXiQuvgNzDnE1ZqM1XNHelGkBRGvTpgJURH1+XG1KauWt3y7bsnG03maaFrxPQIn82Kqy1fCEY5cd4IC+EYLWKfWqWz2LgVFblygVF+GC9DvVll+LSuH2JSb6vUKkvpa+hgzavf7/btCVJW10npdBx2/Pms9VdQtTmFyflVdSFnUxltBvYuSJ+32xPkpTn7YTVyJ9dsrWWLwSj9Bi77XlbqC+VWVEPnMqq3LaUCB+scev6smNxady4xCTfV9DUlwuL3IfCkHfzz3dn5V21k6WME7LbZavwE+XhuXaGu+Mm6hIRv2W2I9Gs2pd5qJA/e8VrLV8IxtKqqYWG3Kdu+SwETmVVxuNfgfCB2k3ry+7FpXHLEpN8X6FSX0pJLfPx92wP8b2pOpFDxwVWEDFuT5ut8z5h1MbUV1GVjFAasK+z3Ua3W5SS2Zyv3S3vf96yY7YFc2/VFwwkyJ+dyk+1or7UhMZI7FOxfJYDZ+OqrEg6lC6c8IF1u/ryJMWlcbMSk3xfIcuRkI+e6LNTloVh5JPFtjA7NJ3IoeNeKtxrgBttVl9mzb9sqK9iNvVZGMkcnX4k9kTh19zuWH/qodlz+bnavJtmy+rZHkyX6V843VVLzwZKyJ8VNGvNF09R4SI/xv7wcmiMFvosLh/ff9KEwHED8+Hgux37FIpUzYQQPii7UX15quLSuE2JSb6vEIRv3ExyuRTO2pwXRvw9oyiyNZ2UQifuNmouiRT7aK/CKr6EhMMr9ykGbt6C3Fy7W96/amC6iPf7z014FUQZ+bOCaq1lC2R6kkuPsSY0BmKfmuWz2L80sPQrcNPSBTggfOJG+Kx1i/ryhMWlcYMSk3xfoRhnwpfjc0vKx0lYp0pfcdY7KYZOeuDz7/OA59yZg3vOr4E/RNxom3QVTj4twkVFYTqOZz5KjOBoAMHABht2K20xok7Gpp3t7ML9YwAl8mcd1VqLqjrz3FYe4/j5z0PDyvs0qstnOXBKA0sKU2H1GYSPbYTPFs3ry9MWl0brEpN8fxxzWsXFossp6YXqlmphGlDuhksgf+7YyQMnRPg8prb15cmLS6NpiUm+Pw73lkAQjv4r++6JScQ/IPLnjp08cEKEz2NqWF9eorg02pWY5PsDKf786CneSyDiHxD5c8/OHTghwucxtaovL1RcGo1KTPL9wQg/O3+Snwon4h8Q+XPvzhs4IcLnMTWpL8PiclWzxx8tOYuyHVJiku8AeiF/APRyfH25ubgcmunhcMlZ9G1/iUm+A+iF/AHQy8H15Z7icmimo8MlZ1nVdpaY5DuAXsgfAL0cXF9u44o5+/HRWvdfQb4D6IX8AdAL9WVb5DuAXsgfAL1QX7ZFvgPohfwB0Av1ZVvkO4BeyB8AvVBftkW+A+iF/AHQC/VlW+Q7gF7IHwC9UF+2Rb4D6IX8AdAL9WVb5DuAXsgfAL1QX7ZFvgPohfwB0Av1ZVvkO4Be7jx/fv/L069//vT5Lx/248z726dhh6k9v9tt92DxwlubBnBXU4oGqC/bUszvj+c5AZ++/WG3Cf54+azZDUcwL0sd4xs4wpp89wljm+b516+UFmuqXmaZz87trmKzc305PSrdzn4CvEDoUF+2taq+/PTr2xe7MRN8IU59eRzzmvr15Xf7sSXER2FP4MSU+f7x7auLl7iVE8nQr5Sb15f2ol5/2I/vSav6UpVyZmLP+ublTYKa+lKH+rItdX359vw6/Le4aL+Mn/36/DoubOrL4+jDiPoS16PKd/e1a1yKTWXEUn0puOFKqZZZU2be6fdwO9aX5tRbHozbIKhPhPqyLX19+aXyJZFZ0q8/zBeO1JfHob7EPVPnz4F1GPVlex3ry7O/dUdQnwj1ZVsr6svywnDfjyjUl+F32KUepjCajjKnEHYrVa61ita97TG1dB/7Za5r2de7C6MKLirJMn+gfQkxTX4hiYcRDjI81jXbiTlqPm9tT0N/sX7PeZ9oGk/7rgAuaTl/lOVC6QE2H2pWSrynV4sRVbLlfZrUitu8svz44+3OtIO8VBNuz3oQ1Tv0G7NPBcIr8l2FF26mMf1hgGkCdXO+nHJG/sBEvRXmKlG76bo5kU6qvYSBuynb7l0+/8aa60o/e4+oL9taU19Wy8fpURZ2iB/oucVBbBbJ61v4cKe7yQumWPLWV7KU72OLVm9xVPNbuWELB1Y8MJ06eRhzV7VLiGejzcVOOVW/UmCfxfwxz/byS13pAdavlHhPo7a/OtnyJSMtSR+weVMt1Zywp23RfJY7VI2nMEtjCy/cTJeivizNee1eVKxPsPqJVHNSOOmKS9h576btyok15Otamquro75sa1V9Gf//bFpL5qE3z2i0AMbPRplrn/IwaMxiGJvbc37L0O9mtwjLOM0st7zD844jt8fOpwu7mtdecGnCqMzlx3va3YJzCQe61Zv3H05mfo2FAtocGy3+6p4rLjYfT9DnMLH3nji4paX8KTzVOfkBXr9Swj3rMaJPtsKSMfv7hTlfwqalKvF7+nGWgyjrUDkeO0t+N1+p5JO5WF/W51z/PFjrE6w+ANWc1E+qu4RD7p1+Ym0/YSdmnNGV3h/qy7ZW1pdZJsarRagvc+ZRFurLeMmZ9RCsELu6ggOzwVhme2kYhc9my0kalbDC82Hka3uU9j8dFV/yIJ2cQhgJp5D3XHmxcUiVzg4c5Oj6MnmAV6yUfM96jAhMD1vry31LVSKfXduhcjzybvmpTZ4v1ZdLc65+Hqy1+y8MQDcn9ZPqhrTv3uWHK66rsCLSW3ZXqC/bWltfpmVf/AgW6ku7KqIWrhxxLQkb45GkHzobl3c6eHFUUkqqDkx3k+bENX9sYbTCKcQ9913swH7Ve+cpg14Ori/zB1i7UvI9Nac2+8QtPFdpVBPzkr9YlGiXaq6wp65D5XiUk6msLxfnfHGHzLoEq/evnJP6SXWXsOve5ds111Voeed3hPqyrdX1ZfykxhGZPf0D86DnLXxq5UWSRM8oOp0cWINS3WmUP5t0KI5KOqlyzUu5XGj+2EIuCKcQ99x3sYb5lG2lWQW2WMyfJGGKSg+wdqXke9ZjJFkXQQvPVRrVJL60I5ZqorCnLq+U41EHlJSc9ix+t6U5L52uzgzGtnqC1QegvkeD4kl1l7Dr3uXb69dlhlRoeed3hPqyrfX1pX3Ep7U0fSp4/tKn3z24+cILn1p5kaSdj4JlXH7hqS/g4mdVS1dKSeWaj3fTpUxpN+EU4p77LjZmJlwxZkBrMX/Mg5qsOEHpAdaulHzP+go1n92WbFacYEcuVauwp65D5XiUk6msL+tzPljcoUaRYPX+lXMSyU6qu4Rd9y7fvvG67h71ZVsb6kv77P769pItqmyZZccO8iUhLxKpvvQdip+1yqXnyHw2ywKzxoKjxFFtry/T/uuDnBVWvnAKec9dF5sp9AZstJw/5slcXCmlB1i9UvI9qyt0T7JZSf/HLtWRvKe2Q+V45N20U5HGeHXOB4V7p1a4KK8+AOWcJOKjdJew797l2zXXVZ72u0V92daW+nJ+HKcWbc/qS7se/Bbz3MePvjJ6DHuKz2lpGzFVYLSGx97s+rGfjZaTvaLFUenry7H5yRH6l4YRjXNiDkyvVBqbvOeei00HsxCjwFqafLePa/ZsT+tuXuPyA7xmpeR71mJkT7JZZhh+Ne1aqhI3pHoQlTpUjiebJZOH6W4mz8MZm/uv95akkHzvitYnWH0AqjlZOKnqEnbeu3z7+uvKLuQOUV+2ta2+dI/jQqUVZk3SlhfJdN7SyhlbuFQSdkknLVnhWYs7FEdlLlxbX6YtWauFYUS7JRNoPyWNTd5zz8XaW5+0+EkAdlDme2ml+MdYfoDXrBRhz1qM7Eg2y1xUuNh3LFWJ2VNq4UkrHarGI87S5695n8KMfX57Ho6NdluI7lLKFWxIsP2vHQsnVV3CznsnbN92XYszfG3Ul21trC/tw5oEjV056Vdmrhgd2vjEZ4WjvEiy3ax5nQifiiTLuDaqoeW9iaPS15fjgWHQpHNlJcOQdgtW/vzZQqwIexrbLnZgtrsWXziw04p8Tx7FoYWPa/0B1qyUwp61GNmYbJYZQ/r6vXmp5vye1SCqd7g4nklYnUxXJKd3OJnTTE5hXt1t3tMrppzIXJ1rugQ75rXDteyky5ew894Vtq+7Ls30Xhz1ZVsHzu/NyLl8HqU1DyB2xfy5DILourh3N0F92dYF8918PXfi79ISDYAO9WVDBNF1ce9ugvqyrcvlu32H/8zfqCUaAB3qy4YIouvi3t0E9WVbV8t3+ec+z4VoAHSoLxsiiK6Le3cT1Jdtke8AeiF/APRCfdkW+Q6gF/IHQC/Ul22R7wB6IX8A9EJ92Rb5DqAX8gdAL9SXbZHvAHohfwD0Qn3ZFvkOoBfyB0Av1Jdtke8AeiF/APRCfdkW+Q6gF/IHQC/Ul22R7zilK/wifexG/gDohfqyLfK95u7/iMJpL9AM7Mx/BRRHeNz84Q+0XBF37b5QX7a1Zn7NW0pBu/tllqfJ+9tdXfhZ4/LL6/iAPb/bD/u4s3t9Sor8+fE83IWsPX37w37+oqhUrujuXxEeDPVlW8r5/fj2NQz3oL19sbvcI1WaXPk7ua1e5HbOiSkpej9avHK0t7m+NK3zVyB7tK0v+fGSNqgv7wv1ZVuq+TVLaGjx9yunovPB6ksB9WVu35yY541vjj8AdX0Z54x5bqd21RKT+vKK2t413Br1ZVv69w8u/FbBZtSXG+2ak+mb47w0PoSN9eXE/BDFVV/sqS+viPryvlBftrU8v6ve/zfLz7fsVWHaYfrZKZOAprkcDL4Xlpxx84HG4sAm4Y8BjOfK0yTeYl/h4jYU4qaf/EfE5O3+0qIO04Le7eavJbgKvzH7VGD5AuX3DqfpzSfWvbE9tfwSXPPXEh0iDTIf0qB+VHztxen1u729aG6QOJKBdNVefTCDxRl4JHvqS7fqxZXiJlm8QWZjbbkZ2q7EUIosLz1j9xkXFqBhHsLFZe5Pt3quSutUOV1eab0cewlrdsv7334f/W6PHgVdUF+2tTi/ZrGly0MSBmjYoiVq1tXrW7j2pvb2JX7ZHlseExsOVA6skMtjK6eJeMjYbbzbzKRqlqfFS4unXdjNRtKRF6hM7fK1F+dksHSnBlGFZ1SPkq897FacN/kGmXplvkHSPrWr0wxGMQMPZV99aW9H+LRseh5sS1JuR1fpGlctvYPOWH9ELeUy3zlXyXnV0+VV1suxl7Bmt7z/aMvG+0h92QH1ZVtL81soiXJmmcWBMiddsHLm3YI+zetHvKfdLTjv7gMXBjYHmVArLKSJOEX2C/QoXuVAFC/NnV2cumDj4NgLVKa27S286nGfufPKnAQbh06imRzkB1aPstceTkg28/K8SSNMrt0cqL/q5cFUr+Uh7awv7TOc3DLt8+BvRHm5re3K7hOtIPvY+ANr2XLIGe3G8EGNJY+6lS3zdXMVjFMb/uLgnewqwvXS5hJUu+X9b7+P4W64NerLto6qL02aJF/UltdV1KGwjOcO9x+oHJi8Wyk7wi2FKbJjC+IvvSJH6HNQmro0jw6+QF1qF07qiHMiT1TEjCc6e+2oaRjZp5JOCvNmblB4CekNyianftWKwShm4MHsrC+Tx3XF87C03NY8WvFuZkiLj002jAPPuPykrSrOVHOVr4t0N/XgnepVHHoJ23fLtqy5j4WnGrdCfdnWQfVlcbf0VVxcxlJSHHSgcmCF3fKTCsMonSJ5XSy/TIqXppyBwy9QldrFk84KO5jOhf4t80Ll09woHmXOUmhutIXptdsrNyg9sH7VusEszcCj2Vlfmod8nsxdz4O0Xgqt3pXysZF3K7R1ZxwUTuqolnnhdMpsUSZY4RRWZb0ceQk7dku37LiPuDnqy7YW51d+yU+VXwOSFBDXlZQUqvW/fKByYMrXAHEYxXiNpk5Ow0kha3QJePQFyuNMUrt8Uqs4J/aMtiU9lLuVj9oZ5fbw4g1KD6xftW4wg9oMPJyd9WX8ztmu5yFebnu6ShaL6Wpx6R14xkHhpI5qmSvnqnyDkrNoBx8zR9kWnOXIS9ixW7pl10OIG6O+bGtxfs0Cy5ZxohhnqmUsJcVBByoHVthtOU0G5SgPhlcr0wtZo5qBwy9QldrlS7YWd7ATEu0jnzoSH7V8llFhekf1G5QeWD+dbjABYQYez7760nzKTeCu50GZGxG5K91iWfd0zVRnHCz1plrme+dKl2D54GXpejnyEnbslm7Zcx9xa9SXbS3Pr1kJS29hmsXv16FlFltwrLiupKRQrX/FgcqBybvlJxWGUQmUKezGl8ZqhoqXppy6W1zgIB2/6a38SFTmxEuGNH24lMvxUUvDmBTmbVK9QdmB9dOpBhMLr+Ux7akvzeyteSwn8vMgr5dNXcmLZXHpHXjG5QWo7GfNXGWPcbqbevBF0YkOvYTtu2VbdtxH3Br1ZVua+TULxi/s2VTJzRFmSr14XdkDq6tx1LK+1A7M7uYT2fST7iYNI0q9mB3M53hICdPn2PyLqHbqBsdeoAloaQLrvZkD3RikOYl2SLO7dHX1o6RrTw8p9jwy43x+HftJb1B+YP2qlwdTvZaHtLW+NBuTe7HmeYj7LK8XRVfpozWNrfrYyEvvwDPKCzA0HbK4zHfMlbCbevCz+NrT9XLoJazarb5l+33ErVFftqWcX7vShOZDs7BP/AIgriuzIBvVl8qBzeEVtc9fl9MkfLWYWhQrZv+xJacL+H3SJnQlRdKRF5hdzrTb2/NwbLSb1FswYGlO7OtB3Gya53dtVjtqUHoytVHuXpPyGyQcuHDVS4NZuJYHpK4vxSasKe3zIDW/z2TrozUNePGxkZbecWeshtJEtcz3zlV8g9SDny2slyMvYdVuef/x+LfeR9wa9WVbK+Y3X4H58vCv1oUdxHXVuL4cLQ5sEubClAVZ9hVyITiwUNUVzjjyfYZ5qil3Akdd4CQM7mkmp6uo7jbv6QlzYi7BNX/jzCwJ5cKoeNQsuXbVq5ozz3m+Q+HA+lWrBuNafi0PZnN9Gb3qJ7TPQ3W5GVseLXlNKZdemzPKV7e8zPfMVX5pawZvmUNcy9bLYZewereZfFHb7iNujfqyrQPnFyKT8rWXQ7LGzMDDF1sPqEP+sNz07mCulJfAU/GQqC/bor5szHw1XP0e6MNHm3kTolaC405RX54a9SXuGvVlW9SXTdlv39TfmXv0aFOU4LhT1JenRn2Ju0Z92Rb1ZUvVHyt0iDY8KurLU6O+xF2jvmyL+hJAL+QPgF6oL9si3wH0Qv4A6IX6si3yHUAv5A+AXqgv2yLfAfRC/gDohfqyLfIdQC/kD4BeqC/bIt8B9EL+AOiF+rIt8h1AL+QPgF4uVV9+vHz/9Onbp6ff0l+i9fHb07D907dn+XdIa/tvgHwH0Av5A6CXS9WXX57HIlKoL//68+Vp+tSz+Ju2tf03QL4D6IX8AdDLndSXvz9P719SX94T/uQDsA/5A6CXS9SXX97H2lHRnl5+2kMiS/03pJjfu/vz0O9v498E318XKuvLo04H3B3qSwC93FV9+f1FrjGW+m+I+nKi+0PhiYerLzfNElBGfQmglzuqLwv/uGew1H9Dj1hfClrWl/eD+hIHo74E0Msl6stZ+ecv67T9N0B9OaG+1KC+xMGoLwH0cqn68qP0+4kWaPtv4Jj60lRavsU7m28Qv/6wH04+vn0dNj59+8N+PBE3WqaTpP9tPcd14ZdX161vz+/T54zo1EHPQT9BJ1n5lZeh05apH1OxFQ4chTsELb7kSGm0Rv1OGdJUL8ySeHeAJdSXAHq5VH05+DAlZvSjlvM/Hi/WnSv6P9r++tKUbnkLSjShB1uvxG/+TRulMiuumYIDN/W8pr6sfdb28zWu2IYWX0Kpvnx9WzjQXp3UCvVl/VoUd6o41bWei3cHWEB9CaCXi9WXhd9DNP+A5iV/v3q1vpzfDwtrlLkW8YeYLcE+rnIKK6ppo1CaZN+WHQqauDpc13Ne8JW+82srp7Qre7r52oMd5rcbw/qvUF8uHmjLQX+gubRskI5utNU7VZvqwizVDwFqqC8B9HKt+tLWkfm/E7d15939fiJToKTfhJ2rJVfK2FLJFU9TJfT8Ov7XHzttzLoaiGWNtaVndX1ZuLqZrdjio6ZzCdVkvmXpwOns0T7mYsMCMVQfre5O1aa68Nn6IUAN9SWAXi5ZX75ntdiV/35Ppb4s1hamEiqVdNNnv768RxtNASQXT6b2Glr+feENPecF37bKSehH2qjZMsg2rqwv66NV36nKVJc6qR0C1FBfAujlkvVl8f3Le6svy58yNYcvOMLSZPr/sZAyG83htXdJR6b8si3cbX3PQnkXduLohpSUieaocGO+m+5AU/kFc2jGI9SIk/poy59N75RyqmPFQ4Aa6ksAvVyrvnR1ZPQW5vzm5f19f7xYcKTvioVbplrEfMq/IWcKFMUbYObNyPCkq3s2W6LyTryQcjllCP0M0jJR2E15oJ35uBWnqD7aFXfKyaZ6aUKkuwNUUF8C6OVi9eX8KzDldn9/v8fUE1l1YgqR+Du5rqia3jCznzIbX3/4clAhPenanoXyTq6czImKoxL6GRxVX9ohPU0zaZpYBTr10a64U4H4qOX6clA4ESCgvgTQy9Xqy/DdyqQV3rwcrOr/WDvrS/ezd2GBYiqMrH4y1cnb8/hZ11tYRZW+rzoOIOg/L4lW9iyVd3JVZK8urKiCwbStL7N+FtVHq7pTwf6jdKqlWVo4BKigvgTQy/Xqy0n6FyPzf/ETWt//YdT1ZdbmosTWKGkT3uUybyWOLfgmrz+8+J1fcQBRybiuZ6m88z1MbS6PbLWUNPvZtvWlrwjjVqrCB9XRqu7UwlRLs7R8d4AS6ksAvVy0vlyndf8V++vLUVIJpZXTzNRVyRtg0vtqqflA2/JKdFXPcnkXll9RcZwUVf4UyjIx3013YKEcHJpQuzvF0RqLd2qeSduyqRZmaekQoIT6EkAv1Jdtke8nZQrBrP4z5V1aNQLXRP4A6OWC9WXtn/hc8fcToQdTX6bvBfLTjbgr5A+AXq5WX1b//Tj1JdQKP5YwtPyb2sA1kT8AerlWffnx21NSUMbtkr//Et3kP4LJO5e4J+QPgF6uVV9Gf7/H/K716V+O27rzmr//EgCaIH8A9HLJ+tL8NqKgvhwqzJfvvH8JAAHyB0AvF64vzS9at+9ZmvqSn78EgBn5A6CXa9WX0ffB7R/yMe9Z2n/3Q30JABb5A6CXa9WXcU1p37MMGt8fB4AZ+QOgl4vVl3NN+fTb+A5m+s/J+fc9AOCQPwB6uVp9mfJ/iLxUXA529L8X+Q6gF/IHQC9Xry9VWvdfQb4D6IX8AdAL9WVb5DuAXsgfAL1csr60/8rHN/PjmEVr+z8Q+Q6gF/IHQC+Xqy/9D1ymrfCPxwdr+j8Y+Q6gF/IHQC8Xqy/N3+wpNf79OAA45A+AXq5VX/o3L+2fhZz4b5fz+y8BYEb+AOjlmvXlc1BdTub3Nfn7PQBgkT8AerlWfRn9fcjQ/BYm9SUAWOQPgF6uVV/O71Om3wef/5BP9r6moe//cOQ7gF7IHwC9XKy+dN8iD9/CrL95OVjT/8HIdwC9kD8AerlYfVn/9+Nx8+Wmvv/Dke8AeiF/APRyrfqy/MsvhUZ9CeChkT8AeqG+bIt8B9AL+QOgl2vVlxu17r+CfAfQC/kDoBfqy7bIdwC9kD8AeqG+bIt8B9AL+QOglwvWlx8v39MftXSN368OABb5A6CXq9WXX56zmjJs1JcAYJE/AHq5Vn05/52eYqO+BACL/AHQy7XqS/f7ieQ6skTd//HIdwC9kD8AerlkfRn+cUgNdf/HI98B9EL+AOjlWvXl/Pchn7/Yj3X0/R+OfAfQC/kDoJeL1ZfuH4+vegtzRf9HI98B9EL+AOjlavXloPZPyPn3PQBgkT8AerlYffnz5SmrKcNGfQkAFvkDoJdr1Zf8fiIA0CJ/APRyrfqS308EAFrkD4BeLllf8vuJAGAR+QOgl2vVl/x+IgDQIn8A9HKx+pLfTwQASuQPgF4uVl/a9y+LjX/fAwAW+QOgl2vVl+7f95Qa9SUAWOQPgF6oL9si3wH0Qv4A6OVa9eVGrfuvIN8B9EL+AOiF+rIt8h1AL+QPgF7OX18ufk88bHx/HAAs8gdAL9SXbZHvAHohfwD0Qn3ZFvkOoBfyB0Av568vD9C6/wryHUAv5A+AXqgv2yLfAfRC/gDohfqyLfIdQC/kD4BeqC/bIt8B9EL+AOiF+rKhX375ZZhfAACARzNUQbYe2of6UjDMr/0/ALgt8gdALwfmD/WlgHwH0Av5A6CXc9eXHy/f099wWW/8/ksAsMgfAL2cu7788pxVkPVGfQkAFvkDoJdz15e8fwkAW5E/AHo5d315kNb9V5DvAHohfwD0Qn3ZFvkOoBfyB0AvF6wvaz+UyffHAcAifwD0crX6cuFf/FBfAoBF/gDo5Vr15cdvT0lBGbenl592z4i6/+OR7/fk58uTedK+v3zYTQ8jv/ZHno2rIH9O5eRL5j5WNEl1HteqL7+8B0/J78/j/79/Gf7X1p2lp0fd//HI911Kv0Cg8IVEa+aRG9vz+Ng15TLRtk6X7OQZfcvZwDbkT6oQKbepPE5e6GwbHkmFkkvWl1NNGdaXc2rw/uWdqf04xNNvDSPaPmnJT1zc6uXBnT1uXYM7v/ZbzQa2I39S6398v0oOit4BstH64ZFUqLlwfWkeGvvE2K9K+fnL++JeDILA8l+MNkyx0svGLYhfbY8bT5baOD/yJ+UixS8uXyStf7ZLQSFvP/kiWjs8kgp116ovo++D28fIPMo2Nagv74tUXwbZ3e4tzI715Q2ubgtS+4rIn5RQX/pne/33Tx+5viSpsOBa9eX86JhqI/9JmsKXTfr+D0e+7yLXl+6feWW5lj0SScS46LE/VjFJ8sh/UR626YUnT655y/gq4j47NvFRdJdT2UeR2pqrCLZMr3DhqePzrtwt7z+d5PplBqeT7mN8bNozViJ/Uu4Bk+rL9Hmr5kkpKFYFiKVdMr6HfDer2pVVWGXC8NyeQj8k1Xxg3jMmF6sv5wVvbrO76wv3eEX/RyPfd5HTTX5vQI71oQXHuqA5ur58+h4/imOL06owvDyao6dafKQ1VxFseX4XTu2nbuVuef/RIBcvcz4qnDH7Wddh2MJrxFrkT8pFiq8vN+ZJKShWBchg05KZ2+qQSV80TTOrLB1eUF5Ly5CkihpJlbtafZly0SA/38aO/vci33cR6ssg1IJ3IKQ9hWfD5UI970ovOfmeYdDMG/153VmEUwivczP3KdfiVxHlVYRjm8/iZ2/zbqu25JcZnc42k9rzvMV3kNTeg/xJ5YvLtHiJKfMk2BgFRWn7/iUz7+YHsypkfFfSKot7EE6RyieTpELg6vWlSuv+K8j3XfL8cm1OgYlLmfAr9WHz/PX3HAQuMup55xNkw8uDsNENL+xN3DjLvjE3NDdm5VW4LdFcuSnN5kS5W/naVZfpT5cmcp7a2Iv8SVUixT+Q2jwpBUVp+84l45beYFNXheuahX26t/fiRZohqVBGfdkW+b5L6cUgKi4H2pR3kVHPu1KHiuQaZRtdb2KTs36UZrfdU3kV4tgqc7J2t2yL6jILpxu4fDctuZXYgvxJuUgJMsQ9k/NTKi9/abt+z9GBS2ZTV6XRWsE82JYt0gKSChLqy7bI913Sr02DhR2WmML7CkYxem5aX0pf4gdtKZ7Cw6erVl6FODZNHE/Wp7buMgunM5Lg5h2CvciflFRfDtzbdeNjqc6TUlCUth+4ZLZ0Vbwuy/f5ZP8nu66qcAwkFc5fX7p7PD2g7kkqNXkxVPpvjXzfJfveR/gMBJklp3klevrUl5szKH5RVF6FOLbKnKzdLd2iu8zC6SLRj97HdQBWIX9Shfoyfiy1ebJmz9GBS2ZLV76uSkZrhX36NbhqAZJUCJy9voy+rPRPUqnJy6bSf2vk+y5CfemXfbCe3VeT9lsbVna4FBn+K9Fgo+7loZBB2UbXWzw8taRD5VW43aLgK8+Jcre8/1WXKQ1eNPdWfQ1AHfmTigsgx73QTJWQNk+CZz556VEGyPYls6mrhX3iPt3OUXVYl4xKGjlJ9UDOXl+6ezw94v6JLzTqy/siBPoQUO6rcJ8OPnqE6A/y0XU4PyrhF6BSCEYBpEiuUWW3OIOms8Svc+bqokTLr1d3Ff6kQ7Nn8XOyeTfNlspl5kdZ02X6O6V7jwF15E/KrR2xRpkXlPQkS3lSqkTXB8jaJbOtKx8Ufp9xB3NFaZ/ZtERIKoOkKjt7fXmI1v1XkO+7uHiKl64PqTkLbDSYjUnz+wzKu8U5EmXZ0KZONMk1kDYqhxekVdZUvUljE1own2t3q1778mVKR00KFx68lmM18iflKx6hSYVj1uIFmy6f7DkPtx+4ZLZ1FRZkYTOd5H1KSTsjqeJGUuWuVl/Otza85fMaSL6C9Fb0fzTyfZdCfVn6wjoLIPGRiJJlDAXpoRrkX2rrkqsYTLrhSfmVXP5o+SrCYUSnjl8qNuxW2mJEnYxt4S0cL71w6V0TrEH+pPLFZVpePy09yY74ntxAEyDGhiWzrSsjHNjQXA9Sn64ela6dpLKNpJJdrL6cF0ZyO+c1IGXEQN//4ch39FLLx4ByN1wR+YPzI6nu1bXqS1tH5o+XrTuFL55G6v6PR76jF1Ib5A/Oj6S6V5esL/MfdJifPPltanX/xyPf0QupDfIH50dS3atL1pf541X4vrml7v945Dt6IbVB/uD8SKp7da360v9gcvgWpnvs+P44ADjkD4BeLlZf1n+7ROnLmhX9H418B9AL+QOgl6vVl+G7lUkrvHk5WNX/sch3AL2QPwB6uV59OXG/lMu2/F/8hNb3fxjyHUAv5A+AXi5aX67Tuv8K8h1AL+QPgF6oL9si3wH0Qv4A6IX6si3yHUAv5A+AXi5YX5b+gOzY+P2XAGCRPwB6uVp9Wf39RNSXAOCQPwB6uVZ9+fHbU1JQJo36EgAs8gdAL9eqL92vJZLryBJ1/8cj3wH0Qv4A6OWS9eXaPz+q7v945DuAXsgfAL1cq76c//74c/XXqWf0/R+OfD/G7395+vXPnz7/Zd0XFsBju2n+XGKR7hnkdVOI/EQPF6sv3T8eX/UW5or+j6aY3x/Pw8r/9W1dyfxo7jgf398+Ef1oQ50/SdsUR8cu0kbrgvoSuJWL1Zf2/ctiu+K/76G+VGiVj3+8fB4m/+vLqp/nPdbG19ETjBynt7W+HNvzu91Da+MiLTzJ1JcHor5ED9eqL9M/O5416ss7dcf15UbUl1i2KX/Mo7U+lI6tLxuhvgRuhfqyLerLY1BfpqgvsWxr/piNK58u6svTor5ED9eqLzdq3X/FEfWl2cG1LIin7Hj69ocNkbG53txbEXF7/WE/P/BHjW3sp8SdaKj0X/0h6ffRauNJT1e68I9vX90+vqswH823z8ILGU1zlceo2Xlu+SW4ln9P0Iwkn5Zs+9bblF+aEU9UOIDSyNVDxaPYmj+Fmq/8TI7kJ7m2LmprMO5txbO9ZpDrlox8gekZ08mUkkrsP9+oHp4qfKKRr8rP+pQCBdSXbe2tL+PCaG5xfEyL/+n1LYgA01sSOkGbY8XkVNryfDGEE9kWJU5xPIXTZVWd+Koztk35WHoNU9aXQjSPzNzON2LPbZL6r9+X4sjlofJO5+Pamj/x4z1Zzor88VtaF/r6svBsp+NcPchVS0baWZFpwgzbC4+7mjbGJ9VctTp8on7U+bk8pUDBBevL2p+IvLvvj48pECWFDaYwF0x2ZJ3YXPBBkGbxfGB4lH2/UyizBv5EvpM5fYJOCuNx28PO5xeYYM85Lt1uPuA25KPtLZzDcZ+5c03tJe2TnH3HbbLbwzHbPev3RRy5dPvkicJD2JQ/9imSnt7qM5k/yZp1IT/JeW/SbsmzvWWQ2Q6D0pLJL9CeMTo8zzSzJdjHzPnQwsvJsmukuGrNJOcjl68xG4NmSoGCq9WXd/j3x/N8rzILPs+OrIcpZaLcMYWay4V8h1Hev5OH1KiQ4PJ48u+tpIfLu+Wn1uVj4aSOFN8ZM29hJ6bbWsLm01iYlvzSdPdFHrmtxYPzLg8V90udP1mLV5bqmcyeZEH6GA8KazDrbXEZbhvkiiWTHWv2XMy09BRTdj2/jv/1x04b86Q6MnzCW7MiPxezCJBdq75c+vvjTy8/7Z4Rdf/HO6K+tGkVtTAp8uyY5NFgomoOJqlb17LeRoUTpQko71Z4FUkP177Y6PKxeNLZ4g4Tc3Z/j8RbJs1nOODC7GXbpX5cW760ZGyLTxfu2cb6Mn1Kdc9kbeEXDhkVnuS8t4VluHmQ6iUjL1UhPeqROH3268t7tHGhqF0Y3tIk51e9Ij8LLewNkFyrvoz+PqT5XZjv4zqzdWfpl66r+z/e3vrShkvW6tkxMRkXJIg5kUvD9dlRPdFSfVm+zCjpCpG9MR+rczsqvkLE7FzZ9M9PveM2ZduV96U48uiFSp4lPIr1+TM/ftGDqnsm8ydcsy5KT7KwXuwwCs/21kHql0x6rDLTBuE1Tv8/dmI2msMrSVW/at0k51ctX2aSn7opBQouWV9ONWVYXw41zvR3fe7t/ct5eedpUs8Oy/QcNznydAon0tWXxdPFhxd225WPlWtUT0JwuuydBtPJ1tuUblcOqbxbbah4LJvyx+ZG9oQvPZPyk7y0Lkqdi+tleRmuHeREuWTUSzWNxHDL1In5lNk4nsv0HE5UqEX4BH0G1uYnUHPh+vLny5N/z/LD/N3IO/v5S+lTmuwY2Wh4MukztTDvBquLj9qJgn7k3ezpkjHkh8u7aa86ycfFa9QHqLsX6Sn23SZhu+6+VEZeGSoey8b8McXH2mcyfZJ166L0JMvrpfZsbxqkUevWKyzVxUwbuWOnubWfMhtff/hCU1YZnvtUIL9GzZZR2r8uiwDZterL6Pvgpr6071naf/dzZ/WlzSmfXyYUNiWFwLyKpPExHigHijt7MFoTQIrxyKcTDre7+dcbE77pbnbegsmZ+6/3llxg4RVCYKM2+an80Z7bJG3X3ZfKyO2bJZ/nt0zwqLbmj11c/nnTPJPpk6xbF6UnubBeystw2yAt1ZLRLVUzwuwUZjbensfPutk2G827AOJLgNUgfOwt9gfO17J4gemUAgXXqi/jmvLDvGcZtAt/fzxr0yL3pVXSFrJj4vIialGK2SjMmpwdLrmyFu1fGk/xdMlbFzYxo/b5a96nMDmf356HY6PdpN6CASed1ELTz2f6Xsuu2yRt19yX2sj9ncreFsIj2fz1rX26gu+fLj+T2ZOsWhelJ7m0XsrLcLBhkJZmyUjH6jJt5C9TnNX0W9WxBuEjHCjkpyqLANHF6su5pnz6bVwB6T8nv/K/78maW+RhmThunPZfyo5BKRfShErLUE28hmPO9i+Mx0pOV9gtHPwUZNlVT8KInL4Qn6rJ6m7znl5wrvK1j+arFse89TYVtyvuS3nkc1UtDhUPY3N9OW+Pn6v6Myk+yYvrYiI8ycUYqS7DwYZBjhRLRrlUSz2Yw5P8mY9dKteqV704yYWRK/NzYUqBgqvVlyn/F8lLxeVgR/97HTi/65hEyJLC5HhSYGkVoxmnY2407zE8uG75c0EsGeBYV68vVVr3X9G5vky/52K/Rt+YodSXl2He7aj9RBceAfWlGksGOBj1ZVv98n3+fkreNheI1JcXYb/tVf+JLjwA6ksllgxwOOrLtvrme/BTTbbt+u4P9eU1mHep+RkpUF8qsWSA412wvvzI/tm4b1f8/UQA0AT5A6CXq9WX9vdclhr1JQBY5A+AXq5VX6a/kChr1JcAYJE/AHq5Vn3pfhuRXEeWqPs/HvkOoBfyB0Avl6wvK7/qUqTu/3jkO4BeyB8AvVyrvvzr78/T+5fP635Jmb7/w5HvAHohfwD0crH60v3j8VVvYa7o/2jkO4BeyB8AvVysvrTvXxYb/74HACzyB0Av16ov/V8bLzTqSwCwyB8AvVBftvVA+c5f92mEicVW95M/rALgaq5VX27Uuv8KxfyaPxT+tu6fLJ0QLwCNMLHYSp0/eTtZIt3NKnh/G6eX5YwHQH3ZFvUl9mo1sfzN5ft31/XlyR/gwvCoL/EwqC/bor7EXtSX2Op+8udu6kvgYZy9vvz58mR+tvJ9zL+7/PlL6ktUUV9iK+rLflhfeHRnry/dLySafuHlo9aXJlt9i3c233B5/WE/nHx8+zpsfPr2h/14ot84yLabcbqW5Wb+AiANzPaTV0vxNebj8aY9zQ5fXv0hz+/m07F6t64rv1vhRihPWu/Qb8w+FTAzb5rvavPEmp3nll+Ca/IE4soOqy/jR9c8Rda+/Jmti5flB7gy4MH02XGj322aAbfdVoemiTVibcC14cUXoo7fpSsaRCt96YYC7Z29vuT9y7DaCFsQpkIPNuDiamPaqKgLR6bPeee4Rplb3FXej7oMkq8xHdLMvAa8voVpa1qSucvdCl0VboTypOUOFfdxJL4yjW3TxJZe52qvf7gjh9SXS+toX/4M1sdL/QHevvCLyzwezNKAa8OLLyT90IrjV3NF+ZDSPoFbO3t9eYjW/VfszXeTPvFr/xxe/hCzJdjH9Dm0MBanjULoSN/HSSqY8cNoBzuGsMTJgzLpxMqGYa8xnAH75oFc8cxzIuVv0ImmW99VYf6ddSfNOpy31++je5Fwu/nXlQ0Ta3tLn4G5c75/d//U+ZM193Qp1tG+/NkaL6UHWDHgxXUadGuPjQajGXB9eP5CpN2SBb58RVknQw/iVAM3dPr68sP+Qcjp/UvLvqmp/ivktf4b21lfmtjKvhWShMtchbg8muLp+XX8rz922ih8V2U+PPxU9oKRMZFXfwFIUtJKX2amcxVSOD12kp9olM6JqlvzYWHyI7qTljpU3kd5t/zUKyZWvuOT7DUJd2d/falZRzvzRxD3PxIWoPwA71r4dnt8uFlu6dqP5QMura/sQhbjV3FFrGWc0SXrS/tDmU8vP+2GBbX+G9tXXxZTI42kOLOmz359eY82JpkVsanqxiAOyQwmbmHmZrmpK4Okbl0Le3PyE03iOdF1W+hKoDppaTflfSzstmtiKy85izvg8nZ+fbttHa3On5F0ovCZF1aW+ABvGbAnbpd3XhqwPDypN7OlGL+6KzKZMLQ0FoBuqC/b2pfv5U+lFUaYZdP/j7ljNprDVa8iNv3z8sUmYNbylAy3UF9ayvtoxqx4QVJNbP2ODwqnwx25UX0ZPUvT/4+fMhsV+WOe8LyFz7ywssQHWDfgwnKurd98MHlbHl7lQkrxq7uiQTSqysIHboT6sq19+V5IqLysCbdMKWM+ZTaOsWWiJ61IAkGoZe80zAEXHp6nZL5lRX25psrJTzSR6sulbgtdCVQnLe2mvI+F3VpN7PqZx9UcVF8uPyQ78secYn28yGPTDVjobSJvF1fW0oBLIxFPsRy/K9ap6WHVIUAL1Jdt7cx3kxS+fLFswAUZFMTWFFX2U2bj6w8f9EVuGEmYDqQR5imp2TJK+1/6xllG7jadE1W3clcS3UlLHSrvo7xb3qd8lrUTu/p1C5ezu75UL0/3TK7On63xUniAdy18eXuysnQDLq2vyink+FXfgoCcJMBtUV+2tTffzde1cbiY7MgSysTZ2/P4Wdebzbin6VPyKWY2xZKfyh+ZToKNJiKTMQi5aS4tOHC+nGg36RrNsXKkurMHVyTMiaZbOeslypOWOlTeR7ubf00yL8zpbusmNnyFiy7fDIAXoTu2v75UraPR5vzZHC+FB1gz4NI6lbdPU+Q36gZcGl7h1GZnKX41V5TcDjvCeH/g1i5TX+radX//ZdbmALJVSNqEt518LRJ848YfLn9zKuBqlKxz33PSwpSUclM48PPb85B9UhDnTc5Hl+ZZS/Zf7raQ9QLlScsd6u6jfWGI2uevWydW6i0YcNKJPNu4sgPqS/Xy3Jw/R8WLG8/2hS9vT+pL3YBLwyuduhy/g6UrEl9EavcUuAHqy7b215cjHz3Zp0ImuZIvf+WvfUXzSMT+wzGMO6SZW8rNMGSngU1FT36K5BqlkLX8icKpK+xf77aU9TnlSesd6u5j+Foy3bVsqifKiU1e5JK3RoJzlSccl3VIfTnSLE/z8G/Ln7B/t8rCh7mwsooP8LaFL2+XFuDigCfC8IoRYW6E+KmJ5opcW3w3AWiP+rKtA+cXVjGgW+pyUmAf8gdAL6evL4/Quv8K8v141JeADvkDoBfqy7bI9+NRXwI65A+AXqgv2yLfj0d9CeiQPwB6ob5si3wH0Av5A6AX6su2yHcAvZA/AHqhvmyLfAfQC/kDoBfqy7bIdwC9kD8AeqG+bIt8B9AL+QOgF+rLtsh3AL2QPwB6ob5si3wH0Av5A6AX6su2yHcAvZA/AHqhvmyLfAfQC/kDoBfqy7b65/uGPzyz7W/V8BdugJOhvlxGcDEDaIP6si3F/P54Htb2r29f7Ieh7FPvb5/WBgH15d3YcPfx2NT5M7anb3/YbYI/Xj5rdrugPLgOWWgXWq1EN9qgvmyL+rIl85r39eV3+/G9KFzXXdWX93rvzmVVfVlIoYl59qZGfRm7/mo9ILpZzhBQX7Z1cH25AfXl9TxCWPOCdAv6/Hl+Hf775+d3uzXxZfzs1+fXrw9RX65z/SeZ+hJtUF+2RX3ZEvXldfGCdAsr8qfyfptZ2q8/Pr5RX+aoLwcsZwioL9s6uL6Ug8Cs7ay9/hg/GRwyvQlhWjUI5LOYwZR7kE9UeEfE7OxbdvnTDuMrmd8z2ic8hWv2XLVjVVcxvYKGsypNV/Adw2z8S2cxoh7sy/bidQkvA/4yTStP5uJFJaQReovnHUizVLvGQW1isc6a/CmWCKasHG5Qsb489glc0dthURMtq3zLYO2TvNxJcSbLExUES54D+nAzYxvbdCH5UO04g7nyh4wtHDnLGSXUl221ry+TTAlaVF9+DdNhauXyohg3SYt7iAMobEmMmlepvEUvD1NvT69vQZ/RFC0mu3Cs+iriY6Xd8q7cdGnOUh7/2lesrZNpWvkZWHrZUJ23MEu1nisTi/VW5U+hfJx2mO6CuMOxT+C+3raPLXrM8i0bnuSsk/qCsoqXNr/BHLb6CMe2GG5TMCZDtV35Y+VpnPdnOaOE+rItdb5XWq2+tCvfbzG9BbFiDok2zl8ZmwI0l51liokoqmymhD0IJ3LBlF1CHKxzQgm7RRtThXdcSsduvIp8urLzDj276dKcxcZuuNt44+Y5qV5XeF9WT2blomL1EarOW50l+Rrrh2C1lV/fhv8/m54EU7eZ5RzVcMc+gdt72x01+bKqPKvLT3LWSX1BOcKlmZti2jxsu1s8pHgM9krlcAsufxAONe/ZbgkPsfcuGLw4CfV5w/2jvmyrdX05hUi0qk3O+pWf58XAhF1pqWdnEZh98vBKj0qTyKRe9h5JFlh22HEOpsRQUx47KV3FwnQVzluSnaUwCU71utK7r5/MFc9AfYS689ZnSfxs/RCstrK+tHfWPznxHcnry2OfwHW9HRs1YW/plmgSMoXPxp0UBpORJkoonYU7lTFdCeGWBaMbqrTDdKLC1fnOxUmozxvuH/VlW2vzPZZ9ygWB/VhY/HJ9GabnQNzoyJ+1uRy1cJ9Cn/FrUjFx0peu+ggtVbLHNl1FvtG8NA4tjG+vfpbiJMyU11XsRzWZy7NUGqH6vLVZKnSyMLFYZ3X+JDWfeUjme5He34OfwH29pbvt6C3fsuFJjjopDiYlXpo5e3zq7F4MzFniVr8uw2y3LXklkvp0zXdVuECW82OjvmyrdX1pUiZYveaQYJ3LmTLtlgeNkR8SBVDQ8n2yPuMcLF9skqGF3mKaZA9svwppuqLesnuUN394eRIs5XXtnMzKM1Afofq8g9Isla5xUDwEq63Pn+i+JG+SZTXNsU/gzt6Oixqx/+JjqVmt5cEkxFPnyyq/F9HwgrZ4XQO7/e15vBBFzeqa74rlDAH1ZVut68t5n7jlL/BppkxH5UFjpIfMEVPvVj5RkoPFGJLjsjRCS5Pszp6rqE2XeQ2eh6E5S3ESZsrrKvajm8zKRdVHqD5vIJ6lweIk5IdgtQ35Y27i9ACnT0h2f499Anf2luy2o7dC/4b2SY46WX7aLfHUy/Wl6X9jRAfbzcMQfttdOfLl3VjOD4j6sq3G9aVd1U8mXKbmc9OQMyV95Yikh0gjzLuVT2SDzwWWSZl0kNluhd4ShVCrXPLGq6hOV3RRqrOY/YMQT2iva99k1i6qPkLteWPxUYVrjBVOBK0t+WOell/fXpI6LK/Mjn4C9/WW7ra9N7l/T/Ukx52YQ0pLwxNPvVxfqmKneF3hdvP/weXoRl6YhFjhjuBuUV+21bi+TANaIGdK9cD0EJvIPhdsBsU9uI3BgE2gRLuZrIwDS9hNHnZKDiz52DVXkR6bTNf4YTD+8BVLdxY7CWEcR31qr2vXZFafgfoIVeetzNJIusaFQ7DWtvyxtzLbnteXBz+Bq3obW5uoSbdseJKzTuoLyhEnyhyreP/Sj8FNUf1KjXi76dnPrTSN+eClSViYN9w96su2GteXfvHHrXrIaOo5DxojO2ROnKyFPUxHib+ULgkUG/Fpi7/2lYedSgZmT1Q4Vn8V2bHJdJn7kjQ756qzzFGbNDdR+uvaMZnVZ2BphIrz1mZpIF3jwiFYa2P+uFSp1TTWsU/git6k5p5PY+PY0i0bnuS8k4UFZYkTtVxfpmPwrXZds2y7nbf5jIVpjAbPckaO+rKt1vVlaeX7DJUzRUh2r5Jxpo2fynqYjpryLoyVOMqdpCzORyIPWxDMQP2SJ7qryI4t7OZaHP3LZ5kkiVx+2V66ro2TKY8qVB+h9ryuJbNUuUbXskOwytb8McVQuniTmsY79glc0ZsZvGnHRU1pi2v6Jzk+3cKCGkhH2UuITyrci/BKxx6y6RU7HwjbbTXs+0+mUZptljMS1JdtHTi/ArPms7ww61wILwCPpG3+9FKqkwCcCfVlW7eoL9MvCu2Xnul3XgA8GOpLAL1QX7bVON/Dbw/FjfAFHh71JYBeqC/bukG+Bz/1YhvvXAIYUF8C6IX6sq37zHcAV0D+AOiF+rIt8h1AL+QPgF6oL9si3wH0Qv4A6IX6si3yHUAv5A+AXqgv2yLfAfRC/gDohfqyLfIdQC/kD4BeqC/bIt8B9EL+AOiF+rIt8h1AL+QPgF6oL9si3wH0Qv4A6IX6si3yHUAv5A+AXqgv2yLfAfRC/gDohfqyLfIdQC/kD4BeqC/bIt8B9EL+AOiF+rIt8h1AL+QPgF6oL9si3wH0Qv4A6IX6si3yHUAv5A+AXqgv2yLfAfRC/gDohfqyLfIdQC/kD4BeqC/bIt8B9EL+AOiF+rIt8h1AL+QPgF6oL9si3wH0Qv4A6IX6si3yHUAv5A+AXqgv2yLfAfRC/gDohfqyLfIdQC/kD4BeqC/bIt8B9EL+AOiF+rIt8h1AL+QPgF6oL9si3wH0Qv4A6IX6si3yHUAv5A+AXqgv2yLfAfRC/gDohfqyLfIdQC/kD4BeqC/bIt8B9EL+AOiF+rIt8h1AL+QPgF6oL9si3wH0Qv4A6IX6si3yHUAv5A+AXqgv2yLfAfRC/gDohfqyLfIdQC/kD4BeqC/bIt8B9EL+AOiF+rIt8h1AL+QPgF6oL9si3wH0Qv4A6IX6si3yHUAv5A+AXqgv2yLfAfRC/gDohfqyLfIdQC/kD4BeqC/bIt8B9EL+AOiF+rIt8h1AL+QPgF6oL9si3wH0Qv4A6IX6si3yHUAv5A+AXqgv2yLfAfRC/gDohfqyLfIdQC/kD4BeqC/bIt8B9EL+AOiF+rKhX375ZZhfAACARzNUQbYe2of6UvA3f/M39v8A4LbIHwC9HJg/1JcAAAA4EvUlAAAAjnRAfdm62fMBAADgCqgvAQAAcCTqSwAAABxpe30JAAAA5KgvAQAAcCTqSwAAAByJ+hIAAABHor4EAADAkagvAQAAcCTqSwAAAByJ+hIAAABHor4EAADAkagvAQAAcCTqSwAAAByJ+hIAAODs/uXf/9H+3xVQXwIAAJzdP/zz316oxKS+BAAAOLuhvrxQiUl9CQAAcHamvrxKiUl9CQAAcHauvrxEiUl9CQAAcHZhfXn+EpP6EgAA4OyS+nJoZy4xqS8BAADOzpWVf/q3v3f/f9oSk/oSAADg7FxN+V///Z/nLzGpLwEAAM7OFZTD/5+/xKS+BAAAODtXTZoPT15iUl8CAACcnSsl7cfnLjGpLwEAAM7O1ZH248lpS0zqSwAAgLNzRaT9eHbOEpP6EgAA4OxcBWk/DpywxKS+BAAAODtXPtqPY2crMakvAQAAzs7VjvbjzKlKTOpLAACAs3OFo/1Ycp4Sk/oy5e4KjUaj0Wg02tmarVcKTlJiUl+m3C2h0Wg0Go1GO1uz9UrZGUpM6suUux80Go1Go9FoZ2u2XqnqXmJSX6bczbAfAwAAXE3fEpP6MuXuhP0YAADggjqWmNSXKXcb7McAAADX1KvEpL5MuXtgPwYAALisLiUm9WXK3QD7MQAAwJXdvsSkvky52bcfAwAAXNyNS0zqy5SbevsxgDv18+Xp26dPQ/v+8mE3Va3dHwBO5ZYlJvVlys27/RjAtXy8fJ+qwLQ9vfy0e1i/P8+fev5iN1Wtqy+/PNvOs/MCQC83KzGpL1Nu0u3HAK7FFXZCe/otqAzbvn951fryy7sZ9qfn3+0WAHflNiUm9WXKzbj9GMC1SIWdf6tyR7VHfQngPtygxKS+TLnpth8DuBa5sHNlU/QW5irUlwDuRusSk/oy5ebafgzgWuTC7uO3J1M2+fpSrhfd4dmnhP0rRWT2qfnwsW5zXY1t/unPcGNSwobHRiPMz5v/+Kn406XSZfp3ecOm++FUAJfTtMSkvky5ibYfA7gWueYT3pbL68Wo7Jvb+1xfpfsHlZzbxyvWl0/fbaUbtKen/N8khSWmqy/fhRJQuKK0RVPhSu2oDZdAfQk8mnYlJvVlys2y/RjAtQj1ZVBRBdVSWi+6GtQfOG4p1JeuYJWKy0GxvnQ9pO812n78O4uFwtFegr8oV4lOu4U/AFB717ZwmUIhDuCONSoxqS9TbortxwCuxddnWYvfiovrxUFeX0bC/d1bfXJxOSjXl64cHEj9VIvC8BKESjrlDpz7FzqPUV8CD2coMf/3//2frv751//4J/uJHagvU25+7ccArqVUX2bf580KvuBtzrGlBZYv8uYWVoqpNvVlfEaxFnQbo6Z+e5L6Eng4//Lv/+iKnz/9298P5ab9xA7Ulyk3xfZjANeSFnZB1bjw/uUgKTGjtwb9/k+u0CwXYT3qS7db3mz/7jvyxbc8qS+Bx9KiuBxQX6bcLNuPAVyL8F1j/5ZeUMaVirZR9C9d5qo03N/vkL0tanWoL92HwoFpfVksH6kvgQfSqLgcUF+m3ETbjwFci1Bf+jIrLAcLRZszV1pygSjXrF6b+jIqZ5NTuNpRusa5f6EGjVFfAo+iXXE5oL5Mubm2HwO4Fqm+DN63K78pOO3j67zsW8np/u5EYinWqL4cmi0ffYEbjn/aMo/Hj9D379959fMznnHeQTg7gPvTtLgcUF+m3HTbjwFci1hfhnXV/PaeWF/afYLmKrO8QMz79NrVl0kLLtOPJ2tB/74wDZsbVXqu/NIAXFzr4nJAfZlyM24/BnAthfoyeDPPvr0nFHxpiRm9MSkViOVvN7epL4djo/ovK/6izw7jn68o6H+UVKLhkAbhZ5NPAbi6GxSXA+rLlJt0+zEA9CbWpgCw1m2KywH1ZcrNu/0YAHqjvgSw382KywH1ZcpNvf0YAHqjvgSw0y2LywH1ZcrNvv0YAHqjvgSwx42LywH1ZcrdAPsxAADAZd2+uBxQX6bcPbAfAwAAXFOX4nJAfZlyt8F+DAAAcEG9issB9WXK3QkajUaj0Wi0szVbryzpWFwOqC9T7mbQaDQajUajna3ZeqWqb3E5oL5MuftBo9FoNBqNdrZm65Wy7sXlgPoSAADg7FzJaD8uOENxOaC+BAAAODtXNdqPJScpLgfUlwAAAGfnCkf7ceY8xeWA+hIAAODsXO1oP46dqrgcUF8CAACcnSsf7ceBsxWXA+pLAACAs3MVpP14dsLickB9CQAAcHauiLQfT85ZXA6oLwEAAM7O1ZH24xMXlwPqSwAAgLNzpaT58MzF5YD6EgAA4OxcNTn8/8mLywH1JQAAwNm5gvL8xeWA+hIAAODsXE3p2mmLywH1JQAAwNldqLgcUF8CAACc3YWKywH1JQAAwNldqLgcUF8CAACc3YWKywH1JQAAwNldqLgcUF8CAACc3YWKywH1JQAAwNldqLj861//+v8BwtikJ/YScDsAAAAASUVORK5CYII=)\n",
        "\n",
        "Sumber: Schmidt (tanpa tanggal a)"
      ],
      "metadata": {
        "id": "EwihUdhNPhJX"
      }
    },
    {
      "cell_type": "markdown",
      "source": [
        "## DATA ANALYSIS METHOD"
      ],
      "metadata": {
        "id": "a_dVU16cuu-E"
      }
    },
    {
      "cell_type": "markdown",
      "source": [
        "Metode analisis data pada *capstone project* ini dilakukan dengan tahapan sebagai berikut:\n",
        "\n",
        "A. Data yang dianalisis dan proses cleansing data\n",
        "\n",
        "Data yang diexploratory untuk menjawab keseluruhan *problem statement* pada *capstone project* hanyalah data pada kolom dob, gender, payment_mode, dan delivery_charge yang berasal dari tabel Customers, Orders, dan Vendor, Tabel Locations tidak digunakan dan tidak diexploratory. Pada keseluruhan tabel di Restaurant_Dataset.db juga dilakukan beberapa proses data cleansing berupa:\n",
        "- Cek Tipe Data Secara Terpisah\n",
        "- Cek Tipe Data, Cek *Missing Value*, dan Menghitung Rasio *Missing Value* Secara Simultan\n",
        "- Cek *Duplicate*\n",
        "\n",
        "B. Metode analisis data untuk menjawab *problem statement* pertama\n",
        "\n",
        "Metode analisis data yang dilakukan untuk menjawab *problem statement* pertama adalah dengan:\n",
        "- Mencari sebaran usia *customer* secara keseluruhan untuk mengetahu usia tertua dan termuda *customer* restoran ini dengan menggunakan fungsi utama COUNT dan GROUP BY. \n",
        "- Melakukan pengelompokan data dob dan membuat interval generasi dimana: (1) Generasi *Baby Boomber* yang lahir di tahun 1946-1964, (2) Generasi X yang lahir di tahun 1965-1976, (3) Generasi *Millenial* yang lahir di tahun 1977-1995, dan (4) Generasi Z yang lahir di tahun 1996-2010 dengan menggunakan fungsi utama COUNT, GROUP BY, dan WHERE.\n",
        "- Setelah dilakukan *count* pada data dob dan membuat interval generasi lalu, data tersebut dibuatkan data frame pandas dan visualisasi pie chartnya menggunkan matplotlib untuk mengetahui persentase sebaran interval segmentasi generasi *customer* di Restoran ini. \n",
        "- Mencari sebaran data gender *customer* secara keseluruhan dengan menggunakan fungsi COUNT dan GROUP BY.\n",
        "- Setelah dicari sebaran data gender *customer* secara keseluruhan, data tersebut dibuatkan data frame pandas dan visualisasi pie chartnya menggunkan matplotlib untuk mengetahui persentase sebaran segmentasi gender *customer* di Restoran ini. \n",
        "\n",
        "C. Metode analisis data untuk menjawab *problem statement* kedua\n",
        "\n",
        "Metode analisis data yang dilakukan untuk menjawab *problem statement* kedua adalah dengan:\n",
        "- Mencari sebaran data payment_mode secara keseluruhan dengan menggunakan fungsi utama COUNT dan GROUP BY.\n",
        "- Setelah dicari sebaran data payment_mode secara keseluruhan, data tersebut dibuatkan data frame pandas dan visualisasi pie chartnya menggunkan matplotlib untuk mengetahui persentase sebaran data payment_mode di Restoran ini. \n",
        "\n",
        "D. Metode analisis data untuk menjawab *problem statement* ketiga\n",
        "\n",
        "Metode analisis data yang dilakukan untuk menjawab *problem statement* ketiga adalah dengan:\n",
        "- Mencari sebaran data delivery_charge secara keseluruhan.\n",
        "- Setelah dicari sebaran data delivery_charge secara keseluruhan, data tersebut dibuatkan data frame pandas dan visualisasi pie chartnya menggunkan matplotlib untuk mengetahui persentase sebaran data biaya pengiriman Vendor di Restoran ini. "
      ],
      "metadata": {
        "id": "I6PNcPrE3aop"
      }
    },
    {
      "cell_type": "markdown",
      "metadata": {
        "id": "WlX3RVe4Kn8L"
      },
      "source": [
        "## DATA CLEANSING"
      ]
    },
    {
      "cell_type": "markdown",
      "source": [
        "### Cek Tipe Data Secara Terpisah"
      ],
      "metadata": {
        "id": "xqTTp85v6BXR"
      }
    },
    {
      "cell_type": "code",
      "source": [
        "# Cek tipe data pada tabel Orders\n",
        "pd.read_sql_query(\"\"\"\n",
        "                    SELECT \n",
        "                        *\n",
        "                    FROM Orders\n",
        "                  \"\"\", conn).dtypes"
      ],
      "metadata": {
        "colab": {
          "base_uri": "https://localhost:8080/"
        },
        "id": "5ezQy5Rv6YEP",
        "outputId": "a2ed2d43-df82-43c1-84db-0c72552327c1"
      },
      "execution_count": 12,
      "outputs": [
        {
          "output_type": "execute_result",
          "data": {
            "text/plain": [
              "order_id            float64\n",
              "customer_id          object\n",
              "item_count          float64\n",
              "grand_total         float64\n",
              "payment_mode          int64\n",
              "is_favorite          object\n",
              "is_rated             object\n",
              "driver_rating       float64\n",
              "deliverydistance    float64\n",
              "vendor_id             int64\n",
              "created_at           object\n",
              "LOCATION_NUMBER       int64\n",
              "dtype: object"
            ]
          },
          "metadata": {},
          "execution_count": 12
        }
      ]
    },
    {
      "cell_type": "markdown",
      "source": [
        "Interpretasi: \n",
        "- Data yang akan diexploratory dari tabel ini hanyalah berasal dari kolom payment_mode.\n",
        "- Dari informasi diatas diketahui bahwa tipe data pada kolom payment_mode adalah integer yang sudah tepat untuk diexploratory."
      ],
      "metadata": {
        "id": "VrGRa5JH7PG_"
      }
    },
    {
      "cell_type": "code",
      "source": [
        "# Cek tipe data pada tabel Customers\n",
        "pd.read_sql_query(\"\"\"\n",
        "                    SELECT \n",
        "                        *\n",
        "                    FROM Customers\n",
        "                  \"\"\", conn).dtypes"
      ],
      "metadata": {
        "colab": {
          "base_uri": "https://localhost:8080/"
        },
        "id": "KUrYpnPt6a4o",
        "outputId": "f8f35267-7e4e-4c2c-c6f6-c09775a4189d"
      },
      "execution_count": 13,
      "outputs": [
        {
          "output_type": "execute_result",
          "data": {
            "text/plain": [
              "customer_id    object\n",
              "gender         object\n",
              "dob             int64\n",
              "status          int64\n",
              "verified        int64\n",
              "created_at     object\n",
              "updated_at     object\n",
              "dtype: object"
            ]
          },
          "metadata": {},
          "execution_count": 13
        }
      ]
    },
    {
      "cell_type": "markdown",
      "source": [
        "Interpretasi:\n",
        "- Data yang akan diexploratory dari tabel ini hanyalah berasal dari kolom gender dan dob.\n",
        "- Dari informasi diatas diketahui bahwa tipe data pada kolom gender adalah object dan tipe data pada kolom dob adalah integer yang sudah bisa untuk diexploratory."
      ],
      "metadata": {
        "id": "62zNE7kA7x9Y"
      }
    },
    {
      "cell_type": "code",
      "source": [
        "# Cek tipe data pada tabel Vendors\n",
        "pd.read_sql_query(\"\"\"\n",
        "                    SELECT \n",
        "                        *\n",
        "                    FROM Vendors\n",
        "                  \"\"\", conn).dtypes"
      ],
      "metadata": {
        "colab": {
          "base_uri": "https://localhost:8080/"
        },
        "id": "peCQpNIi8CXU",
        "outputId": "27d6c526-af3d-4710-b6bc-6b15b9cd82ea"
      },
      "execution_count": 14,
      "outputs": [
        {
          "output_type": "execute_result",
          "data": {
            "text/plain": [
              "vendor_id                int64\n",
              "authentication_id      float64\n",
              "latitude               float64\n",
              "longitude              float64\n",
              "vendor_category_en      object\n",
              "delivery_charge        float64\n",
              "serving_distance       float64\n",
              "is_open                float64\n",
              "OpeningTime             object\n",
              "prepration_time          int64\n",
              "discount_percentage    float64\n",
              "status                 float64\n",
              "verified                 int64\n",
              "rank                     int64\n",
              "vendor_rating          float64\n",
              "vendor_tag              object\n",
              "vendor_tag_name         object\n",
              "created_at              object\n",
              "updated_at              object\n",
              "device_type              int64\n",
              "dtype: object"
            ]
          },
          "metadata": {},
          "execution_count": 14
        }
      ]
    },
    {
      "cell_type": "markdown",
      "source": [
        "Interpretasi:\n",
        "- Data yang akan diexploratory dari tabel ini hanyalah berasal dari kolom delivery_charge.\n",
        "- Dari informasi diatas diketahui bahwa tipe data pada kolom delivery_charge adalah float yang sudah tepat untuk diexploratory."
      ],
      "metadata": {
        "id": "YVB_XK3m8IxX"
      }
    },
    {
      "cell_type": "code",
      "source": [
        "# Cek tipe data pada tabel Locations\n",
        "pd.read_sql_query(\"\"\"\n",
        "                    SELECT \n",
        "                        *\n",
        "                    FROM Locations\n",
        "                  \"\"\", conn).dtypes"
      ],
      "metadata": {
        "colab": {
          "base_uri": "https://localhost:8080/"
        },
        "id": "7yoQhOj085zI",
        "outputId": "b62a218a-b8ac-4479-826e-fc98ef626de5"
      },
      "execution_count": 15,
      "outputs": [
        {
          "output_type": "execute_result",
          "data": {
            "text/plain": [
              "customer_id         object\n",
              "location_number      int64\n",
              "latitude           float64\n",
              "longitude          float64\n",
              "dtype: object"
            ]
          },
          "metadata": {},
          "execution_count": 15
        }
      ]
    },
    {
      "cell_type": "markdown",
      "source": [
        "Interpretasi: Dari informasi diatas, dapat diketahui bahwa keseluruha kolom pada tabel Locations sudah tepat namun, tidak ada kolom data yang akan diexploratory dari tabel ini."
      ],
      "metadata": {
        "id": "EDnlLh1w9IHV"
      }
    },
    {
      "cell_type": "markdown",
      "source": [
        "### Cek Tipe Data, Cek *Missing Value*, dan Menghitung Rasio *Missing Value* Secara Simultan"
      ],
      "metadata": {
        "id": "mUARrZ5CMhP-"
      }
    },
    {
      "cell_type": "markdown",
      "source": [
        "#### 1.Cek Tipe Data, Cek *Missing Value*, dan Menghitung Rasio *Missing Value* Secara Simultan Pada Tabel Orders"
      ],
      "metadata": {
        "id": "RE6mrWsKmDX4"
      }
    },
    {
      "cell_type": "code",
      "source": [
        "# Memunculkan informasi jumlah data dan tipe data tiap kolom dalam tabel Orders.\n",
        "pd.read_sql_query(\"\"\"\n",
        "                    SELECT \n",
        "                        *\n",
        "                    FROM Orders\n",
        "                  \"\"\", conn).info()"
      ],
      "metadata": {
        "id": "5L-2t-Auy5y4",
        "colab": {
          "base_uri": "https://localhost:8080/"
        },
        "outputId": "ef4ed874-3444-4e10-b41c-5f8744ea7162"
      },
      "execution_count": 16,
      "outputs": [
        {
          "output_type": "stream",
          "name": "stdout",
          "text": [
            "<class 'pandas.core.frame.DataFrame'>\n",
            "RangeIndex: 9768 entries, 0 to 9767\n",
            "Data columns (total 12 columns):\n",
            " #   Column            Non-Null Count  Dtype  \n",
            "---  ------            --------------  -----  \n",
            " 0   order_id          9764 non-null   float64\n",
            " 1   customer_id       9768 non-null   object \n",
            " 2   item_count        9261 non-null   float64\n",
            " 3   grand_total       9768 non-null   float64\n",
            " 4   payment_mode      9768 non-null   int64  \n",
            " 5   is_favorite       9668 non-null   object \n",
            " 6   is_rated          9768 non-null   object \n",
            " 7   driver_rating     9768 non-null   float64\n",
            " 8   deliverydistance  9768 non-null   float64\n",
            " 9   vendor_id         9768 non-null   int64  \n",
            " 10  created_at        9768 non-null   object \n",
            " 11  LOCATION_NUMBER   9768 non-null   int64  \n",
            "dtypes: float64(5), int64(3), object(4)\n",
            "memory usage: 915.9+ KB\n"
          ]
        }
      ]
    },
    {
      "cell_type": "markdown",
      "source": [
        "Interpretasi: \n",
        "- Dari informasi diatas diketahui bahwa tipe data pada kolom payment_mode adalah integer yang sudah tepat untuk dianalisis lebih lanjut.\n",
        "- Dari informasi diatas diketahui bahwa terdapat perbedaan jumlah data pada masing-masing kolom. Pada \"Range Index\" tertulis 9768 data terisi, sedangkan kolom order_id, item_count, dan is_favorite hanya memiliki jumlah data yang kurang dari 9768. Hal tersebut mengindikasikan bahwa terdapat *missing value* pada kolom order_id, item_count, dan is_favorite namun hal ini tidak menjadi masalah sebab, data yang akan diexploratory dari tabel ini hanya di kolom payment_mode."
      ],
      "metadata": {
        "id": "VFv-7tFIBjr0"
      }
    },
    {
      "cell_type": "code",
      "source": [
        "# Mengecek berapa jumlah null value pada masing masing kolom dalam tabel Orders. \n",
        "jumlah_missing = pd.isnull(pd.read_sql_query(\"\"\"\n",
        "                    SELECT \n",
        "                        *\n",
        "                    FROM Orders\n",
        "                  \"\"\", conn)).sum()\n",
        "jumlah_missing"
      ],
      "metadata": {
        "id": "WH-bjj3dzDLe",
        "colab": {
          "base_uri": "https://localhost:8080/"
        },
        "outputId": "2e81d1d1-5c5b-47b4-82ab-46016db5ec55"
      },
      "execution_count": 17,
      "outputs": [
        {
          "output_type": "execute_result",
          "data": {
            "text/plain": [
              "order_id              4\n",
              "customer_id           0\n",
              "item_count          507\n",
              "grand_total           0\n",
              "payment_mode          0\n",
              "is_favorite         100\n",
              "is_rated              0\n",
              "driver_rating         0\n",
              "deliverydistance      0\n",
              "vendor_id             0\n",
              "created_at            0\n",
              "LOCATION_NUMBER       0\n",
              "dtype: int64"
            ]
          },
          "metadata": {},
          "execution_count": 17
        }
      ]
    },
    {
      "cell_type": "markdown",
      "source": [
        "Interpretasi: Dari informasi diatas diketahui bahwa jumlah *missing value* pada kolom order_id sebesar 4, item_count sebesar 507, dan is_favorite sebesar 100 namun hal ini tidak masalah sebab, data yang akan diexploratory dari tabel ini hanya pada kolom payment_mode yang tidak memiliki *missing value*."
      ],
      "metadata": {
        "id": "Nwa8UyhqBm0o"
      }
    },
    {
      "cell_type": "code",
      "source": [
        "# menghitung ratio missing value pada tabel Orders\n",
        "rasio = jumlah_missing.div(len(pd.read_sql_query(\"\"\"\n",
        "                    SELECT \n",
        "                        *\n",
        "                    FROM Orders\n",
        "                  \"\"\", conn)))\n",
        "rasio"
      ],
      "metadata": {
        "colab": {
          "base_uri": "https://localhost:8080/"
        },
        "id": "JooEv8bhySpm",
        "outputId": "61babb71-79be-4964-d5d6-49db3461ca00"
      },
      "execution_count": 18,
      "outputs": [
        {
          "output_type": "execute_result",
          "data": {
            "text/plain": [
              "order_id            0.000410\n",
              "customer_id         0.000000\n",
              "item_count          0.051904\n",
              "grand_total         0.000000\n",
              "payment_mode        0.000000\n",
              "is_favorite         0.010238\n",
              "is_rated            0.000000\n",
              "driver_rating       0.000000\n",
              "deliverydistance    0.000000\n",
              "vendor_id           0.000000\n",
              "created_at          0.000000\n",
              "LOCATION_NUMBER     0.000000\n",
              "dtype: float64"
            ]
          },
          "metadata": {},
          "execution_count": 18
        }
      ]
    },
    {
      "cell_type": "markdown",
      "source": [
        "Interpretasi: Dari informasi diatas, dapat diketahui bahwa kolom order_id, item_count, dan is_favorite memiliki rasio *missing value* < 60% sehingga, ketiga kolom tersebut tidak dihilangkan (drop) dari tabel ini."
      ],
      "metadata": {
        "id": "45XoXOUizrTm"
      }
    },
    {
      "cell_type": "markdown",
      "source": [
        "#### 2.Cek Tipe Data, Cek *Missing Value*, dan Menghitung Rasio *Missing Value* Secara Simultan Pada Tabel Customers"
      ],
      "metadata": {
        "id": "zKSv4P2fmcnW"
      }
    },
    {
      "cell_type": "code",
      "source": [
        "# Memunculkan informasi jumlah data dan tipe data tiap kolom dalam tabel Customers.\n",
        "pd.read_sql_query(\"\"\"\n",
        "                    SELECT \n",
        "                        *\n",
        "                    FROM Customers\n",
        "                  \"\"\", conn).info()"
      ],
      "metadata": {
        "colab": {
          "base_uri": "https://localhost:8080/"
        },
        "id": "nIKlTHfxmgGd",
        "outputId": "0d98dbee-a846-445f-e991-39d06f685722"
      },
      "execution_count": 19,
      "outputs": [
        {
          "output_type": "stream",
          "name": "stdout",
          "text": [
            "<class 'pandas.core.frame.DataFrame'>\n",
            "RangeIndex: 9768 entries, 0 to 9767\n",
            "Data columns (total 7 columns):\n",
            " #   Column       Non-Null Count  Dtype \n",
            "---  ------       --------------  ----- \n",
            " 0   customer_id  9768 non-null   object\n",
            " 1   gender       9768 non-null   object\n",
            " 2   dob          9768 non-null   int64 \n",
            " 3   status       9768 non-null   int64 \n",
            " 4   verified     9768 non-null   int64 \n",
            " 5   created_at   9768 non-null   object\n",
            " 6   updated_at   9768 non-null   object\n",
            "dtypes: int64(3), object(4)\n",
            "memory usage: 534.3+ KB\n"
          ]
        }
      ]
    },
    {
      "cell_type": "markdown",
      "source": [
        "Interpretasi: \n",
        "- Dari informasi diatas diketahui bahwa tipe data pada kolom gender adalah object dan tipe data pada kolom dob adalah integer yang sudah bisa untuk dianalisis lebih lanjut.\n",
        "- Dari informasi diatas diketahui bahwa pada \"Range Index\" tertulis 9768 data terisi dan seluruh kolom data pada tabel customers ini tidak ditemukan *missing value*. Data yang akan diexploratory dari tabel ini hanya di kolom gender dan dob."
      ],
      "metadata": {
        "id": "T6UQ6h8dBprN"
      }
    },
    {
      "cell_type": "code",
      "source": [
        "# Mengecek berapa jumlah null value pada masing masing kolom dalam tabel Customers. \n",
        "jumlah_missing = pd.isnull(pd.read_sql_query(\"\"\"\n",
        "                    SELECT \n",
        "                        *\n",
        "                    FROM Customers\n",
        "                  \"\"\", conn)).sum()\n",
        "jumlah_missing"
      ],
      "metadata": {
        "colab": {
          "base_uri": "https://localhost:8080/"
        },
        "id": "8xQBtHBdmqCG",
        "outputId": "17ac9031-25cb-41b1-fcaa-33df82e935b5"
      },
      "execution_count": 20,
      "outputs": [
        {
          "output_type": "execute_result",
          "data": {
            "text/plain": [
              "customer_id    0\n",
              "gender         0\n",
              "dob            0\n",
              "status         0\n",
              "verified       0\n",
              "created_at     0\n",
              "updated_at     0\n",
              "dtype: int64"
            ]
          },
          "metadata": {},
          "execution_count": 20
        }
      ]
    },
    {
      "cell_type": "markdown",
      "source": [
        "Interpretasi: Dari informasi diatas diketahui bahwa jumlah *missing value* pada seluruh kolom di tabel Customers adalah 0 namun, data yang akan dianalisis lebih lanjut hanya berasal dari kolom gender dan dob."
      ],
      "metadata": {
        "id": "SdJ3BBdZCgXE"
      }
    },
    {
      "cell_type": "code",
      "source": [
        "# menghitung ratio missing value pada tabel Customers\n",
        "rasio = jumlah_missing.div(len(pd.read_sql_query(\"\"\"\n",
        "                    SELECT \n",
        "                        *\n",
        "                    FROM Customers\n",
        "                  \"\"\", conn)))\n",
        "rasio"
      ],
      "metadata": {
        "colab": {
          "base_uri": "https://localhost:8080/"
        },
        "id": "Wur00E22yU_R",
        "outputId": "173d54b9-7667-4249-88df-ffb0ef165818"
      },
      "execution_count": 21,
      "outputs": [
        {
          "output_type": "execute_result",
          "data": {
            "text/plain": [
              "customer_id    0.0\n",
              "gender         0.0\n",
              "dob            0.0\n",
              "status         0.0\n",
              "verified       0.0\n",
              "created_at     0.0\n",
              "updated_at     0.0\n",
              "dtype: float64"
            ]
          },
          "metadata": {},
          "execution_count": 21
        }
      ]
    },
    {
      "cell_type": "markdown",
      "source": [
        "Interpretasi: Dari informasi diatas diketahui bahwa rasio *missing value* pada seluruh kolom di tabel Customers adalah 0 sehingga, tidak ada kolom yang  dihilangkan (drop) dari tabel ini."
      ],
      "metadata": {
        "id": "a3LPUiLa0a4_"
      }
    },
    {
      "cell_type": "markdown",
      "source": [
        "#### 3.Cek Tipe Data, Cek *Missing Value*, dan Menghitung Rasio *Missing Value* Secara Simultan Pada Tabel Vendors"
      ],
      "metadata": {
        "id": "rBiSkSoYm1Ok"
      }
    },
    {
      "cell_type": "code",
      "source": [
        "# Memunculkan informasi jumlah data dan tipe data tiap kolom dalam tabel Vendors.\n",
        "pd.read_sql_query(\"\"\"\n",
        "                    SELECT \n",
        "                        *\n",
        "                    FROM Vendors\n",
        "                  \"\"\", conn).info()"
      ],
      "metadata": {
        "colab": {
          "base_uri": "https://localhost:8080/"
        },
        "id": "vrXY-D6Jmz99",
        "outputId": "ab44e85c-7ca2-4650-81bc-6240f942e04a"
      },
      "execution_count": 22,
      "outputs": [
        {
          "output_type": "stream",
          "name": "stdout",
          "text": [
            "<class 'pandas.core.frame.DataFrame'>\n",
            "RangeIndex: 100 entries, 0 to 99\n",
            "Data columns (total 20 columns):\n",
            " #   Column               Non-Null Count  Dtype  \n",
            "---  ------               --------------  -----  \n",
            " 0   vendor_id            100 non-null    int64  \n",
            " 1   authentication_id    100 non-null    float64\n",
            " 2   latitude             100 non-null    float64\n",
            " 3   longitude            100 non-null    float64\n",
            " 4   vendor_category_en   100 non-null    object \n",
            " 5   delivery_charge      100 non-null    float64\n",
            " 6   serving_distance     100 non-null    float64\n",
            " 7   is_open              100 non-null    float64\n",
            " 8   OpeningTime          91 non-null     object \n",
            " 9   prepration_time      100 non-null    int64  \n",
            " 10  discount_percentage  100 non-null    float64\n",
            " 11  status               100 non-null    float64\n",
            " 12  verified             100 non-null    int64  \n",
            " 13  rank                 100 non-null    int64  \n",
            " 14  vendor_rating        100 non-null    float64\n",
            " 15  vendor_tag           97 non-null     object \n",
            " 16  vendor_tag_name      97 non-null     object \n",
            " 17  created_at           100 non-null    object \n",
            " 18  updated_at           100 non-null    object \n",
            " 19  device_type          100 non-null    int64  \n",
            "dtypes: float64(9), int64(5), object(6)\n",
            "memory usage: 15.8+ KB\n"
          ]
        }
      ]
    },
    {
      "cell_type": "markdown",
      "source": [
        "Interpretasi: \n",
        "- Dari informasi diatas diketahui bahwa tipe data pada kolom delivery_charge adalah float yang sudah tepat untuk dianalisis lebih lanjut.\n",
        "- Dari informasi diatas diketahui bahwa terdapat perbedaan jumlah data pada masing-masing kolom. Pada \"Range Index\" tertulis 100 data terisi, sedangkan kolom OpeningTime, vendor_tag, dan vendor_tag_name hanya memiliki jumlah data yang kurang dari 100. Hal tersebut mengindikasikan bahwa terdapat *missing value* pada kolom OpeningTime, vendor_tag, dan vendor_tag_name namun hal ini tidak menjadi masalah sebab, data yang akan diexploratory dari tabel ini hanya di kolom delivery_charge."
      ],
      "metadata": {
        "id": "aNtbw1DYGsES"
      }
    },
    {
      "cell_type": "code",
      "source": [
        "# Mengecek berapa jumlah null value pada masing masing kolom. \n",
        "jumlah_missing = pd.isnull(pd.read_sql_query(\"\"\"\n",
        "                    SELECT \n",
        "                        *\n",
        "                    FROM Vendors\n",
        "                  \"\"\", conn)).sum()\n",
        "jumlah_missing"
      ],
      "metadata": {
        "colab": {
          "base_uri": "https://localhost:8080/"
        },
        "id": "0JTN8YhInCXk",
        "outputId": "560fb15d-a4b6-44d6-bc49-538f3f1b0b45"
      },
      "execution_count": 23,
      "outputs": [
        {
          "output_type": "execute_result",
          "data": {
            "text/plain": [
              "vendor_id              0\n",
              "authentication_id      0\n",
              "latitude               0\n",
              "longitude              0\n",
              "vendor_category_en     0\n",
              "delivery_charge        0\n",
              "serving_distance       0\n",
              "is_open                0\n",
              "OpeningTime            9\n",
              "prepration_time        0\n",
              "discount_percentage    0\n",
              "status                 0\n",
              "verified               0\n",
              "rank                   0\n",
              "vendor_rating          0\n",
              "vendor_tag             3\n",
              "vendor_tag_name        3\n",
              "created_at             0\n",
              "updated_at             0\n",
              "device_type            0\n",
              "dtype: int64"
            ]
          },
          "metadata": {},
          "execution_count": 23
        }
      ]
    },
    {
      "cell_type": "markdown",
      "source": [
        "Interpretasi: Dari informasi diatas diketahui bahwa jumlah *missing value* pada kolom OpeningTime sebesar 9, vendor_tag sebesar 3, dan vendor_tag_name sebesar 3 namun hal ini tidak masalah sebab, data yang akan diexploratory dari tabel ini hanya pada kolom delivery_charge yang tidak memiliki *missing value*."
      ],
      "metadata": {
        "id": "U_dQfWOKH1Ea"
      }
    },
    {
      "cell_type": "code",
      "source": [
        "# menghitung ratio missing value pada tabel Vendors\n",
        "rasio = jumlah_missing.div(len(pd.read_sql_query(\"\"\"\n",
        "                    SELECT \n",
        "                        *\n",
        "                    FROM Vendors\n",
        "                  \"\"\", conn)))\n",
        "rasio"
      ],
      "metadata": {
        "colab": {
          "base_uri": "https://localhost:8080/"
        },
        "id": "a_v73urKyZLA",
        "outputId": "bdf06839-f970-4f0b-9336-ba2b5e1ca54c"
      },
      "execution_count": 24,
      "outputs": [
        {
          "output_type": "execute_result",
          "data": {
            "text/plain": [
              "vendor_id              0.00\n",
              "authentication_id      0.00\n",
              "latitude               0.00\n",
              "longitude              0.00\n",
              "vendor_category_en     0.00\n",
              "delivery_charge        0.00\n",
              "serving_distance       0.00\n",
              "is_open                0.00\n",
              "OpeningTime            0.09\n",
              "prepration_time        0.00\n",
              "discount_percentage    0.00\n",
              "status                 0.00\n",
              "verified               0.00\n",
              "rank                   0.00\n",
              "vendor_rating          0.00\n",
              "vendor_tag             0.03\n",
              "vendor_tag_name        0.03\n",
              "created_at             0.00\n",
              "updated_at             0.00\n",
              "device_type            0.00\n",
              "dtype: float64"
            ]
          },
          "metadata": {},
          "execution_count": 24
        }
      ]
    },
    {
      "cell_type": "markdown",
      "source": [
        "Interpretasi: Dari informasi diatas, dapat diketahui bahwa kolom OpeningTime, vendor_tag, dan vendor_tag_name memiliki rasio *missing value* < 60% sehingga, ketiga kolom tersebut tidak dihilangkan (drop) dari tabel ini."
      ],
      "metadata": {
        "id": "9mHcd8RK1Ak2"
      }
    },
    {
      "cell_type": "markdown",
      "source": [
        "#### 4.Cek Tipe Data, Cek *Missing Value*, dan Menghitung Rasio *Missing Value* Secara Simultan Pada Tabel Locations"
      ],
      "metadata": {
        "id": "_IsLm_XdwqIW"
      }
    },
    {
      "cell_type": "code",
      "source": [
        "# Memunculkan informasi jumlah data dan tipe data tiap kolom dalam tabel Orders.\n",
        "pd.read_sql_query(\"\"\"\n",
        "                    SELECT \n",
        "                        *\n",
        "                    FROM Locations\n",
        "                  \"\"\", conn).info()"
      ],
      "metadata": {
        "colab": {
          "base_uri": "https://localhost:8080/"
        },
        "id": "gwhGTbYDwn35",
        "outputId": "4749e179-e9e0-4f73-f67d-66041a7e53f5"
      },
      "execution_count": 25,
      "outputs": [
        {
          "output_type": "stream",
          "name": "stdout",
          "text": [
            "<class 'pandas.core.frame.DataFrame'>\n",
            "RangeIndex: 16720 entries, 0 to 16719\n",
            "Data columns (total 4 columns):\n",
            " #   Column           Non-Null Count  Dtype  \n",
            "---  ------           --------------  -----  \n",
            " 0   customer_id      16720 non-null  object \n",
            " 1   location_number  16720 non-null  int64  \n",
            " 2   latitude         16717 non-null  float64\n",
            " 3   longitude        16717 non-null  float64\n",
            "dtypes: float64(2), int64(1), object(1)\n",
            "memory usage: 522.6+ KB\n"
          ]
        }
      ]
    },
    {
      "cell_type": "markdown",
      "source": [
        "Interpretasi: Dari informasi diatas diketahui bahwa terdapat perbedaan jumlah data pada masing-masing kolom. Pada \"Range Index\" tertulis 16720 data terisi, sedangkan kolom latitude dan longitude hanya memiliki jumlah data yang kurang dari 16720. Hal tersebut mengindikasikan bahwa terdapat *missing value* pada kolom latitude dan longitude namun hal ini tidak menjadi masalah sebab, tidak ada kolom data yang akan diexploratory dari tabel ini."
      ],
      "metadata": {
        "id": "4yc-xe4_3C-J"
      }
    },
    {
      "cell_type": "code",
      "source": [
        "# Mengecek berapa jumlah null value pada masing masing kolom dalam tabel Customers. \n",
        "jumlah_missing = pd.isnull(pd.read_sql_query(\"\"\"\n",
        "                    SELECT \n",
        "                        *\n",
        "                    FROM Locations\n",
        "                  \"\"\", conn)).sum()\n",
        "jumlah_missing"
      ],
      "metadata": {
        "colab": {
          "base_uri": "https://localhost:8080/"
        },
        "id": "H9qqTY5Uwuil",
        "outputId": "4c5ddfe6-2597-46a9-b67f-45c464f52449"
      },
      "execution_count": 26,
      "outputs": [
        {
          "output_type": "execute_result",
          "data": {
            "text/plain": [
              "customer_id        0\n",
              "location_number    0\n",
              "latitude           3\n",
              "longitude          3\n",
              "dtype: int64"
            ]
          },
          "metadata": {},
          "execution_count": 26
        }
      ]
    },
    {
      "cell_type": "markdown",
      "source": [
        "Interpretasi: Dari informasi diatas diketahui bahwa jumlah *missing value* pada kolom latitude sebesar 3 danlongitude sebesar 3 namun, hal ini tidak masalah sebab, tidak ada kolom data yang akan diexploratory dari tabel ini."
      ],
      "metadata": {
        "id": "eUkZbf993snf"
      }
    },
    {
      "cell_type": "code",
      "source": [
        "# menghitung ratio missing value pada tabel Locations\n",
        "rasio = jumlah_missing.div(len(pd.read_sql_query(\"\"\"\n",
        "                    SELECT \n",
        "                        *\n",
        "                    FROM Locations\n",
        "                  \"\"\", conn)))\n",
        "rasio"
      ],
      "metadata": {
        "colab": {
          "base_uri": "https://localhost:8080/"
        },
        "id": "wCZ9_Gn-yfqA",
        "outputId": "63926a1a-a7b1-4ab6-bd0b-b567fc3b3e95"
      },
      "execution_count": 27,
      "outputs": [
        {
          "output_type": "execute_result",
          "data": {
            "text/plain": [
              "customer_id        0.000000\n",
              "location_number    0.000000\n",
              "latitude           0.000179\n",
              "longitude          0.000179\n",
              "dtype: float64"
            ]
          },
          "metadata": {},
          "execution_count": 27
        }
      ]
    },
    {
      "cell_type": "markdown",
      "source": [
        "Interpretasi: Dari informasi diatas, dapat diketahui bahwa kolom latitude dan longitude memiliki jumlah *missing value* < 60% sehingga, kedua kolom tersebut tidak dihilangkan (drop) dari tabel ini."
      ],
      "metadata": {
        "id": "8My09ZHD1o9Y"
      }
    },
    {
      "cell_type": "markdown",
      "source": [
        "### Cek *Duplicate*"
      ],
      "metadata": {
        "id": "gOEvEBILMw13"
      }
    },
    {
      "cell_type": "code",
      "source": [
        "# Cek data duplicate dari tabel Orders\n",
        "pd.read_sql_query(\"\"\"\n",
        "                    SELECT \n",
        "                        *\n",
        "                    FROM Orders\n",
        "                  \"\"\", conn)[pd.read_sql_query(\"\"\"\n",
        "                    SELECT \n",
        "                        *\n",
        "                    FROM Orders\n",
        "                  \"\"\", conn).duplicated(keep=False)]"
      ],
      "metadata": {
        "colab": {
          "base_uri": "https://localhost:8080/",
          "height": 49
        },
        "id": "EThay1JFnXI_",
        "outputId": "279fbead-54df-406b-b95e-f8f044d5a736"
      },
      "execution_count": 28,
      "outputs": [
        {
          "output_type": "execute_result",
          "data": {
            "text/html": [
              "<div>\n",
              "<style scoped>\n",
              "    .dataframe tbody tr th:only-of-type {\n",
              "        vertical-align: middle;\n",
              "    }\n",
              "\n",
              "    .dataframe tbody tr th {\n",
              "        vertical-align: top;\n",
              "    }\n",
              "\n",
              "    .dataframe thead th {\n",
              "        text-align: right;\n",
              "    }\n",
              "</style>\n",
              "<table border=\"1\" class=\"dataframe\">\n",
              "  <thead>\n",
              "    <tr style=\"text-align: right;\">\n",
              "      <th></th>\n",
              "      <th>order_id</th>\n",
              "      <th>customer_id</th>\n",
              "      <th>item_count</th>\n",
              "      <th>grand_total</th>\n",
              "      <th>payment_mode</th>\n",
              "      <th>is_favorite</th>\n",
              "      <th>is_rated</th>\n",
              "      <th>driver_rating</th>\n",
              "      <th>deliverydistance</th>\n",
              "      <th>vendor_id</th>\n",
              "      <th>created_at</th>\n",
              "      <th>LOCATION_NUMBER</th>\n",
              "    </tr>\n",
              "  </thead>\n",
              "  <tbody>\n",
              "  </tbody>\n",
              "</table>\n",
              "</div>"
            ],
            "text/plain": [
              "Empty DataFrame\n",
              "Columns: [order_id, customer_id, item_count, grand_total, payment_mode, is_favorite, is_rated, driver_rating, deliverydistance, vendor_id, created_at, LOCATION_NUMBER]\n",
              "Index: []"
            ]
          },
          "metadata": {},
          "execution_count": 28
        }
      ]
    },
    {
      "cell_type": "markdown",
      "source": [
        "Interpretasi: Dari informasi diatas dapat diketahui bahwa tidak terdapat *duplicate* data pada tabel Orders."
      ],
      "metadata": {
        "id": "qtvliU39IIOZ"
      }
    },
    {
      "cell_type": "code",
      "source": [
        "# Cek data duplicate dari tabel Customers\n",
        "pd.read_sql_query(\"\"\"\n",
        "                    SELECT \n",
        "                        *\n",
        "                    FROM Customers\n",
        "                  \"\"\", conn)[pd.read_sql_query(\"\"\"\n",
        "                    SELECT \n",
        "                        *\n",
        "                    FROM Customers\n",
        "                  \"\"\", conn).duplicated(keep=False)]"
      ],
      "metadata": {
        "colab": {
          "base_uri": "https://localhost:8080/",
          "height": 49
        },
        "id": "xnoiNd2TnhfG",
        "outputId": "a2b5a244-8147-4300-c2f1-0586c21c3fae"
      },
      "execution_count": 29,
      "outputs": [
        {
          "output_type": "execute_result",
          "data": {
            "text/html": [
              "<div>\n",
              "<style scoped>\n",
              "    .dataframe tbody tr th:only-of-type {\n",
              "        vertical-align: middle;\n",
              "    }\n",
              "\n",
              "    .dataframe tbody tr th {\n",
              "        vertical-align: top;\n",
              "    }\n",
              "\n",
              "    .dataframe thead th {\n",
              "        text-align: right;\n",
              "    }\n",
              "</style>\n",
              "<table border=\"1\" class=\"dataframe\">\n",
              "  <thead>\n",
              "    <tr style=\"text-align: right;\">\n",
              "      <th></th>\n",
              "      <th>customer_id</th>\n",
              "      <th>gender</th>\n",
              "      <th>dob</th>\n",
              "      <th>status</th>\n",
              "      <th>verified</th>\n",
              "      <th>created_at</th>\n",
              "      <th>updated_at</th>\n",
              "    </tr>\n",
              "  </thead>\n",
              "  <tbody>\n",
              "  </tbody>\n",
              "</table>\n",
              "</div>"
            ],
            "text/plain": [
              "Empty DataFrame\n",
              "Columns: [customer_id, gender, dob, status, verified, created_at, updated_at]\n",
              "Index: []"
            ]
          },
          "metadata": {},
          "execution_count": 29
        }
      ]
    },
    {
      "cell_type": "markdown",
      "source": [
        "Interpretasi: Dari informasi diatas dapat diketahui bahwa tidak terdapat duplicate data pada tabel Customers."
      ],
      "metadata": {
        "id": "4X-hv3NjIcPS"
      }
    },
    {
      "cell_type": "code",
      "source": [
        "# Cek data duplicate dari tabel Vendors\n",
        "pd.read_sql_query(\"\"\"\n",
        "                    SELECT \n",
        "                        *\n",
        "                    FROM Vendors\n",
        "                  \"\"\", conn)[pd.read_sql_query(\"\"\"\n",
        "                    SELECT \n",
        "                        *\n",
        "                    FROM Vendors\n",
        "                  \"\"\", conn).duplicated(keep=False)]"
      ],
      "metadata": {
        "colab": {
          "base_uri": "https://localhost:8080/",
          "height": 69
        },
        "id": "ZCVRWuGfneEN",
        "outputId": "31b55a5f-2cfb-4b10-9003-d59bac93cbb8"
      },
      "execution_count": 30,
      "outputs": [
        {
          "output_type": "execute_result",
          "data": {
            "text/html": [
              "<div>\n",
              "<style scoped>\n",
              "    .dataframe tbody tr th:only-of-type {\n",
              "        vertical-align: middle;\n",
              "    }\n",
              "\n",
              "    .dataframe tbody tr th {\n",
              "        vertical-align: top;\n",
              "    }\n",
              "\n",
              "    .dataframe thead th {\n",
              "        text-align: right;\n",
              "    }\n",
              "</style>\n",
              "<table border=\"1\" class=\"dataframe\">\n",
              "  <thead>\n",
              "    <tr style=\"text-align: right;\">\n",
              "      <th></th>\n",
              "      <th>vendor_id</th>\n",
              "      <th>authentication_id</th>\n",
              "      <th>latitude</th>\n",
              "      <th>longitude</th>\n",
              "      <th>vendor_category_en</th>\n",
              "      <th>delivery_charge</th>\n",
              "      <th>serving_distance</th>\n",
              "      <th>is_open</th>\n",
              "      <th>OpeningTime</th>\n",
              "      <th>prepration_time</th>\n",
              "      <th>discount_percentage</th>\n",
              "      <th>status</th>\n",
              "      <th>verified</th>\n",
              "      <th>rank</th>\n",
              "      <th>vendor_rating</th>\n",
              "      <th>vendor_tag</th>\n",
              "      <th>vendor_tag_name</th>\n",
              "      <th>created_at</th>\n",
              "      <th>updated_at</th>\n",
              "      <th>device_type</th>\n",
              "    </tr>\n",
              "  </thead>\n",
              "  <tbody>\n",
              "  </tbody>\n",
              "</table>\n",
              "</div>"
            ],
            "text/plain": [
              "Empty DataFrame\n",
              "Columns: [vendor_id, authentication_id, latitude, longitude, vendor_category_en, delivery_charge, serving_distance, is_open, OpeningTime, prepration_time, discount_percentage, status, verified, rank, vendor_rating, vendor_tag, vendor_tag_name, created_at, updated_at, device_type]\n",
              "Index: []"
            ]
          },
          "metadata": {},
          "execution_count": 30
        }
      ]
    },
    {
      "cell_type": "markdown",
      "source": [
        "Interpretasi: Dari informasi diatas dapat diketahui bahwa tidak terdapat duplicate data pada tabel Vendors."
      ],
      "metadata": {
        "id": "h3DGMbq0Iecm"
      }
    },
    {
      "cell_type": "code",
      "source": [
        "# Cek data duplicate dari tabel Locations\n",
        "pd.read_sql_query(\"\"\"\n",
        "                    SELECT \n",
        "                        *\n",
        "                    FROM Locations\n",
        "                  \"\"\", conn)[pd.read_sql_query(\"\"\"\n",
        "                    SELECT \n",
        "                        *\n",
        "                    FROM Locations\n",
        "                  \"\"\", conn).duplicated(keep=False)]"
      ],
      "metadata": {
        "colab": {
          "base_uri": "https://localhost:8080/",
          "height": 49
        },
        "id": "XHQXht1uym4A",
        "outputId": "cb2432ad-11fb-42db-896c-aa0148706281"
      },
      "execution_count": 31,
      "outputs": [
        {
          "output_type": "execute_result",
          "data": {
            "text/html": [
              "<div>\n",
              "<style scoped>\n",
              "    .dataframe tbody tr th:only-of-type {\n",
              "        vertical-align: middle;\n",
              "    }\n",
              "\n",
              "    .dataframe tbody tr th {\n",
              "        vertical-align: top;\n",
              "    }\n",
              "\n",
              "    .dataframe thead th {\n",
              "        text-align: right;\n",
              "    }\n",
              "</style>\n",
              "<table border=\"1\" class=\"dataframe\">\n",
              "  <thead>\n",
              "    <tr style=\"text-align: right;\">\n",
              "      <th></th>\n",
              "      <th>customer_id</th>\n",
              "      <th>location_number</th>\n",
              "      <th>latitude</th>\n",
              "      <th>longitude</th>\n",
              "    </tr>\n",
              "  </thead>\n",
              "  <tbody>\n",
              "  </tbody>\n",
              "</table>\n",
              "</div>"
            ],
            "text/plain": [
              "Empty DataFrame\n",
              "Columns: [customer_id, location_number, latitude, longitude]\n",
              "Index: []"
            ]
          },
          "metadata": {},
          "execution_count": 31
        }
      ]
    },
    {
      "cell_type": "markdown",
      "source": [
        "Interpretasi: Dari informasi diatas dapat diketahui bahwa tidak terdapat duplicate data pada tabel Locations."
      ],
      "metadata": {
        "id": "qr7DvHoB2cZf"
      }
    },
    {
      "cell_type": "markdown",
      "metadata": {
        "id": "QUlpaqeqMFn2"
      },
      "source": [
        "## EXPLORATORY DATA"
      ]
    },
    {
      "cell_type": "markdown",
      "source": [
        "### Analisis Data untuk Menjawab *Problem Statement* Pertama"
      ],
      "metadata": {
        "id": "LuNyJkF202pP"
      }
    },
    {
      "cell_type": "markdown",
      "source": [
        "#### Pencarian Sebaran Data serta Pengelompokkannya"
      ],
      "metadata": {
        "id": "DX86Vj0MoDFN"
      }
    },
    {
      "cell_type": "code",
      "source": [
        "# Mencari sebaran data usia customer\n",
        "pd.read_sql_query(\"\"\"\n",
        "                    SELECT \n",
        "                        dob, COUNT (dob)\n",
        "                    FROM Customers\n",
        "                    GROUP BY dob\n",
        "                  \"\"\", conn)"
      ],
      "metadata": {
        "id": "qoigzDW638WH",
        "colab": {
          "base_uri": "https://localhost:8080/",
          "height": 1000
        },
        "outputId": "18c1315f-a685-4e3d-f1aa-c8f9c3df715b"
      },
      "execution_count": 32,
      "outputs": [
        {
          "output_type": "execute_result",
          "data": {
            "text/html": [
              "<div>\n",
              "<style scoped>\n",
              "    .dataframe tbody tr th:only-of-type {\n",
              "        vertical-align: middle;\n",
              "    }\n",
              "\n",
              "    .dataframe tbody tr th {\n",
              "        vertical-align: top;\n",
              "    }\n",
              "\n",
              "    .dataframe thead th {\n",
              "        text-align: right;\n",
              "    }\n",
              "</style>\n",
              "<table border=\"1\" class=\"dataframe\">\n",
              "  <thead>\n",
              "    <tr style=\"text-align: right;\">\n",
              "      <th></th>\n",
              "      <th>dob</th>\n",
              "      <th>COUNT (dob)</th>\n",
              "    </tr>\n",
              "  </thead>\n",
              "  <tbody>\n",
              "    <tr>\n",
              "      <th>0</th>\n",
              "      <td>1900</td>\n",
              "      <td>4</td>\n",
              "    </tr>\n",
              "    <tr>\n",
              "      <th>1</th>\n",
              "      <td>1932</td>\n",
              "      <td>1</td>\n",
              "    </tr>\n",
              "    <tr>\n",
              "      <th>2</th>\n",
              "      <td>1957</td>\n",
              "      <td>1</td>\n",
              "    </tr>\n",
              "    <tr>\n",
              "      <th>3</th>\n",
              "      <td>1964</td>\n",
              "      <td>1</td>\n",
              "    </tr>\n",
              "    <tr>\n",
              "      <th>4</th>\n",
              "      <td>1967</td>\n",
              "      <td>1</td>\n",
              "    </tr>\n",
              "    <tr>\n",
              "      <th>5</th>\n",
              "      <td>1969</td>\n",
              "      <td>2</td>\n",
              "    </tr>\n",
              "    <tr>\n",
              "      <th>6</th>\n",
              "      <td>1970</td>\n",
              "      <td>71</td>\n",
              "    </tr>\n",
              "    <tr>\n",
              "      <th>7</th>\n",
              "      <td>1971</td>\n",
              "      <td>3</td>\n",
              "    </tr>\n",
              "    <tr>\n",
              "      <th>8</th>\n",
              "      <td>1972</td>\n",
              "      <td>2</td>\n",
              "    </tr>\n",
              "    <tr>\n",
              "      <th>9</th>\n",
              "      <td>1973</td>\n",
              "      <td>3</td>\n",
              "    </tr>\n",
              "    <tr>\n",
              "      <th>10</th>\n",
              "      <td>1974</td>\n",
              "      <td>2</td>\n",
              "    </tr>\n",
              "    <tr>\n",
              "      <th>11</th>\n",
              "      <td>1975</td>\n",
              "      <td>6</td>\n",
              "    </tr>\n",
              "    <tr>\n",
              "      <th>12</th>\n",
              "      <td>1976</td>\n",
              "      <td>5</td>\n",
              "    </tr>\n",
              "    <tr>\n",
              "      <th>13</th>\n",
              "      <td>1977</td>\n",
              "      <td>6</td>\n",
              "    </tr>\n",
              "    <tr>\n",
              "      <th>14</th>\n",
              "      <td>1978</td>\n",
              "      <td>6</td>\n",
              "    </tr>\n",
              "    <tr>\n",
              "      <th>15</th>\n",
              "      <td>1979</td>\n",
              "      <td>5</td>\n",
              "    </tr>\n",
              "    <tr>\n",
              "      <th>16</th>\n",
              "      <td>1980</td>\n",
              "      <td>8</td>\n",
              "    </tr>\n",
              "    <tr>\n",
              "      <th>17</th>\n",
              "      <td>1981</td>\n",
              "      <td>8</td>\n",
              "    </tr>\n",
              "    <tr>\n",
              "      <th>18</th>\n",
              "      <td>1982</td>\n",
              "      <td>10</td>\n",
              "    </tr>\n",
              "    <tr>\n",
              "      <th>19</th>\n",
              "      <td>1983</td>\n",
              "      <td>6</td>\n",
              "    </tr>\n",
              "    <tr>\n",
              "      <th>20</th>\n",
              "      <td>1984</td>\n",
              "      <td>11</td>\n",
              "    </tr>\n",
              "    <tr>\n",
              "      <th>21</th>\n",
              "      <td>1985</td>\n",
              "      <td>14</td>\n",
              "    </tr>\n",
              "    <tr>\n",
              "      <th>22</th>\n",
              "      <td>1986</td>\n",
              "      <td>11</td>\n",
              "    </tr>\n",
              "    <tr>\n",
              "      <th>23</th>\n",
              "      <td>1987</td>\n",
              "      <td>27</td>\n",
              "    </tr>\n",
              "    <tr>\n",
              "      <th>24</th>\n",
              "      <td>1988</td>\n",
              "      <td>23</td>\n",
              "    </tr>\n",
              "    <tr>\n",
              "      <th>25</th>\n",
              "      <td>1989</td>\n",
              "      <td>21</td>\n",
              "    </tr>\n",
              "    <tr>\n",
              "      <th>26</th>\n",
              "      <td>1990</td>\n",
              "      <td>471</td>\n",
              "    </tr>\n",
              "    <tr>\n",
              "      <th>27</th>\n",
              "      <td>1991</td>\n",
              "      <td>493</td>\n",
              "    </tr>\n",
              "    <tr>\n",
              "      <th>28</th>\n",
              "      <td>1992</td>\n",
              "      <td>510</td>\n",
              "    </tr>\n",
              "    <tr>\n",
              "      <th>29</th>\n",
              "      <td>1993</td>\n",
              "      <td>475</td>\n",
              "    </tr>\n",
              "    <tr>\n",
              "      <th>30</th>\n",
              "      <td>1994</td>\n",
              "      <td>470</td>\n",
              "    </tr>\n",
              "    <tr>\n",
              "      <th>31</th>\n",
              "      <td>1995</td>\n",
              "      <td>492</td>\n",
              "    </tr>\n",
              "    <tr>\n",
              "      <th>32</th>\n",
              "      <td>1996</td>\n",
              "      <td>483</td>\n",
              "    </tr>\n",
              "    <tr>\n",
              "      <th>33</th>\n",
              "      <td>1997</td>\n",
              "      <td>466</td>\n",
              "    </tr>\n",
              "    <tr>\n",
              "      <th>34</th>\n",
              "      <td>1998</td>\n",
              "      <td>522</td>\n",
              "    </tr>\n",
              "    <tr>\n",
              "      <th>35</th>\n",
              "      <td>1999</td>\n",
              "      <td>475</td>\n",
              "    </tr>\n",
              "    <tr>\n",
              "      <th>36</th>\n",
              "      <td>2000</td>\n",
              "      <td>491</td>\n",
              "    </tr>\n",
              "    <tr>\n",
              "      <th>37</th>\n",
              "      <td>2001</td>\n",
              "      <td>501</td>\n",
              "    </tr>\n",
              "    <tr>\n",
              "      <th>38</th>\n",
              "      <td>2002</td>\n",
              "      <td>487</td>\n",
              "    </tr>\n",
              "    <tr>\n",
              "      <th>39</th>\n",
              "      <td>2003</td>\n",
              "      <td>431</td>\n",
              "    </tr>\n",
              "    <tr>\n",
              "      <th>40</th>\n",
              "      <td>2004</td>\n",
              "      <td>448</td>\n",
              "    </tr>\n",
              "    <tr>\n",
              "      <th>41</th>\n",
              "      <td>2005</td>\n",
              "      <td>465</td>\n",
              "    </tr>\n",
              "    <tr>\n",
              "      <th>42</th>\n",
              "      <td>2006</td>\n",
              "      <td>450</td>\n",
              "    </tr>\n",
              "    <tr>\n",
              "      <th>43</th>\n",
              "      <td>2007</td>\n",
              "      <td>427</td>\n",
              "    </tr>\n",
              "    <tr>\n",
              "      <th>44</th>\n",
              "      <td>2008</td>\n",
              "      <td>454</td>\n",
              "    </tr>\n",
              "    <tr>\n",
              "      <th>45</th>\n",
              "      <td>2009</td>\n",
              "      <td>434</td>\n",
              "    </tr>\n",
              "    <tr>\n",
              "      <th>46</th>\n",
              "      <td>2010</td>\n",
              "      <td>65</td>\n",
              "    </tr>\n",
              "  </tbody>\n",
              "</table>\n",
              "</div>"
            ],
            "text/plain": [
              "     dob  COUNT (dob)\n",
              "0   1900            4\n",
              "1   1932            1\n",
              "2   1957            1\n",
              "3   1964            1\n",
              "4   1967            1\n",
              "5   1969            2\n",
              "6   1970           71\n",
              "7   1971            3\n",
              "8   1972            2\n",
              "9   1973            3\n",
              "10  1974            2\n",
              "11  1975            6\n",
              "12  1976            5\n",
              "13  1977            6\n",
              "14  1978            6\n",
              "15  1979            5\n",
              "16  1980            8\n",
              "17  1981            8\n",
              "18  1982           10\n",
              "19  1983            6\n",
              "20  1984           11\n",
              "21  1985           14\n",
              "22  1986           11\n",
              "23  1987           27\n",
              "24  1988           23\n",
              "25  1989           21\n",
              "26  1990          471\n",
              "27  1991          493\n",
              "28  1992          510\n",
              "29  1993          475\n",
              "30  1994          470\n",
              "31  1995          492\n",
              "32  1996          483\n",
              "33  1997          466\n",
              "34  1998          522\n",
              "35  1999          475\n",
              "36  2000          491\n",
              "37  2001          501\n",
              "38  2002          487\n",
              "39  2003          431\n",
              "40  2004          448\n",
              "41  2005          465\n",
              "42  2006          450\n",
              "43  2007          427\n",
              "44  2008          454\n",
              "45  2009          434\n",
              "46  2010           65"
            ]
          },
          "metadata": {},
          "execution_count": 32
        }
      ]
    },
    {
      "cell_type": "code",
      "source": [
        "# Mencari jumlah customer dari generasi Baby Boomer\n",
        "pd.read_sql_query(\"\"\"\n",
        "                    SELECT \n",
        "                        dob, COUNT (dob)\n",
        "                    FROM Customers\n",
        "                    WHERE dob BETWEEN '1946' AND '1964'\n",
        "                    GROUP BY dob\n",
        "                  \"\"\", conn)"
      ],
      "metadata": {
        "id": "fQF9Tf3V0_ht",
        "colab": {
          "base_uri": "https://localhost:8080/",
          "height": 112
        },
        "outputId": "0afffc6f-ca1e-4fad-a882-1ad9e8be391c"
      },
      "execution_count": 33,
      "outputs": [
        {
          "output_type": "execute_result",
          "data": {
            "text/html": [
              "<div>\n",
              "<style scoped>\n",
              "    .dataframe tbody tr th:only-of-type {\n",
              "        vertical-align: middle;\n",
              "    }\n",
              "\n",
              "    .dataframe tbody tr th {\n",
              "        vertical-align: top;\n",
              "    }\n",
              "\n",
              "    .dataframe thead th {\n",
              "        text-align: right;\n",
              "    }\n",
              "</style>\n",
              "<table border=\"1\" class=\"dataframe\">\n",
              "  <thead>\n",
              "    <tr style=\"text-align: right;\">\n",
              "      <th></th>\n",
              "      <th>dob</th>\n",
              "      <th>COUNT (dob)</th>\n",
              "    </tr>\n",
              "  </thead>\n",
              "  <tbody>\n",
              "    <tr>\n",
              "      <th>0</th>\n",
              "      <td>1957</td>\n",
              "      <td>1</td>\n",
              "    </tr>\n",
              "    <tr>\n",
              "      <th>1</th>\n",
              "      <td>1964</td>\n",
              "      <td>1</td>\n",
              "    </tr>\n",
              "  </tbody>\n",
              "</table>\n",
              "</div>"
            ],
            "text/plain": [
              "    dob  COUNT (dob)\n",
              "0  1957            1\n",
              "1  1964            1"
            ]
          },
          "metadata": {},
          "execution_count": 33
        }
      ]
    },
    {
      "cell_type": "code",
      "source": [
        "# Mencari jumlah customer dari generasi X\n",
        "pd.read_sql_query(\"\"\"\n",
        "                    SELECT \n",
        "                        dob, COUNT (dob)\n",
        "                    FROM Customers\n",
        "                    WHERE dob BETWEEN '1965' AND '1976'\n",
        "                    GROUP BY dob\n",
        "                  \"\"\", conn)"
      ],
      "metadata": {
        "id": "CeOd4ANG1QUY",
        "colab": {
          "base_uri": "https://localhost:8080/",
          "height": 332
        },
        "outputId": "727e39a6-a1f3-4412-cd56-d276ab33f9c9"
      },
      "execution_count": 34,
      "outputs": [
        {
          "output_type": "execute_result",
          "data": {
            "text/html": [
              "<div>\n",
              "<style scoped>\n",
              "    .dataframe tbody tr th:only-of-type {\n",
              "        vertical-align: middle;\n",
              "    }\n",
              "\n",
              "    .dataframe tbody tr th {\n",
              "        vertical-align: top;\n",
              "    }\n",
              "\n",
              "    .dataframe thead th {\n",
              "        text-align: right;\n",
              "    }\n",
              "</style>\n",
              "<table border=\"1\" class=\"dataframe\">\n",
              "  <thead>\n",
              "    <tr style=\"text-align: right;\">\n",
              "      <th></th>\n",
              "      <th>dob</th>\n",
              "      <th>COUNT (dob)</th>\n",
              "    </tr>\n",
              "  </thead>\n",
              "  <tbody>\n",
              "    <tr>\n",
              "      <th>0</th>\n",
              "      <td>1967</td>\n",
              "      <td>1</td>\n",
              "    </tr>\n",
              "    <tr>\n",
              "      <th>1</th>\n",
              "      <td>1969</td>\n",
              "      <td>2</td>\n",
              "    </tr>\n",
              "    <tr>\n",
              "      <th>2</th>\n",
              "      <td>1970</td>\n",
              "      <td>71</td>\n",
              "    </tr>\n",
              "    <tr>\n",
              "      <th>3</th>\n",
              "      <td>1971</td>\n",
              "      <td>3</td>\n",
              "    </tr>\n",
              "    <tr>\n",
              "      <th>4</th>\n",
              "      <td>1972</td>\n",
              "      <td>2</td>\n",
              "    </tr>\n",
              "    <tr>\n",
              "      <th>5</th>\n",
              "      <td>1973</td>\n",
              "      <td>3</td>\n",
              "    </tr>\n",
              "    <tr>\n",
              "      <th>6</th>\n",
              "      <td>1974</td>\n",
              "      <td>2</td>\n",
              "    </tr>\n",
              "    <tr>\n",
              "      <th>7</th>\n",
              "      <td>1975</td>\n",
              "      <td>6</td>\n",
              "    </tr>\n",
              "    <tr>\n",
              "      <th>8</th>\n",
              "      <td>1976</td>\n",
              "      <td>5</td>\n",
              "    </tr>\n",
              "  </tbody>\n",
              "</table>\n",
              "</div>"
            ],
            "text/plain": [
              "    dob  COUNT (dob)\n",
              "0  1967            1\n",
              "1  1969            2\n",
              "2  1970           71\n",
              "3  1971            3\n",
              "4  1972            2\n",
              "5  1973            3\n",
              "6  1974            2\n",
              "7  1975            6\n",
              "8  1976            5"
            ]
          },
          "metadata": {},
          "execution_count": 34
        }
      ]
    },
    {
      "cell_type": "code",
      "source": [
        "# Mencari jumlah customer dari generasi Milenial\n",
        "pd.read_sql_query(\"\"\"\n",
        "                    SELECT \n",
        "                        dob, COUNT (dob)\n",
        "                    FROM Customers\n",
        "                    WHERE dob BETWEEN '1977' AND '1995'\n",
        "                    GROUP BY dob\n",
        "                  \"\"\", conn)"
      ],
      "metadata": {
        "colab": {
          "base_uri": "https://localhost:8080/",
          "height": 645
        },
        "id": "r2jQUNgsoYgF",
        "outputId": "17cab777-92b9-405a-b468-5604454599aa"
      },
      "execution_count": 35,
      "outputs": [
        {
          "output_type": "execute_result",
          "data": {
            "text/html": [
              "<div>\n",
              "<style scoped>\n",
              "    .dataframe tbody tr th:only-of-type {\n",
              "        vertical-align: middle;\n",
              "    }\n",
              "\n",
              "    .dataframe tbody tr th {\n",
              "        vertical-align: top;\n",
              "    }\n",
              "\n",
              "    .dataframe thead th {\n",
              "        text-align: right;\n",
              "    }\n",
              "</style>\n",
              "<table border=\"1\" class=\"dataframe\">\n",
              "  <thead>\n",
              "    <tr style=\"text-align: right;\">\n",
              "      <th></th>\n",
              "      <th>dob</th>\n",
              "      <th>COUNT (dob)</th>\n",
              "    </tr>\n",
              "  </thead>\n",
              "  <tbody>\n",
              "    <tr>\n",
              "      <th>0</th>\n",
              "      <td>1977</td>\n",
              "      <td>6</td>\n",
              "    </tr>\n",
              "    <tr>\n",
              "      <th>1</th>\n",
              "      <td>1978</td>\n",
              "      <td>6</td>\n",
              "    </tr>\n",
              "    <tr>\n",
              "      <th>2</th>\n",
              "      <td>1979</td>\n",
              "      <td>5</td>\n",
              "    </tr>\n",
              "    <tr>\n",
              "      <th>3</th>\n",
              "      <td>1980</td>\n",
              "      <td>8</td>\n",
              "    </tr>\n",
              "    <tr>\n",
              "      <th>4</th>\n",
              "      <td>1981</td>\n",
              "      <td>8</td>\n",
              "    </tr>\n",
              "    <tr>\n",
              "      <th>5</th>\n",
              "      <td>1982</td>\n",
              "      <td>10</td>\n",
              "    </tr>\n",
              "    <tr>\n",
              "      <th>6</th>\n",
              "      <td>1983</td>\n",
              "      <td>6</td>\n",
              "    </tr>\n",
              "    <tr>\n",
              "      <th>7</th>\n",
              "      <td>1984</td>\n",
              "      <td>11</td>\n",
              "    </tr>\n",
              "    <tr>\n",
              "      <th>8</th>\n",
              "      <td>1985</td>\n",
              "      <td>14</td>\n",
              "    </tr>\n",
              "    <tr>\n",
              "      <th>9</th>\n",
              "      <td>1986</td>\n",
              "      <td>11</td>\n",
              "    </tr>\n",
              "    <tr>\n",
              "      <th>10</th>\n",
              "      <td>1987</td>\n",
              "      <td>27</td>\n",
              "    </tr>\n",
              "    <tr>\n",
              "      <th>11</th>\n",
              "      <td>1988</td>\n",
              "      <td>23</td>\n",
              "    </tr>\n",
              "    <tr>\n",
              "      <th>12</th>\n",
              "      <td>1989</td>\n",
              "      <td>21</td>\n",
              "    </tr>\n",
              "    <tr>\n",
              "      <th>13</th>\n",
              "      <td>1990</td>\n",
              "      <td>471</td>\n",
              "    </tr>\n",
              "    <tr>\n",
              "      <th>14</th>\n",
              "      <td>1991</td>\n",
              "      <td>493</td>\n",
              "    </tr>\n",
              "    <tr>\n",
              "      <th>15</th>\n",
              "      <td>1992</td>\n",
              "      <td>510</td>\n",
              "    </tr>\n",
              "    <tr>\n",
              "      <th>16</th>\n",
              "      <td>1993</td>\n",
              "      <td>475</td>\n",
              "    </tr>\n",
              "    <tr>\n",
              "      <th>17</th>\n",
              "      <td>1994</td>\n",
              "      <td>470</td>\n",
              "    </tr>\n",
              "    <tr>\n",
              "      <th>18</th>\n",
              "      <td>1995</td>\n",
              "      <td>492</td>\n",
              "    </tr>\n",
              "  </tbody>\n",
              "</table>\n",
              "</div>"
            ],
            "text/plain": [
              "     dob  COUNT (dob)\n",
              "0   1977            6\n",
              "1   1978            6\n",
              "2   1979            5\n",
              "3   1980            8\n",
              "4   1981            8\n",
              "5   1982           10\n",
              "6   1983            6\n",
              "7   1984           11\n",
              "8   1985           14\n",
              "9   1986           11\n",
              "10  1987           27\n",
              "11  1988           23\n",
              "12  1989           21\n",
              "13  1990          471\n",
              "14  1991          493\n",
              "15  1992          510\n",
              "16  1993          475\n",
              "17  1994          470\n",
              "18  1995          492"
            ]
          },
          "metadata": {},
          "execution_count": 35
        }
      ]
    },
    {
      "cell_type": "code",
      "source": [
        "# Mencari jumlah customer dari generasi Z\n",
        "pd.read_sql_query(\"\"\"\n",
        "                    SELECT \n",
        "                        dob, COUNT (dob)\n",
        "                    FROM Customers\n",
        "                    WHERE dob BETWEEN '1996' AND '2010'\n",
        "                    GROUP BY dob\n",
        "                  \"\"\", conn)"
      ],
      "metadata": {
        "colab": {
          "base_uri": "https://localhost:8080/",
          "height": 520
        },
        "id": "v-1YZhFDobjG",
        "outputId": "cf19b912-63a0-42de-8837-3c7d1229ad28"
      },
      "execution_count": 36,
      "outputs": [
        {
          "output_type": "execute_result",
          "data": {
            "text/html": [
              "<div>\n",
              "<style scoped>\n",
              "    .dataframe tbody tr th:only-of-type {\n",
              "        vertical-align: middle;\n",
              "    }\n",
              "\n",
              "    .dataframe tbody tr th {\n",
              "        vertical-align: top;\n",
              "    }\n",
              "\n",
              "    .dataframe thead th {\n",
              "        text-align: right;\n",
              "    }\n",
              "</style>\n",
              "<table border=\"1\" class=\"dataframe\">\n",
              "  <thead>\n",
              "    <tr style=\"text-align: right;\">\n",
              "      <th></th>\n",
              "      <th>dob</th>\n",
              "      <th>COUNT (dob)</th>\n",
              "    </tr>\n",
              "  </thead>\n",
              "  <tbody>\n",
              "    <tr>\n",
              "      <th>0</th>\n",
              "      <td>1996</td>\n",
              "      <td>483</td>\n",
              "    </tr>\n",
              "    <tr>\n",
              "      <th>1</th>\n",
              "      <td>1997</td>\n",
              "      <td>466</td>\n",
              "    </tr>\n",
              "    <tr>\n",
              "      <th>2</th>\n",
              "      <td>1998</td>\n",
              "      <td>522</td>\n",
              "    </tr>\n",
              "    <tr>\n",
              "      <th>3</th>\n",
              "      <td>1999</td>\n",
              "      <td>475</td>\n",
              "    </tr>\n",
              "    <tr>\n",
              "      <th>4</th>\n",
              "      <td>2000</td>\n",
              "      <td>491</td>\n",
              "    </tr>\n",
              "    <tr>\n",
              "      <th>5</th>\n",
              "      <td>2001</td>\n",
              "      <td>501</td>\n",
              "    </tr>\n",
              "    <tr>\n",
              "      <th>6</th>\n",
              "      <td>2002</td>\n",
              "      <td>487</td>\n",
              "    </tr>\n",
              "    <tr>\n",
              "      <th>7</th>\n",
              "      <td>2003</td>\n",
              "      <td>431</td>\n",
              "    </tr>\n",
              "    <tr>\n",
              "      <th>8</th>\n",
              "      <td>2004</td>\n",
              "      <td>448</td>\n",
              "    </tr>\n",
              "    <tr>\n",
              "      <th>9</th>\n",
              "      <td>2005</td>\n",
              "      <td>465</td>\n",
              "    </tr>\n",
              "    <tr>\n",
              "      <th>10</th>\n",
              "      <td>2006</td>\n",
              "      <td>450</td>\n",
              "    </tr>\n",
              "    <tr>\n",
              "      <th>11</th>\n",
              "      <td>2007</td>\n",
              "      <td>427</td>\n",
              "    </tr>\n",
              "    <tr>\n",
              "      <th>12</th>\n",
              "      <td>2008</td>\n",
              "      <td>454</td>\n",
              "    </tr>\n",
              "    <tr>\n",
              "      <th>13</th>\n",
              "      <td>2009</td>\n",
              "      <td>434</td>\n",
              "    </tr>\n",
              "    <tr>\n",
              "      <th>14</th>\n",
              "      <td>2010</td>\n",
              "      <td>65</td>\n",
              "    </tr>\n",
              "  </tbody>\n",
              "</table>\n",
              "</div>"
            ],
            "text/plain": [
              "     dob  COUNT (dob)\n",
              "0   1996          483\n",
              "1   1997          466\n",
              "2   1998          522\n",
              "3   1999          475\n",
              "4   2000          491\n",
              "5   2001          501\n",
              "6   2002          487\n",
              "7   2003          431\n",
              "8   2004          448\n",
              "9   2005          465\n",
              "10  2006          450\n",
              "11  2007          427\n",
              "12  2008          454\n",
              "13  2009          434\n",
              "14  2010           65"
            ]
          },
          "metadata": {},
          "execution_count": 36
        }
      ]
    },
    {
      "cell_type": "code",
      "source": [
        "# Mencari sebaran data gender customer\n",
        "pd.read_sql_query(\"\"\"\n",
        "                    SELECT \n",
        "                        gender, COUNT (gender)\n",
        "                    FROM Customers\n",
        "                    GROUP BY gender\n",
        "                  \"\"\", conn)"
      ],
      "metadata": {
        "colab": {
          "base_uri": "https://localhost:8080/",
          "height": 112
        },
        "id": "T5Kjzj4Joi8W",
        "outputId": "a2291c98-fe52-45ee-9eb9-64d41819460b"
      },
      "execution_count": 37,
      "outputs": [
        {
          "output_type": "execute_result",
          "data": {
            "text/html": [
              "<div>\n",
              "<style scoped>\n",
              "    .dataframe tbody tr th:only-of-type {\n",
              "        vertical-align: middle;\n",
              "    }\n",
              "\n",
              "    .dataframe tbody tr th {\n",
              "        vertical-align: top;\n",
              "    }\n",
              "\n",
              "    .dataframe thead th {\n",
              "        text-align: right;\n",
              "    }\n",
              "</style>\n",
              "<table border=\"1\" class=\"dataframe\">\n",
              "  <thead>\n",
              "    <tr style=\"text-align: right;\">\n",
              "      <th></th>\n",
              "      <th>gender</th>\n",
              "      <th>COUNT (gender)</th>\n",
              "    </tr>\n",
              "  </thead>\n",
              "  <tbody>\n",
              "    <tr>\n",
              "      <th>0</th>\n",
              "      <td>female</td>\n",
              "      <td>3969</td>\n",
              "    </tr>\n",
              "    <tr>\n",
              "      <th>1</th>\n",
              "      <td>male</td>\n",
              "      <td>5799</td>\n",
              "    </tr>\n",
              "  </tbody>\n",
              "</table>\n",
              "</div>"
            ],
            "text/plain": [
              "   gender  COUNT (gender)\n",
              "0  female            3969\n",
              "1    male            5799"
            ]
          },
          "metadata": {},
          "execution_count": 37
        }
      ]
    },
    {
      "cell_type": "markdown",
      "source": [
        "#### Pembuatan Data Frame dan Visualisasi Data"
      ],
      "metadata": {
        "id": "TUBdpHctp8XV"
      }
    },
    {
      "cell_type": "code",
      "source": [
        "# inisialisasi data dictionary 1\n",
        "data1 = { 'dob' : ['1946-1964', '1965-1976', '1977-1995', '1996-2010'],\n",
        " 'Generasi' : ['Baby Boomer', 'X', 'Milenial', 'Z'],\n",
        " 'Jumlah Orang' : [2, 95, 3067, 6599],\n",
        " 'Persentase' : [0.02, 0.97, 31.41, 67.69],\n",
        " }"
      ],
      "metadata": {
        "id": "eQfdCmcPpn2V"
      },
      "execution_count": 38,
      "outputs": []
    },
    {
      "cell_type": "code",
      "source": [
        "# converting dictionary to DataFrame 1 - Sebaran dan Persentase Generasi pada Customer Restoran\n",
        "df = pd.DataFrame(data1)\n",
        "df"
      ],
      "metadata": {
        "colab": {
          "base_uri": "https://localhost:8080/",
          "height": 175
        },
        "id": "uGLLSfFrptR1",
        "outputId": "f3fdffa6-6bb9-49f9-c9a1-104fa0ff16d9"
      },
      "execution_count": 39,
      "outputs": [
        {
          "output_type": "execute_result",
          "data": {
            "text/html": [
              "<div>\n",
              "<style scoped>\n",
              "    .dataframe tbody tr th:only-of-type {\n",
              "        vertical-align: middle;\n",
              "    }\n",
              "\n",
              "    .dataframe tbody tr th {\n",
              "        vertical-align: top;\n",
              "    }\n",
              "\n",
              "    .dataframe thead th {\n",
              "        text-align: right;\n",
              "    }\n",
              "</style>\n",
              "<table border=\"1\" class=\"dataframe\">\n",
              "  <thead>\n",
              "    <tr style=\"text-align: right;\">\n",
              "      <th></th>\n",
              "      <th>dob</th>\n",
              "      <th>Generasi</th>\n",
              "      <th>Jumlah Orang</th>\n",
              "      <th>Persentase</th>\n",
              "    </tr>\n",
              "  </thead>\n",
              "  <tbody>\n",
              "    <tr>\n",
              "      <th>0</th>\n",
              "      <td>1946-1964</td>\n",
              "      <td>Baby Boomer</td>\n",
              "      <td>2</td>\n",
              "      <td>0.02</td>\n",
              "    </tr>\n",
              "    <tr>\n",
              "      <th>1</th>\n",
              "      <td>1965-1976</td>\n",
              "      <td>X</td>\n",
              "      <td>95</td>\n",
              "      <td>0.97</td>\n",
              "    </tr>\n",
              "    <tr>\n",
              "      <th>2</th>\n",
              "      <td>1977-1995</td>\n",
              "      <td>Milenial</td>\n",
              "      <td>3067</td>\n",
              "      <td>31.41</td>\n",
              "    </tr>\n",
              "    <tr>\n",
              "      <th>3</th>\n",
              "      <td>1996-2010</td>\n",
              "      <td>Z</td>\n",
              "      <td>6599</td>\n",
              "      <td>67.69</td>\n",
              "    </tr>\n",
              "  </tbody>\n",
              "</table>\n",
              "</div>"
            ],
            "text/plain": [
              "         dob     Generasi  Jumlah Orang  Persentase\n",
              "0  1946-1964  Baby Boomer             2        0.02\n",
              "1  1965-1976            X            95        0.97\n",
              "2  1977-1995     Milenial          3067       31.41\n",
              "3  1996-2010            Z          6599       67.69"
            ]
          },
          "metadata": {},
          "execution_count": 39
        }
      ]
    },
    {
      "cell_type": "code",
      "source": [
        "# Visualisasi Pie Chart DataFrame 1 - Sebaran dan Persentase Generasi pada Customer Restoran\n",
        "labels = 'Baby Boomer', 'X', 'Milenial', 'Z'\n",
        "sizes = [0.02, 0.97, 31.41, 67.69]\n",
        "explode = (0, 0.1, 0, 0)  # hanya \"meruncing\" pada irisan ke-2 (yaitu 'X')\n",
        "\n",
        "fig1, ax1 = plt.subplots()\n",
        "ax1.pie(sizes, explode=explode, labels=labels, autopct='%1.1f%%',\n",
        "        shadow=True, startangle=90)\n",
        "ax1.axis('equal')  # Equal aspect ratio memastikan bahwa pie chart digambar sebagai lingkaran.\n",
        "\n",
        "plt.show()"
      ],
      "metadata": {
        "colab": {
          "base_uri": "https://localhost:8080/",
          "height": 253
        },
        "id": "8dUSyFM2qJPF",
        "outputId": "f388d1a7-30f6-4147-fd49-7c44d1d09b93"
      },
      "execution_count": 40,
      "outputs": [
        {
          "output_type": "display_data",
          "data": {
            "image/png": "[encoded data removed]",
            "text/plain": [
              "<Figure size 432x288 with 1 Axes>"
            ]
          },
          "metadata": {}
        }
      ]
    },
    {
      "cell_type": "code",
      "source": [
        "# inisialisasi data dictionary 2\n",
        "data2 = { 'gender' : ['Wanita', 'Pria'],\n",
        " 'Jumlah Orang' : [3969, 5799],\n",
        " 'Persentase' : [40.63, 59.37],\n",
        " }"
      ],
      "metadata": {
        "id": "HkJXp6wyqiKe"
      },
      "execution_count": 41,
      "outputs": []
    },
    {
      "cell_type": "markdown",
      "source": [
        "Interpretasi: Dari hasil analisis data diatas, dapat diketahui bahwa generasi Z dan generasi Milenial mendominasi segmentasi demografi generasi *customer* di Restoran ini sementara, segmen minoritas dari generasi *customer* di Restoran ini berasal dari generasi X dan generasi Baby Boomer."
      ],
      "metadata": {
        "id": "GgqofVByIjyV"
      }
    },
    {
      "cell_type": "code",
      "source": [
        "# converting dictionary to DataFrame 2 - Sebaran dan Persentase Gender pada Customer Restoran\n",
        "df = pd.DataFrame(data2)\n",
        "df"
      ],
      "metadata": {
        "colab": {
          "base_uri": "https://localhost:8080/",
          "height": 112
        },
        "id": "K1Mg4U2cqmqe",
        "outputId": "db78bacd-0dce-4235-ce3b-cedbc3cdae33"
      },
      "execution_count": 42,
      "outputs": [
        {
          "output_type": "execute_result",
          "data": {
            "text/html": [
              "<div>\n",
              "<style scoped>\n",
              "    .dataframe tbody tr th:only-of-type {\n",
              "        vertical-align: middle;\n",
              "    }\n",
              "\n",
              "    .dataframe tbody tr th {\n",
              "        vertical-align: top;\n",
              "    }\n",
              "\n",
              "    .dataframe thead th {\n",
              "        text-align: right;\n",
              "    }\n",
              "</style>\n",
              "<table border=\"1\" class=\"dataframe\">\n",
              "  <thead>\n",
              "    <tr style=\"text-align: right;\">\n",
              "      <th></th>\n",
              "      <th>gender</th>\n",
              "      <th>Jumlah Orang</th>\n",
              "      <th>Persentase</th>\n",
              "    </tr>\n",
              "  </thead>\n",
              "  <tbody>\n",
              "    <tr>\n",
              "      <th>0</th>\n",
              "      <td>Wanita</td>\n",
              "      <td>3969</td>\n",
              "      <td>40.63</td>\n",
              "    </tr>\n",
              "    <tr>\n",
              "      <th>1</th>\n",
              "      <td>Pria</td>\n",
              "      <td>5799</td>\n",
              "      <td>59.37</td>\n",
              "    </tr>\n",
              "  </tbody>\n",
              "</table>\n",
              "</div>"
            ],
            "text/plain": [
              "   gender  Jumlah Orang  Persentase\n",
              "0  Wanita          3969       40.63\n",
              "1    Pria          5799       59.37"
            ]
          },
          "metadata": {},
          "execution_count": 42
        }
      ]
    },
    {
      "cell_type": "code",
      "source": [
        "# Visualisasi Pie Chart DataFrame 2 - Sebaran dan Persentase Gender pada Customer Restoran\n",
        "labels = 'Wanita', 'Pria'\n",
        "sizes = [40.63, 59.37]\n",
        "explode = (0, 0)\n",
        "\n",
        "fig1, ax1 = plt.subplots()\n",
        "ax1.pie(sizes, explode=explode, labels=labels, autopct='%1.1f%%',\n",
        "        shadow=True, startangle=90)\n",
        "ax1.axis('equal') # Equal aspect ratio memastikan bahwa pie chart digambar sebagai lingkaran.\n",
        "\n",
        "plt.show()"
      ],
      "metadata": {
        "colab": {
          "base_uri": "https://localhost:8080/",
          "height": 248
        },
        "id": "Z5qYL9xzqsrG",
        "outputId": "29b300bf-f16e-465d-9ab5-78db2a58af0d"
      },
      "execution_count": 43,
      "outputs": [
        {
          "output_type": "display_data",
          "data": {
            "image/png": "[encoded data removed]",
            "text/plain": [
              "<Figure size 432x288 with 1 Axes>"
            ]
          },
          "metadata": {}
        }
      ]
    },
    {
      "cell_type": "markdown",
      "source": [
        "Interpretasi: Dari hasil analisis data diatas, dapat diketahui bahwa gender Pria mendominasi segmentasi demografi gender di Restoran ini sementara, segmen gender yang lebih kecil di Restoran ini berasal dari gender Wanita."
      ],
      "metadata": {
        "id": "7wtFmn8DKu-l"
      }
    },
    {
      "cell_type": "markdown",
      "source": [
        "### Analisis Data untuk Menjawab *Problem Statement* Kedua"
      ],
      "metadata": {
        "id": "Vsb4SGSB1eri"
      }
    },
    {
      "cell_type": "markdown",
      "source": [
        "#### Pencarian Sebaran Data serta Pengelompokkannya"
      ],
      "metadata": {
        "id": "Iic5dGMpw6se"
      }
    },
    {
      "cell_type": "code",
      "source": [
        "# Mencari sebaran data payment_mode di Restoran\n",
        "pd.read_sql_query(\"\"\"\n",
        "                    SELECT \n",
        "                        payment_mode, COUNT (payment_mode)\n",
        "                    FROM Orders\n",
        "                    GROUP BY payment_mode\n",
        "                  \"\"\", conn)"
      ],
      "metadata": {
        "id": "RjE_bCTN17tc",
        "colab": {
          "base_uri": "https://localhost:8080/",
          "height": 206
        },
        "outputId": "63ef421c-9cca-4a38-a7f9-7ab60ec1e44d"
      },
      "execution_count": 44,
      "outputs": [
        {
          "output_type": "execute_result",
          "data": {
            "text/html": [
              "<div>\n",
              "<style scoped>\n",
              "    .dataframe tbody tr th:only-of-type {\n",
              "        vertical-align: middle;\n",
              "    }\n",
              "\n",
              "    .dataframe tbody tr th {\n",
              "        vertical-align: top;\n",
              "    }\n",
              "\n",
              "    .dataframe thead th {\n",
              "        text-align: right;\n",
              "    }\n",
              "</style>\n",
              "<table border=\"1\" class=\"dataframe\">\n",
              "  <thead>\n",
              "    <tr style=\"text-align: right;\">\n",
              "      <th></th>\n",
              "      <th>payment_mode</th>\n",
              "      <th>COUNT (payment_mode)</th>\n",
              "    </tr>\n",
              "  </thead>\n",
              "  <tbody>\n",
              "    <tr>\n",
              "      <th>0</th>\n",
              "      <td>1</td>\n",
              "      <td>7592</td>\n",
              "    </tr>\n",
              "    <tr>\n",
              "      <th>1</th>\n",
              "      <td>2</td>\n",
              "      <td>1600</td>\n",
              "    </tr>\n",
              "    <tr>\n",
              "      <th>2</th>\n",
              "      <td>3</td>\n",
              "      <td>92</td>\n",
              "    </tr>\n",
              "    <tr>\n",
              "      <th>3</th>\n",
              "      <td>4</td>\n",
              "      <td>455</td>\n",
              "    </tr>\n",
              "    <tr>\n",
              "      <th>4</th>\n",
              "      <td>5</td>\n",
              "      <td>29</td>\n",
              "    </tr>\n",
              "  </tbody>\n",
              "</table>\n",
              "</div>"
            ],
            "text/plain": [
              "   payment_mode  COUNT (payment_mode)\n",
              "0             1                  7592\n",
              "1             2                  1600\n",
              "2             3                    92\n",
              "3             4                   455\n",
              "4             5                    29"
            ]
          },
          "metadata": {},
          "execution_count": 44
        }
      ]
    },
    {
      "cell_type": "markdown",
      "source": [
        "#### Pembuatan Data Frame dan Visualisasi Data"
      ],
      "metadata": {
        "id": "yufAvPiOrgRV"
      }
    },
    {
      "cell_type": "code",
      "source": [
        "# inisialisasi data dictionary 3\n",
        "data3 = { 'payment_mode' : [1, 2, 3, 4, 5],\n",
        " 'Jumlah payment_mode' : [7592, 1600, 92, 455, 29],\n",
        " 'Persentase' : [77.72, 16.38, 0.94, 4.66, 0.30],\n",
        " }"
      ],
      "metadata": {
        "id": "0npYpkc0roN9"
      },
      "execution_count": 45,
      "outputs": []
    },
    {
      "cell_type": "code",
      "source": [
        "# converting dictionary to DataFrame 3 - Sebaran dan Persentase Mode Pembayaran di Restoran\n",
        "df = pd.DataFrame(data3)\n",
        "df"
      ],
      "metadata": {
        "colab": {
          "base_uri": "https://localhost:8080/",
          "height": 206
        },
        "id": "fQEhGS8hrr71",
        "outputId": "b33c196b-3250-4b8e-a1f5-de8c5cba1829"
      },
      "execution_count": 46,
      "outputs": [
        {
          "output_type": "execute_result",
          "data": {
            "text/html": [
              "<div>\n",
              "<style scoped>\n",
              "    .dataframe tbody tr th:only-of-type {\n",
              "        vertical-align: middle;\n",
              "    }\n",
              "\n",
              "    .dataframe tbody tr th {\n",
              "        vertical-align: top;\n",
              "    }\n",
              "\n",
              "    .dataframe thead th {\n",
              "        text-align: right;\n",
              "    }\n",
              "</style>\n",
              "<table border=\"1\" class=\"dataframe\">\n",
              "  <thead>\n",
              "    <tr style=\"text-align: right;\">\n",
              "      <th></th>\n",
              "      <th>payment_mode</th>\n",
              "      <th>Jumlah payment_mode</th>\n",
              "      <th>Persentase</th>\n",
              "    </tr>\n",
              "  </thead>\n",
              "  <tbody>\n",
              "    <tr>\n",
              "      <th>0</th>\n",
              "      <td>1</td>\n",
              "      <td>7592</td>\n",
              "      <td>77.72</td>\n",
              "    </tr>\n",
              "    <tr>\n",
              "      <th>1</th>\n",
              "      <td>2</td>\n",
              "      <td>1600</td>\n",
              "      <td>16.38</td>\n",
              "    </tr>\n",
              "    <tr>\n",
              "      <th>2</th>\n",
              "      <td>3</td>\n",
              "      <td>92</td>\n",
              "      <td>0.94</td>\n",
              "    </tr>\n",
              "    <tr>\n",
              "      <th>3</th>\n",
              "      <td>4</td>\n",
              "      <td>455</td>\n",
              "      <td>4.66</td>\n",
              "    </tr>\n",
              "    <tr>\n",
              "      <th>4</th>\n",
              "      <td>5</td>\n",
              "      <td>29</td>\n",
              "      <td>0.30</td>\n",
              "    </tr>\n",
              "  </tbody>\n",
              "</table>\n",
              "</div>"
            ],
            "text/plain": [
              "   payment_mode  Jumlah payment_mode  Persentase\n",
              "0             1                 7592       77.72\n",
              "1             2                 1600       16.38\n",
              "2             3                   92        0.94\n",
              "3             4                  455        4.66\n",
              "4             5                   29        0.30"
            ]
          },
          "metadata": {},
          "execution_count": 46
        }
      ]
    },
    {
      "cell_type": "code",
      "source": [
        "# Visualisasi Pie Chart DataFrame 3 - Sebaran dan Persentase Mode Pembayaran di Restoran\n",
        "labels = '1', '2', '3', '4', '5'\n",
        "sizes = [77.72, 16.38, 0.94, 4.66, 0.30]\n",
        "explode = (0, 0, 0.2, 0, 0.3)  # hanya \"meruncing\" pada irisan ke-2 dan ke-5 (yaitu '2' dan '3')\n",
        "\n",
        "fig1, ax1 = plt.subplots()\n",
        "ax1.pie(sizes, explode=explode, labels=labels, autopct='%1.1f%%',\n",
        "        shadow=True, startangle=90)\n",
        "ax1.axis('equal')  # Equal aspect ratio memastikan bahwa pie chart digambar sebagai lingkaran.\n",
        "\n",
        "plt.show()"
      ],
      "metadata": {
        "colab": {
          "base_uri": "https://localhost:8080/",
          "height": 252
        },
        "id": "Ske6mv5asAXY",
        "outputId": "bad7fc16-1a49-4615-ea9a-9c83917f4835"
      },
      "execution_count": 47,
      "outputs": [
        {
          "output_type": "display_data",
          "data": {
            "image/png": "[encoded data removed]",
            "text/plain": [
              "<Figure size 432x288 with 1 Axes>"
            ]
          },
          "metadata": {}
        }
      ]
    },
    {
      "cell_type": "markdown",
      "source": [
        "Interpretasi: Dari hasil analisis data diatas, dapat diketahui bahwa 2 mode pembayaran yang paling banyak digunakan oleh *customer* di Restoran ini adalah mode pembayaran 1 dengan persentase sebesar 77,7% dan mode pembayaran 2 dengan persentase sebesar 16,4%. Sisanya mode pembayaran 3, mode pembayaran 4, dan mode pembayaran 5 memiliki tingkat penggunaan yang lebih sedikit di kalangan *customer* di Restoran ini."
      ],
      "metadata": {
        "id": "m2c-WA62MAgS"
      }
    },
    {
      "cell_type": "markdown",
      "source": [
        "### Analisis Data untuk Menjawab *Problem Statement* Ketiga"
      ],
      "metadata": {
        "id": "Zkco1YYo18x8"
      }
    },
    {
      "cell_type": "markdown",
      "source": [
        "#### Pencarian Sebaran Data serta Pengelompokkannya"
      ],
      "metadata": {
        "id": "RXpmOnsntYm_"
      }
    },
    {
      "cell_type": "code",
      "source": [
        "# Mencari jumlah vendor yang biaya pengirimannya paling murah\n",
        "pd.read_sql_query(\"\"\"\n",
        "                    SELECT \n",
        "                        delivery_charge, COUNT (delivery_charge)\n",
        "                    FROM Vendors\n",
        "                    GROUP BY delivery_charge\n",
        "                  \"\"\", conn)"
      ],
      "metadata": {
        "id": "b5ns0Vs52V1A",
        "colab": {
          "base_uri": "https://localhost:8080/",
          "height": 112
        },
        "outputId": "50bdb303-eb12-4cee-a81b-80f1e4f58b4d"
      },
      "execution_count": 48,
      "outputs": [
        {
          "output_type": "execute_result",
          "data": {
            "text/html": [
              "<div>\n",
              "<style scoped>\n",
              "    .dataframe tbody tr th:only-of-type {\n",
              "        vertical-align: middle;\n",
              "    }\n",
              "\n",
              "    .dataframe tbody tr th {\n",
              "        vertical-align: top;\n",
              "    }\n",
              "\n",
              "    .dataframe thead th {\n",
              "        text-align: right;\n",
              "    }\n",
              "</style>\n",
              "<table border=\"1\" class=\"dataframe\">\n",
              "  <thead>\n",
              "    <tr style=\"text-align: right;\">\n",
              "      <th></th>\n",
              "      <th>delivery_charge</th>\n",
              "      <th>COUNT (delivery_charge)</th>\n",
              "    </tr>\n",
              "  </thead>\n",
              "  <tbody>\n",
              "    <tr>\n",
              "      <th>0</th>\n",
              "      <td>0.0</td>\n",
              "      <td>41</td>\n",
              "    </tr>\n",
              "    <tr>\n",
              "      <th>1</th>\n",
              "      <td>0.7</td>\n",
              "      <td>59</td>\n",
              "    </tr>\n",
              "  </tbody>\n",
              "</table>\n",
              "</div>"
            ],
            "text/plain": [
              "   delivery_charge  COUNT (delivery_charge)\n",
              "0              0.0                       41\n",
              "1              0.7                       59"
            ]
          },
          "metadata": {},
          "execution_count": 48
        }
      ]
    },
    {
      "cell_type": "markdown",
      "source": [
        "#### Pembuatan Data Frame dan Visualisasi Data"
      ],
      "metadata": {
        "id": "39vSJaN1tqrW"
      }
    },
    {
      "cell_type": "code",
      "source": [
        "# inisialisasi data dictionary 4\n",
        "data4 = { 'delivery_charge' : [0.0, 0.7],\n",
        " 'Jumlah delivery_charge' : [41, 59],\n",
        " 'Persentase' : [41, 59],\n",
        " }"
      ],
      "metadata": {
        "id": "cwl4ns_6tuLx"
      },
      "execution_count": 49,
      "outputs": []
    },
    {
      "cell_type": "code",
      "source": [
        "# converting dictionary to DataFrame 3 - Sebaran dan Persentase Biaya Pengiriman Vendor di Restoran\n",
        "df = pd.DataFrame(data4)\n",
        "df"
      ],
      "metadata": {
        "colab": {
          "base_uri": "https://localhost:8080/",
          "height": 112
        },
        "id": "HxDCnZELtyEG",
        "outputId": "53f4e344-ca7a-401d-e323-4cef55e468fb"
      },
      "execution_count": 50,
      "outputs": [
        {
          "output_type": "execute_result",
          "data": {
            "text/html": [
              "<div>\n",
              "<style scoped>\n",
              "    .dataframe tbody tr th:only-of-type {\n",
              "        vertical-align: middle;\n",
              "    }\n",
              "\n",
              "    .dataframe tbody tr th {\n",
              "        vertical-align: top;\n",
              "    }\n",
              "\n",
              "    .dataframe thead th {\n",
              "        text-align: right;\n",
              "    }\n",
              "</style>\n",
              "<table border=\"1\" class=\"dataframe\">\n",
              "  <thead>\n",
              "    <tr style=\"text-align: right;\">\n",
              "      <th></th>\n",
              "      <th>delivery_charge</th>\n",
              "      <th>Jumlah delivery_charge</th>\n",
              "      <th>Persentase</th>\n",
              "    </tr>\n",
              "  </thead>\n",
              "  <tbody>\n",
              "    <tr>\n",
              "      <th>0</th>\n",
              "      <td>0.0</td>\n",
              "      <td>41</td>\n",
              "      <td>41</td>\n",
              "    </tr>\n",
              "    <tr>\n",
              "      <th>1</th>\n",
              "      <td>0.7</td>\n",
              "      <td>59</td>\n",
              "      <td>59</td>\n",
              "    </tr>\n",
              "  </tbody>\n",
              "</table>\n",
              "</div>"
            ],
            "text/plain": [
              "   delivery_charge  Jumlah delivery_charge  Persentase\n",
              "0              0.0                      41          41\n",
              "1              0.7                      59          59"
            ]
          },
          "metadata": {},
          "execution_count": 50
        }
      ]
    },
    {
      "cell_type": "code",
      "source": [
        "# Visualisasi Pie Chart DataFrame 3 - Sebaran dan Persentase Biaya Pengiriman Vendor di Restoran\n",
        "labels = '0.0', '0.7'\n",
        "sizes = [41, 59]\n",
        "explode = (0, 0)\n",
        "\n",
        "fig1, ax1 = plt.subplots()\n",
        "ax1.pie(sizes, explode=explode, labels=labels, autopct='%1.1f%%',\n",
        "        shadow=True, startangle=90)\n",
        "ax1.axis('equal')  # Equal aspect ratio ensures that pie is drawn as a circle.\n",
        "\n",
        "plt.show()"
      ],
      "metadata": {
        "colab": {
          "base_uri": "https://localhost:8080/",
          "height": 248
        },
        "id": "bru2McSst_BJ",
        "outputId": "c5dd1d13-60a5-417c-8406-b8b2a47dfc5d"
      },
      "execution_count": 51,
      "outputs": [
        {
          "output_type": "display_data",
          "data": {
            "image/png": "[encoded data removed]",
            "text/plain": [
              "<Figure size 432x288 with 1 Axes>"
            ]
          },
          "metadata": {}
        }
      ]
    },
    {
      "cell_type": "markdown",
      "source": [
        "Interpretasi: Dari hasil analisis data diatas, dapat diketahui terdapat sebanyak 41 vendor yang nilai biaya pengirimannya 0.0 sementara 59 vendor sisanya mematok biaya pengiriman sebesar 0.7"
      ],
      "metadata": {
        "id": "J078VaNENS1T"
      }
    },
    {
      "cell_type": "markdown",
      "source": [
        "### Close Connection"
      ],
      "metadata": {
        "id": "ly2IZORoNUhp"
      }
    },
    {
      "cell_type": "code",
      "metadata": {
        "id": "AayCOMwWmVYc"
      },
      "source": [
        "# Menutup connection ke database apabila database telah selesai digunakan.\n",
        "conn.close()"
      ],
      "execution_count": 52,
      "outputs": []
    },
    {
      "cell_type": "markdown",
      "source": [
        "## DISCUSSION"
      ],
      "metadata": {
        "id": "SQthRuHZuxpi"
      }
    },
    {
      "cell_type": "markdown",
      "source": [
        "#### 1.Segmentasi Pasar Demogafis dari Responden di Restoran ini\n",
        "1.1. Segmentasi Generasi\n",
        "\n",
        "Dari hasil analisis data, dapat diketahui bahwa generasi Z dan generasi Milenial mendominasi segmentasi demografi generasi *customer* di Restoran ini dengan besaran persentase secara berturut-turut 67,6% dan 31,4%. Disamping itu, segmen minoritas dari generasi *customer* di Restoran ini berasal dari generasi X dan generasi Baby Boomer dengan besaran persentase secara berturut-turut 0,97% dan 0,02%.\n",
        "\n",
        "Hasil analisis data tersebut mendekati hasil penelitian Karo dan Hamonangan (2021) yang mana jumlah sampel responden Restoran di Kota Pagar Alam jika diakumulasikan menjadi berkisar 97 persen lebih adalah generasi Z dan generasi Milenial. Jika dicoba temukan irisannya, bahwa pada kedua generasi tersebut,sama-sama terdiri atas mayoritas individu yang sangat akrab dengan perkembangan teknologi, tentunya ini juga berdampak pada pola berwisata maupun pola konsumsi. \n",
        "\n",
        "Berbeda dengan generasi X dan Baby Boomer, Menurut Hensley (2000) dalam Tjandra, Nathania dan Kristanti (2015) konsumen dari kelompok usia tua cenderung bersantap di restoran sebagai kesempatan untuk bersosialisasi dengan keluarga maupun kerabat sembari menikmati suasana restoran yang didesain sesuai dengan tema atau konsep dari restoran tersebut.\n",
        "\n",
        "1.2. Segmentasi Gender\n",
        "\n",
        "Dari hasil analisis data, dapat diketahui gender Pria mendominasi segmentasi demografi gender di Restoran ini dengan persentase sebesar 59,4%. Reiboldt dalam Ngai *et al.* (2007) mengindikasikan bahwa *customer* Pria lebih memungkinkan untuk menyampaikan keluhannya dibandingkan dengan *customer* Wanita. Pihak Manajemen Restoran perlu sigap dan cepat dalam merespons keluhan dari *customer* Pria untuk meningkatkan kepuasan atas produk dan layanan dari Restoran namun, pihak Manajemen Restoran juga perlu mengimplementasikan survei sederhana menggunakan kotak kritik dan saran guna memfasilitasi keluhan dan meningkatkan kepuasan dari *customer* Wanita."
      ],
      "metadata": {
        "id": "jH5I3LM0k2LI"
      }
    },
    {
      "cell_type": "markdown",
      "source": [
        "### **Contoh Gambar Kotak Kepuasan**\n",
        "![7913770_14abe562-57df-41bd-986f-e164a6b46619_640_640.jpg](data:image/jpeg;base64,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)\n",
        "\n",
        "Sumber: kingsley_akrilik (tanpa tanggal)"
      ],
      "metadata": {
        "id": "ZMCkmv1SmJb2"
      }
    },
    {
      "cell_type": "markdown",
      "source": [
        "#### 2.Mode Pembayaran pada Restoran Ini\n",
        "Dari hasil analisis data , dapat diketahui bahwa 2 mode pembayaran yang paling banyak digunakan oleh *customer* di Restoran ini adalah mode pembayaran 1 dan mode pembayaran 2. Mode pembayaran 1 dan mode pembayaran 2 perlu mendapatkan perhatian khusus dan peningkatan kualitas layanannya.\n",
        "\n",
        "Disamping itu restoran ini juga perlu mempertahankan dan me-*maintain* sisa 3 mode pembayaran lainnya sebab, hasil penelitian Purnama dan Pralina (2016) menunjukkan bahwa dari keputusan pembelian di Restoran The Centrum Bandung dipengaruhi oleh variabel pilihan produk, pilihan merek, pilihan penyalur, waktu pembelian, jumlah pembelian, dan metode pembayaran. Dimana metode pembayaran mendapatkan penilaian tertinggi karena memiliki keberagaman dalam pilihan pembayaran dan responden juga merasakan kemudahan saat melakukan pembayaran.\n",
        "\n",
        "\n",
        "#### 3.Strategi *Procurement* yang Dapat Diimplementasikan pada Restoran Ini\n",
        "Dari hasil analisis data, dapat diketahui terdapat sebanyak 41 vendor yang nilai biaya pengirimannya 0.0 sementara 59 vendor sisanya mematok biaya pengiriman sebesar 0.7. Berdasarkan Matriks Kraljic (Schmidt, tanpa tanggal a): \n",
        "- 41 vendor yang nilai biaya pengirimannya 0.0 ini termasuk dalam kategori *leverage supplier*. Tipe *leverage supplier* ini menghasilkan dampak keuangan yang tinggi namun risikonya rendah. Strategi *procurement* untuk vendor tipe *leverage supplier* adalah melakukan *competitive bidding* guna mengoptimalkan keuntungan bagi Restoran.\n",
        "- 59 vendor sisanya yang mematok biaya pengiriman sebesar 0.7 termasuk dalam dalam kategori *strategic supplier* Tipe *strategic supplier* ini merupakan *supplier* yang berisiko tinggi dan berbiaya tinggi. Hal ini berlaku untuk *supplier* yang sangat diandalkan oleh perusahaan. Strategi *procurement* untuk vendor tipe *strategic supplier* adalah melakukan *partnership* guna mengoptimalkan keuntungan bagi Restoran."
      ],
      "metadata": {
        "id": "EHjYvRbgxiWe"
      }
    },
    {
      "cell_type": "markdown",
      "source": [
        "### **Gambar Implementasi Empat Strategi Pengadaan dalam Kraljic’s Portfolio Purchasing Model**\n",
        "\n",
        "![Kraljic_purch_model_2.png](data:image/png;base64,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)\n",
        "\n",
        "Sumber: Sumber: Schmidt (tanpa tanggal b)"
      ],
      "metadata": {
        "id": "UC0h2tgW9BWK"
      }
    },
    {
      "cell_type": "markdown",
      "metadata": {
        "id": "EVYEbWFcLFm5"
      },
      "source": [
        "## REKOMENDASI"
      ]
    },
    {
      "cell_type": "markdown",
      "source": [
        "#### 1.Rekomendasi Terkait Segmentasi Demografis\n",
        "1.1.Rekomendasi Terkait Segmentasi Demografis Generasi\n",
        "\n",
        "- *Customer* generasi Z dan Milenial tersebut,sama-sama terdiri atas mayoritas individu yang sangat akrab dengan perkembangan teknologi, tentunya ini juga berdampak pada pola berwisata maupun pola konsumsi. Generasi Z dan generasi Milenial mendominasi segmentasi demografi generasi *customer* di Restoran ini dengan besaran persentase secara berturut-turut 67,6% dan 31,4%. Oleh itu saya merekomendasikan bagi Pihak Manajemen Restoran ini untuk membangun *e-commerce* usaha restoran, cara paling sederhana adalah melakukan kolaborasi dengan *platform online* yang telah beroperasional terlebih dahulu. Strategi ini digunakan untuk memperkecil *gap* antara perusahaan dengan target pasar restoran (Karo dan Hamonangan, 2021).\n",
        "- Dalam melayani dan meningkatkan kepuasan bagi segmen *customer* minoritas yaitu generasi X dan Baby Boomer, menurut Hensley (2000) dalam Tjandra, Nathania dan Kristanti (2015) perlu didesain suasana restoran yang sesuai dengan tema atau konsep dari restoran tersebut yang akan digunakan untuk bersosialisasi dengan keluarga maupun kerabat.\n",
        "\n",
        "1.2.Rekomendasi Terkait Segmentasi Demografis Gender\n",
        "\n",
        "- Saya merekomendasikan bagi Pihak Manajemen Restoran agar sigap dan cepat dalam merespons keluhan dari *customer* Pria untuk meningkatkan kepuasan atas produk dan layanan dari Restoran.\n",
        "- Pihak Manajemen Restoran juga perlu mengimplementasikan survei sederhana menggunakan kotak kritik dan saran guna memfasilitasi keluhan dan meningkatkan kepuasan dari *customer* Wanita yang pola perilakunya lebih pasif dalam menyampaikan keluhan atas suatu produk dan layanan.\n",
        "\n",
        "#### 2.Rekomendasi Terkait Mode Pembayaran\n",
        "Menurut Wood (2017) pada waktu atau tempat pembelian, *customer* mungkin memerlukan bantuan dalam menguji produk, melengkapi dokumen untuk transaksi, mengatur pengiriman atau pengambilan, mengatur metode atau persyaratan pembayaran, memanfaatkan promosi yang berhubungan dengan pembelian, atau *purchase-related service tasks*. Sehingga untuk meningkatan kepuasan *customer* Restoran ini perlu melakukan inovasi, mengoptimalkan, dan menambah mode pembayaran di Restoran ini. Disamping itu, mode pembayaran 1 dan mode pembayaran 2 di Restoran ini juga perlu mendapatkan perhatian khusus dan peningkatan kualitas layanannya.\n",
        "\n",
        "#### 3.Rekomendasi terkait Strategi *Procurement* yang Dapat Diimplementasikan pada Restoran Ini\n",
        "Saya merekomendasikan strategi *procurement* bagi Restoran sebagai berikut:\n",
        "- Strategi *procurement* untuk 41 vendor yang nilai biaya pengirimannya 0.0 (vendor bertipe *leverage supplier*) adalah melakukan *competitive bidding* guna mengoptimalkan keuntungan bagi Restoran.\n",
        "- Strategi *procurement* untuk 59 vendor sisanya yang mematok biaya pengiriman sebesar 0.7 (vendor bertipe *strategic supplier*) adalah dengan melakukan *partnership* guna mengoptimalkan keuntungan bagi Restoran."
      ],
      "metadata": {
        "id": "qput6Vv3xhQ9"
      }
    },
    {
      "cell_type": "markdown",
      "metadata": {
        "id": "uKCnqg6VKn8P"
      },
      "source": [
        "## KESIMPULAN - Create the story"
      ]
    },
    {
      "cell_type": "markdown",
      "source": [
        "Dari hasil analisis deskriptif pada data, dapat diketahui bahwa: \n",
        "- Generasi Z dan generasi Milenial mendominasi segmentasi demografi generasi *customer* di Restoran ini sementara, segmen minoritas dari generasi *customer* di Restoran ini berasal dari generasi X dan generasi Baby Boomer.\n",
        "- Gender Pria mendominasi segmentasi demografi gender di Restoran ini sementara, segmen gender yang lebih kecil di Restoran ini berasal dari gender Wanita.\n",
        "- 2 mode pembayaran yang paling banyak digunakan oleh *customer* di Restoran ini adalah mode pembayaran 1 dengan persentase sebesar 77,7% dan mode pembayaran 2 dengan persentase sebesar 16,4%. Sisanya mode pembayaran 3, mode pembayaran 4, dan mode pembayaran 5 memiliki tingkat penggunaan yang lebih sedikit di kalangan *customer* di Restoran ini.\n",
        "- Terdapat sebanyak 41 vendor bertipe *leverage supplier* yang nilai biaya pengirimannya 0.0 sementara 59 vendor sisanya mematok biaya pengiriman sebesar 0.7 merupakan vendor bertipe *strategic supplier*.\n",
        "\n",
        "Hasil analisis deskriptif tersebut tentunya perlu diformulasikan dengan tepat agar menghasilkan kebijakan bisnis yang menguntungkan. Penyusun telah menguraikan pembahasan dan rekomendasi strategi bisnis berdasarkan hasil *exploratory data* pada bagian sebelumnya. Pihak restoran diharapkan dapat segera mengimplementasikan kebijakan dari hasil analisis, pembahasan, dan rekomendasi penyusun pada *capstone project *ini guna mendapatkan manfaat bisnis yang optimal."
      ],
      "metadata": {
        "id": "-jsn_WbxxfHl"
      }
    },
    {
      "cell_type": "markdown",
      "source": [
        "## REFERENSI"
      ],
      "metadata": {
        "id": "XvY2xAcV4o3u"
      }
    },
    {
      "cell_type": "markdown",
      "source": [
        "Adi, D. E. dan Pujotomo, D. (2017) “Penggunaan Kraljic ’ s Purchasing Portfolio Model Dalam Perancangan Strategi Pengadaan Bahan Baku Pada PT Masscoom Graphy,” *Ejournal Undip,* 6(3). Tersedia pada: https://ejournal3.undip.ac.id/index.php/ieoj/article/viewFile/16857/16192.\n",
        "\n",
        "Karo, P. K. dan Hamonangan, S. (2021) “Analisis Strategi Pemasaran Restoran Menghadapi Masa Pandemi Covid 19 Di Kota Pagar Alam,” *Jurnal Sains Sosio Humaniora,* 5(1), hal. 396–408. doi: 10.22437/jssh.v5i1.14152.\n",
        "\n",
        "kingsley_akrilik (tanpa tanggal) “kotak saran 4skat + tempat koin.” Kebumen: Tokopedia. Tersedia pada: https://www.tokopedia.com/kingsleyakrilik/kotak-saran-4skat-tempat-koin.\n",
        "\n",
        "Kotler, P. dan Keller, K. L. (2012) *Marketing Management.* 14 ed. Diedit oleh S. Yagan et al. Bergen: Prentice Hall.\n",
        "\n",
        "Kotler, P. dan Keller, K. L. (2016) *Marketing Management: Global Edition.* 15 ed. Diedit oleh S. Wall et al. Harlow: Pearson Education Limited.\n",
        "\n",
        "Mind Tools Content Team (tanpa tanggal) *The Kraljic Portfolio Purchasing Model Assessing Risk and Maximizing Profits, MindTools.* Tersedia pada: https://www.mindtools.com/pages/article/newSTR_49.htm (Diakses: 10 Desember 2021).\n",
        "\n",
        "Ngai, E. W. T. et al. (2007) “Consumer complaint behaviour of Asians and non-Asians about hotel services: An empirical analysis,” *European Journal of Marketing,* 41(11–12), hal. 1375–1391. doi: 10.1108/03090560710821224.\n",
        "\n",
        "Purnama, R. dan Pralina, A. R. (2016) “Pengaruh Direct Marketing Terhadap Keputusan Pembelian Di Restoran the Centrum Bandung,” *THE Journal : Tourism and Hospitality Essentials Journal,* 6(1), hal. 973. doi: 10.17509/thej.v6i1.2008.\n",
        "\n",
        "Schmidt, T. (tanpa tanggal a) “Figure 1 Kraljic’s Portfolio Purchasing Model.” ProcureWare. Tersedia pada: https://www.procureware.com/suppliers-management-strategies/.\n",
        "\n",
        "Schmidt, T. (tanpa tanggal b) “Figure 2 Applying the four procurement strategies in Kraljic’s Portfolio Purchasing Model.” ProcureWare. Tersedia pada: https://www.procureware.com/suppliers-management-strategies/.\n",
        "\n",
        "Tjandra, C., Nathania, C. dan Kristanti, M. (2015) “Analisa Meal Experience dan Pengaruhnya Terhadap Minat Beli Ulang di Restoran Jepangdi Surabaya,” *Hospitality dan Manajemen Jasa,* 3(1), hal. 66–81. Tersedia pada: http://publication.petra.ac.id/index.php/manajemen-perhotelan/article/view/2829.\n",
        "\n",
        "Wijaya, S. dan Chandra, G. A. (2006) “Analisa Segmentasi Penentuan Target Dan Posisi Pasar Pada Restoran Steak Dan Grill Di Surabaya,” *Jurnal Manajemen Perhotelan,* 2(2), hal. 76–85. Tersedia pada: http://puslit2.petra.ac.id/ejournal/index.php/hot/article/view/16513.\n",
        "\n",
        "Wood, M. B. (2017) *Essential Guide to Marketing Planning.* 4 ed. Harlow: Pearson Education Limited.\n"
      ],
      "metadata": {
        "id": "W-OmxtO14xB-"
      }
    }
  ]
}